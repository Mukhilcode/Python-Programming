{
 "cells": [
  {
   "cell_type": "code",
   "execution_count": 5,
   "id": "31872641",
   "metadata": {},
   "outputs": [
    {
     "name": "stdout",
     "output_type": "stream",
     "text": [
      "this is a valid stmt\n"
     ]
    }
   ],
   "source": [
    "a=10\n",
    "b=20\n",
    "\n",
    "if a==10 or b>20:\n",
    "    print(\"this is a valid stmt\")\n",
    "elif a==10 and b<20:\n",
    "    print(\"this statement is valid elif\")\n",
    "else:\n",
    "    print(\"condition is not valid\")"
   ]
  },
  {
   "cell_type": "code",
   "execution_count": 2,
   "id": "bb4e05b8",
   "metadata": {},
   "outputs": [
    {
     "data": {
      "text/plain": [
       "True"
      ]
     },
     "execution_count": 2,
     "metadata": {},
     "output_type": "execute_result"
    }
   ],
   "source": [
    "a==10 and b==20\n"
   ]
  },
  {
   "cell_type": "code",
   "execution_count": 7,
   "id": "4df47ca2",
   "metadata": {},
   "outputs": [
    {
     "name": "stdout",
     "output_type": "stream",
     "text": [
      "enter the first name: mukhil\n",
      "enter the last name: rajendran\n",
      "correct answer\n"
     ]
    }
   ],
   "source": [
    "# task\n",
    "# take input from keyboard as ur first and last name\n",
    "# and try to validate of write multiple condition by urself\n",
    "a=input(\"enter the first name: \")\n",
    "b=input(\"enter the last name: \")\n",
    "if a==\"mukhil\" and b==\"rajendran\":\n",
    "    print(\"correct answer\")\n",
    "else:\n",
    "    print(\"incorrect name\")"
   ]
  },
  {
   "cell_type": "code",
   "execution_count": 12,
   "id": "542d8188",
   "metadata": {},
   "outputs": [
    {
     "name": "stdout",
     "output_type": "stream",
     "text": [
      "while statement\n",
      "while statement\n",
      "while statement\n",
      "while statement\n"
     ]
    }
   ],
   "source": [
    "#while statement\n",
    "intial_speed=0\n",
    "final_speed=100\n",
    "count=1\n",
    "while intial_speed<final_speed:\n",
    "    print(\"while statement\")\n",
    "    count=count+1\n",
    "    if count==5:\n",
    "        break  #break stmt ends the loop condition"
   ]
  },
  {
   "cell_type": "code",
   "execution_count": 14,
   "id": "b5fe495d",
   "metadata": {},
   "outputs": [
    {
     "name": "stdout",
     "output_type": "stream",
     "text": [
      "1\n",
      "2\n",
      "3\n",
      "4\n"
     ]
    }
   ],
   "source": [
    "i=1\n",
    "j=5\n",
    "while i<j:\n",
    "    print(i)\n",
    "    i=i+1"
   ]
  },
  {
   "cell_type": "code",
   "execution_count": null,
   "id": "c817d151",
   "metadata": {},
   "outputs": [],
   "source": [
    " "
   ]
  }
 ],
 "metadata": {
  "kernelspec": {
   "display_name": "Python 3",
   "language": "python",
   "name": "python3"
  },
  "language_info": {
   "codemirror_mode": {
    "name": "ipython",
    "version": 3
   },
   "file_extension": ".py",
   "mimetype": "text/x-python",
   "name": "python",
   "nbconvert_exporter": "python",
   "pygments_lexer": "ipython3",
   "version": "3.8.8"
  }
 },
 "nbformat": 4,
 "nbformat_minor": 5
}
