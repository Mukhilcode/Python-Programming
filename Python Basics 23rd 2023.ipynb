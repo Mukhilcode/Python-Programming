{
 "cells": [
  {
   "cell_type": "code",
   "execution_count": 1,
   "id": "aea3d1ce",
   "metadata": {},
   "outputs": [
    {
     "name": "stdout",
     "output_type": "stream",
     "text": [
      "this is my first python program\n"
     ]
    }
   ],
   "source": [
    "print(\"this is my first python program\")"
   ]
  },
  {
   "cell_type": "code",
   "execution_count": 1,
   "id": "c25b74b4",
   "metadata": {},
   "outputs": [],
   "source": [
    "#my name is mukhil"
   ]
  },
  {
   "cell_type": "code",
   "execution_count": 5,
   "id": "94754dda",
   "metadata": {},
   "outputs": [],
   "source": [
    "a=10"
   ]
  },
  {
   "cell_type": "code",
   "execution_count": 6,
   "id": "c1234e9d",
   "metadata": {},
   "outputs": [
    {
     "data": {
      "text/plain": [
       "10"
      ]
     },
     "execution_count": 6,
     "metadata": {},
     "output_type": "execute_result"
    }
   ],
   "source": [
    "a"
   ]
  },
  {
   "cell_type": "code",
   "execution_count": 10,
   "id": "fa8d18a8",
   "metadata": {},
   "outputs": [
    {
     "data": {
      "text/plain": [
       "int"
      ]
     },
     "execution_count": 10,
     "metadata": {},
     "output_type": "execute_result"
    }
   ],
   "source": [
    "# to identify the type of data type\n",
    "type(a)"
   ]
  },
  {
   "cell_type": "code",
   "execution_count": 11,
   "id": "460d8eee",
   "metadata": {},
   "outputs": [],
   "source": [
    "# python automatically detects the datatype on its own\n",
    "b=\"mukhil\""
   ]
  },
  {
   "cell_type": "code",
   "execution_count": 12,
   "id": "ad3b18ef",
   "metadata": {},
   "outputs": [
    {
     "data": {
      "text/plain": [
       "str"
      ]
     },
     "execution_count": 12,
     "metadata": {},
     "output_type": "execute_result"
    }
   ],
   "source": [
    "type(b)"
   ]
  },
  {
   "cell_type": "code",
   "execution_count": 14,
   "id": "2a315d10",
   "metadata": {},
   "outputs": [
    {
     "name": "stdout",
     "output_type": "stream",
     "text": [
      "10 mukhil\n"
     ]
    }
   ],
   "source": [
    "# can print multiple things\n",
    "print(a,b)"
   ]
  },
  {
   "cell_type": "code",
   "execution_count": 16,
   "id": "9cb915ed",
   "metadata": {},
   "outputs": [],
   "source": [
    "a,b,c=45,\"khil\", 'what is your name'"
   ]
  },
  {
   "cell_type": "code",
   "execution_count": 22,
   "id": "7353800f",
   "metadata": {},
   "outputs": [
    {
     "data": {
      "text/plain": [
       "int"
      ]
     },
     "execution_count": 22,
     "metadata": {},
     "output_type": "execute_result"
    }
   ],
   "source": [
    "type(a)"
   ]
  },
  {
   "cell_type": "code",
   "execution_count": 29,
   "id": "ad05563d",
   "metadata": {},
   "outputs": [],
   "source": [
    "b=3435"
   ]
  },
  {
   "cell_type": "code",
   "execution_count": 30,
   "id": "8f5e2a19",
   "metadata": {},
   "outputs": [],
   "source": [
    "a=3.4545"
   ]
  },
  {
   "cell_type": "code",
   "execution_count": 31,
   "id": "121985c4",
   "metadata": {},
   "outputs": [
    {
     "data": {
      "text/plain": [
       "float"
      ]
     },
     "execution_count": 31,
     "metadata": {},
     "output_type": "execute_result"
    }
   ],
   "source": [
    "type(a)"
   ]
  },
  {
   "cell_type": "code",
   "execution_count": 32,
   "id": "b8caa55c",
   "metadata": {},
   "outputs": [],
   "source": [
    "c=True\n",
    "d=False"
   ]
  },
  {
   "cell_type": "code",
   "execution_count": 33,
   "id": "a0b01ad7",
   "metadata": {},
   "outputs": [
    {
     "data": {
      "text/plain": [
       "bool"
      ]
     },
     "execution_count": 33,
     "metadata": {},
     "output_type": "execute_result"
    }
   ],
   "source": [
    "type(c)"
   ]
  },
  {
   "cell_type": "code",
   "execution_count": 37,
   "id": "7abfb241",
   "metadata": {},
   "outputs": [
    {
     "name": "stdout",
     "output_type": "stream",
     "text": [
      "4\n"
     ]
    }
   ],
   "source": [
    "print(True+True+True+False+True)"
   ]
  },
  {
   "cell_type": "code",
   "execution_count": 38,
   "id": "7dc7a682",
   "metadata": {},
   "outputs": [
    {
     "name": "stdout",
     "output_type": "stream",
     "text": [
      "0\n"
     ]
    }
   ],
   "source": [
    "print(False-True+True)"
   ]
  },
  {
   "cell_type": "code",
   "execution_count": 40,
   "id": "8dd0c1dd",
   "metadata": {},
   "outputs": [
    {
     "ename": "ZeroDivisionError",
     "evalue": "division by zero",
     "output_type": "error",
     "traceback": [
      "\u001b[1;31m---------------------------------------------------------------------------\u001b[0m",
      "\u001b[1;31mZeroDivisionError\u001b[0m                         Traceback (most recent call last)",
      "\u001b[1;32m<ipython-input-40-f64d1295bbce>\u001b[0m in \u001b[0;36m<module>\u001b[1;34m\u001b[0m\n\u001b[1;32m----> 1\u001b[1;33m \u001b[1;32mTrue\u001b[0m\u001b[1;33m/\u001b[0m\u001b[1;32mFalse\u001b[0m\u001b[1;33m\u001b[0m\u001b[1;33m\u001b[0m\u001b[0m\n\u001b[0m",
      "\u001b[1;31mZeroDivisionError\u001b[0m: division by zero"
     ]
    }
   ],
   "source": [
    "True/False"
   ]
  },
  {
   "cell_type": "code",
   "execution_count": 43,
   "id": "d97ecffe",
   "metadata": {},
   "outputs": [],
   "source": [
    "#Complex number \n",
    "n=45+6j"
   ]
  },
  {
   "cell_type": "code",
   "execution_count": 44,
   "id": "6a3d56b9",
   "metadata": {},
   "outputs": [
    {
     "data": {
      "text/plain": [
       "complex"
      ]
     },
     "execution_count": 44,
     "metadata": {},
     "output_type": "execute_result"
    }
   ],
   "source": [
    "type(n)"
   ]
  },
  {
   "cell_type": "code",
   "execution_count": 45,
   "id": "4ef50b74",
   "metadata": {},
   "outputs": [
    {
     "data": {
      "text/plain": [
       "45.0"
      ]
     },
     "execution_count": 45,
     "metadata": {},
     "output_type": "execute_result"
    }
   ],
   "source": [
    "n.real"
   ]
  },
  {
   "cell_type": "code",
   "execution_count": 49,
   "id": "4dd2a782",
   "metadata": {},
   "outputs": [
    {
     "data": {
      "text/plain": [
       "6.0"
      ]
     },
     "execution_count": 49,
     "metadata": {},
     "output_type": "execute_result"
    }
   ],
   "source": [
    "n.imag"
   ]
  },
  {
   "cell_type": "code",
   "execution_count": 53,
   "id": "372cebff",
   "metadata": {},
   "outputs": [
    {
     "data": {
      "text/plain": [
       "'1kjil'"
      ]
     },
     "execution_count": 53,
     "metadata": {},
     "output_type": "execute_result"
    }
   ],
   "source": [
    "#typecasting or strong typing\n",
    "str(1)+\"kjil\""
   ]
  },
  {
   "cell_type": "code",
   "execution_count": 55,
   "id": "3a3273e3",
   "metadata": {},
   "outputs": [
    {
     "data": {
      "text/plain": [
       "5.3"
      ]
     },
     "execution_count": 55,
     "metadata": {},
     "output_type": "execute_result"
    }
   ],
   "source": [
    "#upcasting as int is changed to float\n",
    "#as float take more memory space than int\n",
    "1+4.3"
   ]
  },
  {
   "cell_type": "code",
   "execution_count": 56,
   "id": "8f30e601",
   "metadata": {},
   "outputs": [
    {
     "data": {
      "text/plain": [
       "'jilllillhill'"
      ]
     },
     "execution_count": 56,
     "metadata": {},
     "output_type": "execute_result"
    }
   ],
   "source": [
    "\"jill\"+'lill'+'hill'"
   ]
  },
  {
   "cell_type": "code",
   "execution_count": 57,
   "id": "756bf5ba",
   "metadata": {},
   "outputs": [
    {
     "data": {
      "text/plain": [
       "'jilljilljill'"
      ]
     },
     "execution_count": 57,
     "metadata": {},
     "output_type": "execute_result"
    }
   ],
   "source": [
    "\"jill\"*3"
   ]
  },
  {
   "cell_type": "code",
   "execution_count": 59,
   "id": "c0486557",
   "metadata": {},
   "outputs": [],
   "source": [
    "a=10"
   ]
  },
  {
   "cell_type": "code",
   "execution_count": 61,
   "id": "ec6675f0",
   "metadata": {},
   "outputs": [
    {
     "name": "stdout",
     "output_type": "stream",
     "text": [
      "45\n"
     ]
    }
   ],
   "source": [
    "# getting input from user\n",
    "a=input()"
   ]
  },
  {
   "cell_type": "code",
   "execution_count": 62,
   "id": "db3a52bf",
   "metadata": {},
   "outputs": [
    {
     "data": {
      "text/plain": [
       "'45'"
      ]
     },
     "execution_count": 62,
     "metadata": {},
     "output_type": "execute_result"
    }
   ],
   "source": [
    "a"
   ]
  },
  {
   "cell_type": "code",
   "execution_count": 76,
   "id": "5295a5ed",
   "metadata": {},
   "outputs": [
    {
     "name": "stdout",
     "output_type": "stream",
     "text": [
      "enter the value of a= 2\n",
      "enter the value of b= 2\n",
      "enter the value of c= 2\n",
      "3.0\n"
     ]
    }
   ],
   "source": [
    "\"\"\"take a input from user \n",
    "a,b,c\n",
    "then perform (a+b)/c\n",
    "concatenate with complex variable\n",
    "output +string \"\"\"\n",
    "\n",
    "a=int(input(\"enter the value of a= \"))\n",
    "b=int(input(\"enter the value of b= \"))\n",
    "c=int(input(\"enter the value of c= \"))\n",
    "o=a+b/c\n",
    "print(o)\n",
    "\n"
   ]
  },
  {
   "cell_type": "code",
   "execution_count": 77,
   "id": "46b44e4d",
   "metadata": {},
   "outputs": [],
   "source": [
    "o1=o+78+7j\n"
   ]
  },
  {
   "cell_type": "code",
   "execution_count": 78,
   "id": "10a1595a",
   "metadata": {},
   "outputs": [
    {
     "name": "stdout",
     "output_type": "stream",
     "text": [
      "(81+7j)\n"
     ]
    }
   ],
   "source": [
    "print(o1)"
   ]
  },
  {
   "cell_type": "code",
   "execution_count": 80,
   "id": "034c8559",
   "metadata": {},
   "outputs": [
    {
     "data": {
      "text/plain": [
       "'(81+7j)mukhil'"
      ]
     },
     "execution_count": 80,
     "metadata": {},
     "output_type": "execute_result"
    }
   ],
   "source": [
    "str(o1)+\"mukhil\""
   ]
  },
  {
   "cell_type": "code",
   "execution_count": 81,
   "id": "cd0a21f3",
   "metadata": {},
   "outputs": [],
   "source": [
    "#conditional Statement"
   ]
  },
  {
   "cell_type": "code",
   "execution_count": 87,
   "id": "7826b01f",
   "metadata": {},
   "outputs": [
    {
     "name": "stdout",
     "output_type": "stream",
     "text": [
      "enter the number less than 45: 67\n"
     ]
    }
   ],
   "source": []
  },
  {
   "cell_type": "code",
   "execution_count": 94,
   "id": "b12feff9",
   "metadata": {},
   "outputs": [
    {
     "name": "stdout",
     "output_type": "stream",
     "text": [
      "enter the number less than 45: 89\n",
      "my data is less than 100:  89\n"
     ]
    }
   ],
   "source": [
    "a=int(input(\"enter the number less than 45: \"))\n",
    "if a <45:\n",
    "    print(\"data input less than 45\",a)\n",
    "elif a<100:\n",
    "    print(\"my data is less than 100: \",a )\n",
    "else:\n",
    "    print(\"data input is greater\",a)"
   ]
  },
  {
   "cell_type": "code",
   "execution_count": 100,
   "id": "ff97ff78",
   "metadata": {},
   "outputs": [
    {
     "name": "stdout",
     "output_type": "stream",
     "text": [
      "enter you salary: 200\n",
      "no Buy 200\n"
     ]
    }
   ],
   "source": [
    "salary= int(input(\"enter you salary: \"))\n",
    "if salary>1000:\n",
    "    print(\"buy a car: \", salary)\n",
    "elif salary>500:\n",
    "    print(\"buy a bike: \", salary)\n",
    "elif salary>100:\n",
    "    print(\"no Buy\", salary)\n",
    "else :\n",
    "    print(\"save the money: \", salary)"
   ]
  },
  {
   "cell_type": "code",
   "execution_count": 104,
   "id": "73db8a4d",
   "metadata": {},
   "outputs": [
    {
     "name": "stdout",
     "output_type": "stream",
     "text": [
      "enter you salary: 10067\n",
      "buy a car:  10067\n",
      " buy Ducati\n"
     ]
    }
   ],
   "source": [
    "#nested statements\n",
    "salary= int(input(\"enter you salary: \"))\n",
    "if salary>1000:\n",
    "    print(\"buy a car: \", salary)\n",
    "    if salary<5000 and salary<10000:\n",
    "        print(\"buy maruti car\")\n",
    "        if True:\n",
    "            print(\"false code\")\n",
    "    elif salary>10000:\n",
    "        print(\" buy Ducati\")\n",
    "    elif salary>50000:\n",
    "        print(\"buy toyata\")\n",
    "    else:\n",
    "        print(\"rent a car\")\n",
    "elif salary>500:\n",
    "    print(\"buy a bike: \", salary)\n",
    "elif salary>100:\n",
    "    print(\"no Buy\", salary)\n",
    "else :\n",
    "    print(\"save the money: \", salary)"
   ]
  },
  {
   "cell_type": "code",
   "execution_count": null,
   "id": "b1481d8b",
   "metadata": {},
   "outputs": [],
   "source": []
  }
 ],
 "metadata": {
  "kernelspec": {
   "display_name": "Python 3",
   "language": "python",
   "name": "python3"
  },
  "language_info": {
   "codemirror_mode": {
    "name": "ipython",
    "version": 3
   },
   "file_extension": ".py",
   "mimetype": "text/x-python",
   "name": "python",
   "nbconvert_exporter": "python",
   "pygments_lexer": "ipython3",
   "version": "3.8.8"
  }
 },
 "nbformat": 4,
 "nbformat_minor": 5
}
