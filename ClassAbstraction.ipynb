{
 "cells": [
  {
   "cell_type": "code",
   "execution_count": 1,
   "id": "feffc505-2dbd-443f-a22c-9e90bdf8e29d",
   "metadata": {},
   "outputs": [],
   "source": [
    "#Class Abstraction"
   ]
  },
  {
   "cell_type": "code",
   "execution_count": 2,
   "id": "74bdfb50-3aed-4102-9961-823922614c55",
   "metadata": {},
   "outputs": [],
   "source": [
    "class test:\n",
    "    def __init__(self,a, b, c,d):\n",
    "        self.a=a\n",
    "        self.b=b\n",
    "        self.c=c\n",
    "        self.d=d\n",
    "    \n",
    "    def test_custome(self,v):\n",
    "        return v - self.a\n",
    "    \n",
    "    def __str__(self):\n",
    "        return \"this is my test code for abstractio\""
   ]
  },
  {
   "cell_type": "code",
   "execution_count": 3,
   "id": "e0830970-96b3-498c-ba97-81fb3a078c1d",
   "metadata": {},
   "outputs": [],
   "source": [
    "o=test(2,4,1,44)"
   ]
  },
  {
   "cell_type": "code",
   "execution_count": 4,
   "id": "3110d33b-6312-4367-bacf-6fdbad38693b",
   "metadata": {},
   "outputs": [
    {
     "data": {
      "text/plain": [
       "7"
      ]
     },
     "execution_count": 4,
     "metadata": {},
     "output_type": "execute_result"
    }
   ],
   "source": [
    "o.test_custome(9)"
   ]
  },
  {
   "cell_type": "code",
   "execution_count": 5,
   "id": "5d5d52fa-5f90-4940-9b65-21635f3d3e79",
   "metadata": {},
   "outputs": [
    {
     "name": "stdout",
     "output_type": "stream",
     "text": [
      "<class '__main__.test'>\n"
     ]
    }
   ],
   "source": [
    "print(test)"
   ]
  },
  {
   "cell_type": "code",
   "execution_count": 6,
   "id": "b4272767-7ee9-4ac1-aef0-aaf70a09310a",
   "metadata": {},
   "outputs": [
    {
     "name": "stdout",
     "output_type": "stream",
     "text": [
      "this is my test code for abstractio\n"
     ]
    }
   ],
   "source": [
    "print(o)"
   ]
  },
  {
   "cell_type": "code",
   "execution_count": 7,
   "id": "c03eb877-5476-4e17-a115-808805ac75d0",
   "metadata": {},
   "outputs": [],
   "source": [
    "class test:\n",
    "    def __init__(self,a, b, c,d):\n",
    "        self._a=a\n",
    "        self.b=b\n",
    "        self.c=c\n",
    "        self.d=d\n",
    "    \n",
    "    def test_custome(self,v):\n",
    "        return v - self._a\n",
    "    \n",
    "    def __str__(self):\n",
    "        return \"this is my test code for abstractio\""
   ]
  },
  {
   "cell_type": "code",
   "execution_count": 8,
   "id": "9abfea29-a633-429f-89fd-e4f72cea5b14",
   "metadata": {},
   "outputs": [],
   "source": [
    "o=test(2,4,1,44)"
   ]
  },
  {
   "cell_type": "code",
   "execution_count": 9,
   "id": "5abe5cc1-183c-40b9-b581-28f6144a080b",
   "metadata": {},
   "outputs": [
    {
     "data": {
      "text/plain": [
       "4"
      ]
     },
     "execution_count": 9,
     "metadata": {},
     "output_type": "execute_result"
    }
   ],
   "source": [
    "o.test_custome(6)"
   ]
  },
  {
   "cell_type": "code",
   "execution_count": 10,
   "id": "fb61ff1d-52a4-41a7-9579-4626fdc86eda",
   "metadata": {},
   "outputs": [
    {
     "data": {
      "text/plain": [
       "2"
      ]
     },
     "execution_count": 10,
     "metadata": {},
     "output_type": "execute_result"
    }
   ],
   "source": [
    "o._a"
   ]
  },
  {
   "cell_type": "code",
   "execution_count": 11,
   "id": "25f76252-5afd-4919-b792-4bf1094347c4",
   "metadata": {},
   "outputs": [],
   "source": [
    "class test:\n",
    "    def __init__(self,a, b, c,d):\n",
    "        self.__a=a\n",
    "        self.b=b\n",
    "        self.c=c\n",
    "        self.d=d\n",
    "    \n",
    "    def test_custome(self,v):\n",
    "        return v - self.__a\n",
    "    \n",
    "    def __str__(self):\n",
    "        return \"this is my test code for abstractio\""
   ]
  },
  {
   "cell_type": "code",
   "execution_count": 12,
   "id": "9add21a8-03a0-463c-a265-22a2a5cf1f63",
   "metadata": {},
   "outputs": [],
   "source": [
    "o=test(2,4,1,44)"
   ]
  },
  {
   "cell_type": "code",
   "execution_count": 13,
   "id": "cbd5edf1-0f17-4796-b120-fe15aadd54f2",
   "metadata": {},
   "outputs": [
    {
     "data": {
      "text/plain": [
       "7"
      ]
     },
     "execution_count": 13,
     "metadata": {},
     "output_type": "execute_result"
    }
   ],
   "source": [
    "o.test_custome(9)"
   ]
  },
  {
   "cell_type": "code",
   "execution_count": 14,
   "id": "6ef0b5ba-9059-4736-a6ea-6275d6518684",
   "metadata": {},
   "outputs": [
    {
     "ename": "AttributeError",
     "evalue": "'test' object has no attribute '__a'",
     "output_type": "error",
     "traceback": [
      "\u001b[0;31m---------------------------------------------------------------------------\u001b[0m",
      "\u001b[0;31mAttributeError\u001b[0m                            Traceback (most recent call last)",
      "Cell \u001b[0;32mIn [14], line 1\u001b[0m\n\u001b[0;32m----> 1\u001b[0m \u001b[43mo\u001b[49m\u001b[38;5;241;43m.\u001b[39;49m\u001b[43m__a\u001b[49m\n",
      "\u001b[0;31mAttributeError\u001b[0m: 'test' object has no attribute '__a'"
     ]
    }
   ],
   "source": [
    "o.__a"
   ]
  },
  {
   "cell_type": "code",
   "execution_count": 15,
   "id": "9758e081-e923-4abc-b86c-2bca29245a42",
   "metadata": {},
   "outputs": [],
   "source": [
    "class test:\n",
    "    def __init__(self,a, b, c,d):\n",
    "        self.__a=a\n",
    "        self.b=b\n",
    "        self.c=c\n",
    "        self.d=d\n",
    "    \n",
    "    def test_custome(self,v):\n",
    "        return v - self.__a\n",
    "    \n",
    "    def __str__(self):\n",
    "        return \"this is my test code for abstractio\""
   ]
  },
  {
   "cell_type": "code",
   "execution_count": 16,
   "id": "6a4fd936-9c9c-4d19-a5c3-94ea374a6c0c",
   "metadata": {},
   "outputs": [],
   "source": [
    "o=test(2,4,1,44)"
   ]
  },
  {
   "cell_type": "code",
   "execution_count": 17,
   "id": "6fd9c899-b4e4-4c41-997c-9a4ac1f41ff5",
   "metadata": {},
   "outputs": [
    {
     "data": {
      "text/plain": [
       "6"
      ]
     },
     "execution_count": 17,
     "metadata": {},
     "output_type": "execute_result"
    }
   ],
   "source": [
    "o.test_custome(8)"
   ]
  },
  {
   "cell_type": "code",
   "execution_count": 18,
   "id": "72f121f1-168a-4c89-b42b-af9263cb3896",
   "metadata": {},
   "outputs": [
    {
     "data": {
      "text/plain": [
       "2"
      ]
     },
     "execution_count": 18,
     "metadata": {},
     "output_type": "execute_result"
    }
   ],
   "source": [
    "o._test__a"
   ]
  },
  {
   "cell_type": "code",
   "execution_count": 23,
   "id": "52a4844e-79c7-4443-9516-59e10310ea3c",
   "metadata": {},
   "outputs": [
    {
     "data": {
      "text/plain": [
       "123"
      ]
     },
     "execution_count": 23,
     "metadata": {},
     "output_type": "execute_result"
    }
   ],
   "source": [
    "#inheritance\n",
    "class test1(test):\n",
    "    def __init__(self, j, *args):\n",
    "        #super fn() parent of test1\n",
    "        super(test1,self).__init__(*args)\n",
    "        self.j=j\n",
    "\n",
    "m= test1(4,1,123,1321,23)\n",
    "m.b\n",
    "    "
   ]
  },
  {
   "cell_type": "code",
   "execution_count": 24,
   "id": "2c91ecbb-7681-43b1-9a5c-e92016656d96",
   "metadata": {},
   "outputs": [
    {
     "data": {
      "text/plain": [
       "8"
      ]
     },
     "execution_count": 24,
     "metadata": {},
     "output_type": "execute_result"
    }
   ],
   "source": [
    "m.test_custome(9)"
   ]
  },
  {
   "cell_type": "code",
   "execution_count": 26,
   "id": "63baa190-2b5f-460f-a608-a32ecfd38cb0",
   "metadata": {},
   "outputs": [
    {
     "data": {
      "text/plain": [
       "4"
      ]
     },
     "execution_count": 26,
     "metadata": {},
     "output_type": "execute_result"
    }
   ],
   "source": [
    "m.j"
   ]
  },
  {
   "cell_type": "code",
   "execution_count": 2,
   "id": "d0d930ce-0351-41c2-944c-a7b8ee080103",
   "metadata": {},
   "outputs": [],
   "source": [
    "# create a class test and test1 and inherit both in test2\n",
    "#inside test and test1 create a fn() a\n",
    "#"
   ]
  },
  {
   "cell_type": "code",
   "execution_count": 34,
   "id": "fb607505-d3b7-4c8e-b2be-b6942ea6e971",
   "metadata": {},
   "outputs": [
    {
     "ename": "AttributeError",
     "evalue": "'test2' object has no attribute 'a'",
     "output_type": "error",
     "traceback": [
      "\u001b[0;31m---------------------------------------------------------------------------\u001b[0m",
      "\u001b[0;31mAttributeError\u001b[0m                            Traceback (most recent call last)",
      "Cell \u001b[0;32mIn [34], line 16\u001b[0m\n\u001b[1;32m     14\u001b[0m     \u001b[38;5;66;03m#print(\"this is test2 class fn()\")\u001b[39;00m\n\u001b[1;32m     15\u001b[0m b\u001b[38;5;241m=\u001b[39mtest2()\n\u001b[0;32m---> 16\u001b[0m \u001b[43mb\u001b[49m\u001b[38;5;241;43m.\u001b[39;49m\u001b[43ma\u001b[49m()\n",
      "\u001b[0;31mAttributeError\u001b[0m: 'test2' object has no attribute 'a'"
     ]
    }
   ],
   "source": [
    "class test:\n",
    "    def a(self):\n",
    "        return \"this is test class fn()\"\n",
    "    \n",
    "class test1:\n",
    "    def a(self):\n",
    "        return \"this is test1 class fn()\"\n",
    "    \n",
    "class test2():\n",
    "    t1=test()\n",
    "    t1.a()\n",
    "    t2=test1()\n",
    "    t2.a()\n",
    "    #print(\"this is test2 class fn()\")\n",
    "b=test2()\n",
    "b.a()\n",
    "        "
   ]
  },
  {
   "cell_type": "code",
   "execution_count": 30,
   "id": "898e894d-49ac-4154-84b8-280b1e793482",
   "metadata": {},
   "outputs": [],
   "source": [
    "c=test2()"
   ]
  },
  {
   "cell_type": "code",
   "execution_count": 31,
   "id": "3ef5c702-32cd-4e19-b155-a4d0f10fd2fd",
   "metadata": {},
   "outputs": [
    {
     "ename": "AttributeError",
     "evalue": "'test2' object has no attribute 'a'",
     "output_type": "error",
     "traceback": [
      "\u001b[0;31m---------------------------------------------------------------------------\u001b[0m",
      "\u001b[0;31mAttributeError\u001b[0m                            Traceback (most recent call last)",
      "Cell \u001b[0;32mIn [31], line 1\u001b[0m\n\u001b[0;32m----> 1\u001b[0m \u001b[43mc\u001b[49m\u001b[38;5;241;43m.\u001b[39;49m\u001b[43ma\u001b[49m()\n",
      "\u001b[0;31mAttributeError\u001b[0m: 'test2' object has no attribute 'a'"
     ]
    }
   ],
   "source": [
    "c.a()"
   ]
  },
  {
   "cell_type": "code",
   "execution_count": 6,
   "id": "70b8f305-2ae4-40fe-a861-930dd6017c11",
   "metadata": {},
   "outputs": [
    {
     "ename": "NameError",
     "evalue": "name 'c' is not defined",
     "output_type": "error",
     "traceback": [
      "\u001b[0;31m---------------------------------------------------------------------------\u001b[0m",
      "\u001b[0;31mNameError\u001b[0m                                 Traceback (most recent call last)",
      "Cell \u001b[0;32mIn [6], line 1\u001b[0m\n\u001b[0;32m----> 1\u001b[0m \u001b[43mc\u001b[49m\u001b[38;5;241m.\u001b[39ma\n",
      "\u001b[0;31mNameError\u001b[0m: name 'c' is not defined"
     ]
    }
   ],
   "source": []
  },
  {
   "cell_type": "code",
   "execution_count": 35,
   "id": "26f15709-f335-4730-87c7-e802860aaf4e",
   "metadata": {},
   "outputs": [],
   "source": [
    "class test:\n",
    "    def a(self):\n",
    "        print(\"function onn test class\")\n",
    "    \n",
    "    \n",
    "class test1:\n",
    "    def a(self):\n",
    "        print(\"fn() of test1 class\")\n",
    "    \n",
    "class test2(test, test1):\n",
    "    def a(self):\n",
    "        test.a(self)\n",
    "        test1.a(self)\n",
    "        \n",
    "        "
   ]
  },
  {
   "cell_type": "code",
   "execution_count": 36,
   "id": "8fc25032-8dca-458b-bab1-7013511e19df",
   "metadata": {},
   "outputs": [],
   "source": [
    "t=test2()"
   ]
  },
  {
   "cell_type": "code",
   "execution_count": 37,
   "id": "df32bfa9-8bec-4eb3-8efe-f3355d4e5b60",
   "metadata": {},
   "outputs": [
    {
     "name": "stdout",
     "output_type": "stream",
     "text": [
      "function onn test class\n",
      "fn() of test1 class\n"
     ]
    }
   ],
   "source": [
    "t.a()"
   ]
  },
  {
   "cell_type": "code",
   "execution_count": 38,
   "id": "8ae42b63-6b4d-458a-a688-ceb032457506",
   "metadata": {},
   "outputs": [],
   "source": [
    "class test:\n",
    "    def a(self):\n",
    "        print(\"function onn test class\")\n",
    "    \n",
    "    \n",
    "class test1:\n",
    "    def a(self):\n",
    "        print(\"fn() of test1 class\")\n",
    "    \n",
    "class test2():\n",
    "    def a(self):\n",
    "        test.a(self)\n",
    "        test1.a(self)\n",
    "        \n",
    "        "
   ]
  },
  {
   "cell_type": "code",
   "execution_count": 39,
   "id": "a2b4ad1f-7cf0-4be0-9050-a50b04a41b8e",
   "metadata": {},
   "outputs": [],
   "source": [
    "t=test2()"
   ]
  },
  {
   "cell_type": "code",
   "execution_count": 40,
   "id": "7c9db22d-825d-4bf0-9e65-abd28e51133c",
   "metadata": {},
   "outputs": [
    {
     "name": "stdout",
     "output_type": "stream",
     "text": [
      "function onn test class\n",
      "fn() of test1 class\n"
     ]
    }
   ],
   "source": [
    "t.a()"
   ]
  },
  {
   "cell_type": "code",
   "execution_count": 43,
   "id": "802621c7-da4a-4fa1-b4de-5f0dc26e8415",
   "metadata": {},
   "outputs": [],
   "source": [
    "class test1:\n",
    "    website=\"test class .com\"\n",
    "    name=\"test1 Name\"\n",
    "    \n",
    "    def details(self):\n",
    "        print(\"contact us at\",self.website)\n",
    "        \n",
    "\n",
    "class test2(test1):\n",
    "    def __init__(self):\n",
    "        self.year=2023\n",
    "        \n",
    "    def details(self):\n",
    "        print('{} adrees belongs to {}'.format(self.name,self.year))\n",
    "    \n",
    "    "
   ]
  },
  {
   "cell_type": "code",
   "execution_count": 44,
   "id": "efcd9a06-f914-4aac-bbb5-1d6d105c9710",
   "metadata": {},
   "outputs": [],
   "source": [
    "d=test2()"
   ]
  },
  {
   "cell_type": "code",
   "execution_count": 45,
   "id": "d15d1719-12c0-4600-98a0-50c1760b5846",
   "metadata": {},
   "outputs": [
    {
     "name": "stdout",
     "output_type": "stream",
     "text": [
      "test1 Name adrees belongs to 2023\n"
     ]
    }
   ],
   "source": [
    "d.details()"
   ]
  },
  {
   "cell_type": "code",
   "execution_count": 47,
   "id": "c62673b3-ff0e-42b1-851c-a856ee277933",
   "metadata": {},
   "outputs": [],
   "source": [
    "class test3:\n",
    "    task=True\n",
    "    name=\"markaram\"\n",
    "    \n",
    "    \n",
    "class test4(test3, test1):\n",
    "    def __init__(self):\n",
    "        if self.task is True:\n",
    "            print(\"test3 task\")\n",
    "        print('Name: {}'.format(self.name))"
   ]
  },
  {
   "cell_type": "code",
   "execution_count": 48,
   "id": "888a38d9-bd41-48e7-8fe8-04bd0e197e69",
   "metadata": {},
   "outputs": [
    {
     "name": "stdout",
     "output_type": "stream",
     "text": [
      "test3 task\n",
      "Name: markaram\n"
     ]
    }
   ],
   "source": [
    "t=test4()"
   ]
  },
  {
   "cell_type": "code",
   "execution_count": 1,
   "id": "df385441-94cb-4c1f-b8e9-6d5207de658c",
   "metadata": {},
   "outputs": [],
   "source": [
    "#encapsulation\n",
    "#another way extending class by wrraping up\n"
   ]
  },
  {
   "cell_type": "code",
   "execution_count": 9,
   "id": "b0848459-4d88-4094-9a8b-92b5ec61809d",
   "metadata": {},
   "outputs": [],
   "source": [
    "class test:\n",
    "    def __init__(self,a,b,c):\n",
    "        self.a=a\n",
    "        self.b=b\n",
    "        self.c=c\n",
    "        \n",
    "    def __str__(self):\n",
    "        return \"this is the return from my test class\"\n",
    "    \n",
    "class test1:\n",
    "    def __init__(self,a,b,c):\n",
    "        self.a=a\n",
    "        self.b=b\n",
    "        self.c=c\n",
    "        \n",
    "    def __str__(self):\n",
    "        return \"this is the return from my test1 class\"\n",
    "    \n",
    "class test2:\n",
    "    def __init__(self,a,b,c):\n",
    "        self.a=a\n",
    "        self.b=b\n",
    "        self.c=c\n",
    "        \n",
    "    def __str__(self):\n",
    "        return \"this is the return from my test2 class\"\n",
    "    \n",
    "class final:\n",
    "    def __init__(self,x,y,z):\n",
    "        self.x=x\n",
    "        self.y=y\n",
    "        self.z=z\n",
    "        \n",
    "    def __str__(self):\n",
    "        return str(self.x) +\" \" +str(self.y) + \" \" + str(self.z)\n",
    "    "
   ]
  },
  {
   "cell_type": "code",
   "execution_count": 10,
   "id": "a3296c1d-269c-48cc-a87d-a030aceb2540",
   "metadata": {},
   "outputs": [],
   "source": [
    "t=test(2,3,5)\n",
    "t1=test1(22,33,53)\n",
    "t2=test2(2434,334,573)\n",
    "f=final(t,t1,\"mukhil\")"
   ]
  },
  {
   "cell_type": "code",
   "execution_count": 11,
   "id": "f48bddb0-b843-480e-bbab-720f3e5a0d0c",
   "metadata": {},
   "outputs": [
    {
     "name": "stdout",
     "output_type": "stream",
     "text": [
      "this is the return from my test class this is the return from my test1 class mukhil\n"
     ]
    }
   ],
   "source": [
    "print(f)"
   ]
  },
  {
   "cell_type": "code",
   "execution_count": null,
   "id": "40053c8e-dcc4-401f-96db-06bfde4fbc83",
   "metadata": {},
   "outputs": [],
   "source": []
  }
 ],
 "metadata": {
  "kernelspec": {
   "display_name": "Python 3 (ipykernel)",
   "language": "python",
   "name": "python3"
  },
  "language_info": {
   "codemirror_mode": {
    "name": "ipython",
    "version": 3
   },
   "file_extension": ".py",
   "mimetype": "text/x-python",
   "name": "python",
   "nbconvert_exporter": "python",
   "pygments_lexer": "ipython3",
   "version": "3.10.6"
  }
 },
 "nbformat": 4,
 "nbformat_minor": 5
}
