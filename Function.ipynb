{
 "cells": [
  {
   "cell_type": "code",
   "execution_count": 5,
   "id": "981aeaa4-ce9b-4da1-a1a9-90a499435159",
   "metadata": {},
   "outputs": [
    {
     "data": {
      "text/plain": [
       "3"
      ]
     },
     "execution_count": 5,
     "metadata": {},
     "output_type": "execute_result"
    }
   ],
   "source": [
    "a=1\n",
    "b=2\n",
    "a+b"
   ]
  },
  {
   "cell_type": "code",
   "execution_count": 47,
   "id": "1b0d5f93-f74a-4f80-8717-0f9c7d2bc077",
   "metadata": {},
   "outputs": [],
   "source": [
    "def add():\n",
    "    a=int(input(\"enter a:\"))\n",
    "    b=int(input(\"enter b:\"))\n",
    "    print(a+b)"
   ]
  },
  {
   "cell_type": "code",
   "execution_count": 48,
   "id": "ed62ae80-f8f8-4d74-b16b-16821ba495b2",
   "metadata": {},
   "outputs": [
    {
     "name": "stdin",
     "output_type": "stream",
     "text": [
      "enter a: 34\n",
      "enter b: 34\n"
     ]
    },
    {
     "name": "stdout",
     "output_type": "stream",
     "text": [
      "68\n"
     ]
    }
   ],
   "source": [
    "add()"
   ]
  },
  {
   "cell_type": "code",
   "execution_count": 13,
   "id": "6b7f34ac-3251-4fab-a5e1-fe81e7549ae9",
   "metadata": {},
   "outputs": [
    {
     "name": "stdin",
     "output_type": "stream",
     "text": [
      "enter a: 56\n",
      "enter b: 89\n"
     ]
    },
    {
     "name": "stdout",
     "output_type": "stream",
     "text": [
      "145\n"
     ]
    }
   ],
   "source": [
    "add()"
   ]
  },
  {
   "cell_type": "code",
   "execution_count": 14,
   "id": "5edca751-16a4-40d8-a5b5-57fab76d61c9",
   "metadata": {},
   "outputs": [],
   "source": [
    "def add1(n,m):\n",
    "    return n*m"
   ]
  },
  {
   "cell_type": "code",
   "execution_count": 18,
   "id": "358576a0-d756-487a-a845-e0cc548d69e0",
   "metadata": {},
   "outputs": [
    {
     "data": {
      "text/plain": [
       "int"
      ]
     },
     "execution_count": 18,
     "metadata": {},
     "output_type": "execute_result"
    }
   ],
   "source": [
    "type(add1(5,2))"
   ]
  },
  {
   "cell_type": "code",
   "execution_count": 19,
   "id": "4b9104c0-59f6-4585-8029-075d50c6499e",
   "metadata": {},
   "outputs": [
    {
     "data": {
      "text/plain": [
       "35"
      ]
     },
     "execution_count": 19,
     "metadata": {},
     "output_type": "execute_result"
    }
   ],
   "source": [
    "add1(5,5)+10"
   ]
  },
  {
   "cell_type": "code",
   "execution_count": 22,
   "id": "bfdf2672-8882-4165-87d2-c671a65bf3b1",
   "metadata": {},
   "outputs": [],
   "source": [
    "def test2(a,s,f):\n",
    "    return a+10"
   ]
  },
  {
   "cell_type": "code",
   "execution_count": 23,
   "id": "7b38ac84-73a5-4e14-b2d3-48ae8dc63c30",
   "metadata": {},
   "outputs": [
    {
     "data": {
      "text/plain": [
       "12"
      ]
     },
     "execution_count": 23,
     "metadata": {},
     "output_type": "execute_result"
    }
   ],
   "source": [
    "test2(2,1,4)"
   ]
  },
  {
   "cell_type": "code",
   "execution_count": 24,
   "id": "7a69656e-f711-4282-ac49-4cb9fe8678af",
   "metadata": {},
   "outputs": [],
   "source": [
    "def test3(n,m):\n",
    "    return n*10, m*90"
   ]
  },
  {
   "cell_type": "code",
   "execution_count": 25,
   "id": "bee72071-2ea4-4159-ae29-63b01e48b4c2",
   "metadata": {},
   "outputs": [
    {
     "data": {
      "text/plain": [
       "(20, 270)"
      ]
     },
     "execution_count": 25,
     "metadata": {},
     "output_type": "execute_result"
    }
   ],
   "source": [
    "test3(2,3)"
   ]
  },
  {
   "cell_type": "code",
   "execution_count": 28,
   "id": "efc91dbf-d7ce-48a4-931d-8d08c41286f9",
   "metadata": {},
   "outputs": [
    {
     "data": {
      "text/plain": [
       "tuple"
      ]
     },
     "execution_count": 28,
     "metadata": {},
     "output_type": "execute_result"
    }
   ],
   "source": [
    "#as there are multiple  return it give tuples\n",
    "type(test3(5,6))"
   ]
  },
  {
   "cell_type": "code",
   "execution_count": 31,
   "id": "ef7fdb68-96a9-4ca6-9306-667e3b392196",
   "metadata": {},
   "outputs": [],
   "source": [
    "c,x=test3(2,2)"
   ]
  },
  {
   "cell_type": "code",
   "execution_count": 33,
   "id": "94374dee-355f-4730-b668-dfa4833c54c4",
   "metadata": {},
   "outputs": [
    {
     "data": {
      "text/plain": [
       "20"
      ]
     },
     "execution_count": 33,
     "metadata": {},
     "output_type": "execute_result"
    }
   ],
   "source": [
    "c"
   ]
  },
  {
   "cell_type": "code",
   "execution_count": 34,
   "id": "6c8a0fa1-9f0c-48d3-97b6-95b88739965d",
   "metadata": {},
   "outputs": [],
   "source": [
    "c,_=test3(2,3)"
   ]
  },
  {
   "cell_type": "code",
   "execution_count": 35,
   "id": "8a8e5a88-8226-438f-81e9-72b1fb9a1674",
   "metadata": {},
   "outputs": [
    {
     "data": {
      "text/plain": [
       "20"
      ]
     },
     "execution_count": 35,
     "metadata": {},
     "output_type": "execute_result"
    }
   ],
   "source": [
    "c"
   ]
  },
  {
   "cell_type": "code",
   "execution_count": 36,
   "id": "f612017e-ea15-4894-9a1f-c59998f24ef4",
   "metadata": {},
   "outputs": [
    {
     "data": {
      "text/plain": [
       "270"
      ]
     },
     "execution_count": 36,
     "metadata": {},
     "output_type": "execute_result"
    }
   ],
   "source": [
    "#placeholder\n",
    "_"
   ]
  },
  {
   "cell_type": "code",
   "execution_count": 37,
   "id": "d5a8b441-334d-4146-92f1-7919025cf38b",
   "metadata": {},
   "outputs": [
    {
     "data": {
      "text/plain": [
       "int"
      ]
     },
     "execution_count": 37,
     "metadata": {},
     "output_type": "execute_result"
    }
   ],
   "source": [
    "type(c)"
   ]
  },
  {
   "cell_type": "code",
   "execution_count": 38,
   "id": "f6e85ee7-b1e8-4e7e-8604-000ebb1fb7db",
   "metadata": {},
   "outputs": [],
   "source": [
    "def test():\n",
    "    print(\"this is my 1st fn()\")"
   ]
  },
  {
   "cell_type": "code",
   "execution_count": 39,
   "id": "0b422565-6280-4fd1-857a-dbc021ddcbd4",
   "metadata": {},
   "outputs": [
    {
     "name": "stdout",
     "output_type": "stream",
     "text": [
      "this is my 1st fn()\n"
     ]
    }
   ],
   "source": [
    "test()"
   ]
  },
  {
   "cell_type": "code",
   "execution_count": 40,
   "id": "0d150ca3-c29c-410e-9a25-fc810ff47d03",
   "metadata": {},
   "outputs": [
    {
     "name": "stdout",
     "output_type": "stream",
     "text": [
      "this is my 1st fn()\n"
     ]
    },
    {
     "ename": "TypeError",
     "evalue": "unsupported operand type(s) for +: 'NoneType' and 'int'",
     "output_type": "error",
     "traceback": [
      "\u001b[0;31m---------------------------------------------------------------------------\u001b[0m",
      "\u001b[0;31mTypeError\u001b[0m                                 Traceback (most recent call last)",
      "Cell \u001b[0;32mIn [40], line 1\u001b[0m\n\u001b[0;32m----> 1\u001b[0m \u001b[43mtest\u001b[49m\u001b[43m(\u001b[49m\u001b[43m)\u001b[49m\u001b[38;5;241;43m+\u001b[39;49m\u001b[38;5;241;43m9\u001b[39;49m\n",
      "\u001b[0;31mTypeError\u001b[0m: unsupported operand type(s) for +: 'NoneType' and 'int'"
     ]
    }
   ],
   "source": [
    "test()+9"
   ]
  },
  {
   "cell_type": "code",
   "execution_count": 46,
   "id": "0f891cf5-44af-4cf8-90fa-ffcc4b138077",
   "metadata": {},
   "outputs": [],
   "source": [
    "def test42():\n",
    "    return(\"2nd time\")"
   ]
  },
  {
   "cell_type": "code",
   "execution_count": 47,
   "id": "203a46cc-376b-4478-8ea8-6be549b7e7ac",
   "metadata": {},
   "outputs": [],
   "source": [
    "o=test42()"
   ]
  },
  {
   "cell_type": "code",
   "execution_count": 48,
   "id": "24fbf975-78c2-4953-bcbc-29d869969510",
   "metadata": {},
   "outputs": [
    {
     "data": {
      "text/plain": [
       "'2nd timesadsd'"
      ]
     },
     "execution_count": 48,
     "metadata": {},
     "output_type": "execute_result"
    }
   ],
   "source": [
    "o+\"sadsd\""
   ]
  },
  {
   "cell_type": "code",
   "execution_count": 1,
   "id": "2e3db1ea-f95a-4267-a53a-fdc95302d2e1",
   "metadata": {},
   "outputs": [],
   "source": [
    "def test9(n):\n",
    "    return n, n*2"
   ]
  },
  {
   "cell_type": "code",
   "execution_count": 3,
   "id": "f286f9ac-3f28-42ec-a107-d251744d90e8",
   "metadata": {},
   "outputs": [
    {
     "ename": "SyntaxError",
     "evalue": "invalid syntax (4035301353.py, line 1)",
     "output_type": "error",
     "traceback": [
      "\u001b[0;36m  Cell \u001b[0;32mIn [3], line 1\u001b[0;36m\u001b[0m\n\u001b[0;31m    def test9([1,34,1,4,123])\u001b[0m\n\u001b[0m              ^\u001b[0m\n\u001b[0;31mSyntaxError\u001b[0m\u001b[0;31m:\u001b[0m invalid syntax\n"
     ]
    }
   ],
   "source": [
    "def test9([1,34,1,4,123])"
   ]
  },
  {
   "cell_type": "code",
   "execution_count": 1,
   "id": "d82d5848-e2eb-41e5-aea3-e2f9585b999c",
   "metadata": {},
   "outputs": [],
   "source": [
    "def test4(t,m,n):\n",
    "    return t+m\n",
    "    return m*n"
   ]
  },
  {
   "cell_type": "code",
   "execution_count": 2,
   "id": "a876ac96-ac6a-4fe3-a0dd-dc384d3606cc",
   "metadata": {},
   "outputs": [
    {
     "data": {
      "text/plain": [
       "5"
      ]
     },
     "execution_count": 2,
     "metadata": {},
     "output_type": "execute_result"
    }
   ],
   "source": [
    "test4(2,3,4)"
   ]
  },
  {
   "cell_type": "code",
   "execution_count": 3,
   "id": "b5b95fba-c480-4cb0-867f-86e034621c72",
   "metadata": {},
   "outputs": [],
   "source": [
    "def test9(n):\n",
    "    return n,n*7"
   ]
  },
  {
   "cell_type": "code",
   "execution_count": 4,
   "id": "17f3d342-af0b-4df9-8f47-833838e23058",
   "metadata": {},
   "outputs": [
    {
     "data": {
      "text/plain": [
       "(3, 21)"
      ]
     },
     "execution_count": 4,
     "metadata": {},
     "output_type": "execute_result"
    }
   ],
   "source": [
    "test9(3)"
   ]
  },
  {
   "cell_type": "code",
   "execution_count": 7,
   "id": "42332926-0645-4ca5-a480-3f427c179437",
   "metadata": {},
   "outputs": [],
   "source": [
    "b=test9([2,3,4,1,3,1])"
   ]
  },
  {
   "cell_type": "code",
   "execution_count": 8,
   "id": "aec66a12-f19c-4cc0-80f5-1b0c8e55afab",
   "metadata": {},
   "outputs": [
    {
     "data": {
      "text/plain": [
       "([2, 3, 4, 1, 3, 1],\n",
       " [2,\n",
       "  3,\n",
       "  4,\n",
       "  1,\n",
       "  3,\n",
       "  1,\n",
       "  2,\n",
       "  3,\n",
       "  4,\n",
       "  1,\n",
       "  3,\n",
       "  1,\n",
       "  2,\n",
       "  3,\n",
       "  4,\n",
       "  1,\n",
       "  3,\n",
       "  1,\n",
       "  2,\n",
       "  3,\n",
       "  4,\n",
       "  1,\n",
       "  3,\n",
       "  1,\n",
       "  2,\n",
       "  3,\n",
       "  4,\n",
       "  1,\n",
       "  3,\n",
       "  1,\n",
       "  2,\n",
       "  3,\n",
       "  4,\n",
       "  1,\n",
       "  3,\n",
       "  1,\n",
       "  2,\n",
       "  3,\n",
       "  4,\n",
       "  1,\n",
       "  3,\n",
       "  1])"
      ]
     },
     "execution_count": 8,
     "metadata": {},
     "output_type": "execute_result"
    }
   ],
   "source": [
    "b"
   ]
  },
  {
   "cell_type": "code",
   "execution_count": 9,
   "id": "2936e77e-70cb-4672-b6f7-346bf4cb1727",
   "metadata": {},
   "outputs": [],
   "source": [
    "def test10(n,m=90):\n",
    "    return n+m"
   ]
  },
  {
   "cell_type": "code",
   "execution_count": 10,
   "id": "aff0e1c7-c38b-4f8c-bb65-92d867db1c12",
   "metadata": {},
   "outputs": [
    {
     "data": {
      "text/plain": [
       "150"
      ]
     },
     "execution_count": 10,
     "metadata": {},
     "output_type": "execute_result"
    }
   ],
   "source": [
    "test10(60)"
   ]
  },
  {
   "cell_type": "code",
   "execution_count": 11,
   "id": "f6daaf06-350e-4cf3-ab64-2d7c4141cc1f",
   "metadata": {},
   "outputs": [
    {
     "data": {
      "text/plain": [
       "int"
      ]
     },
     "execution_count": 11,
     "metadata": {},
     "output_type": "execute_result"
    }
   ],
   "source": [
    "type(test10(89))"
   ]
  },
  {
   "cell_type": "code",
   "execution_count": 12,
   "id": "c046a83a-4b46-47b4-a1a3-d06edcde2097",
   "metadata": {},
   "outputs": [
    {
     "data": {
      "text/plain": [
       "80"
      ]
     },
     "execution_count": 12,
     "metadata": {},
     "output_type": "execute_result"
    }
   ],
   "source": [
    "#override\n",
    "test10(60,20)"
   ]
  },
  {
   "cell_type": "code",
   "execution_count": 13,
   "id": "25418d5a-209d-49ce-b897-7da33698fa06",
   "metadata": {},
   "outputs": [],
   "source": [
    "def boolx(x=True, y= False):\n",
    "    return x+y"
   ]
  },
  {
   "cell_type": "code",
   "execution_count": 14,
   "id": "9003f54b-f31d-409e-a643-5bb8caedd3f1",
   "metadata": {},
   "outputs": [
    {
     "data": {
      "text/plain": [
       "1"
      ]
     },
     "execution_count": 14,
     "metadata": {},
     "output_type": "execute_result"
    }
   ],
   "source": [
    "boolx()"
   ]
  },
  {
   "cell_type": "code",
   "execution_count": 15,
   "id": "9387255a-0aee-4306-89f0-aad2fd37f644",
   "metadata": {},
   "outputs": [
    {
     "data": {
      "text/plain": [
       "0"
      ]
     },
     "execution_count": 15,
     "metadata": {},
     "output_type": "execute_result"
    }
   ],
   "source": [
    "boolx(False,0)"
   ]
  },
  {
   "cell_type": "code",
   "execution_count": 16,
   "id": "808bd819-94ba-4bc0-9bb7-a86a1f5f47d1",
   "metadata": {},
   "outputs": [
    {
     "data": {
      "text/plain": [
       "0"
      ]
     },
     "execution_count": 16,
     "metadata": {},
     "output_type": "execute_result"
    }
   ],
   "source": [
    "boolx(False)"
   ]
  },
  {
   "cell_type": "code",
   "execution_count": 17,
   "id": "7a49d097-5f8e-475b-9210-c8a3af23b5ba",
   "metadata": {},
   "outputs": [
    {
     "data": {
      "text/plain": [
       "8"
      ]
     },
     "execution_count": 17,
     "metadata": {},
     "output_type": "execute_result"
    }
   ],
   "source": [
    "boolx(False,8)"
   ]
  },
  {
   "cell_type": "code",
   "execution_count": 18,
   "id": "50b1f03c-ba9d-4d9a-ba73-735e9c78aefe",
   "metadata": {},
   "outputs": [],
   "source": [
    "def travel(bike=True,car=False):\n",
    "    plan_travel=bike or car\n",
    "    return bike, car, plan_travel"
   ]
  },
  {
   "cell_type": "code",
   "execution_count": 19,
   "id": "5a439458-88e0-4faf-9d34-81d74728f181",
   "metadata": {},
   "outputs": [
    {
     "data": {
      "text/plain": [
       "(True, False, True)"
      ]
     },
     "execution_count": 19,
     "metadata": {},
     "output_type": "execute_result"
    }
   ],
   "source": [
    "travel()"
   ]
  },
  {
   "cell_type": "code",
   "execution_count": 20,
   "id": "9bad2469-912e-4868-b601-60ab301702ae",
   "metadata": {},
   "outputs": [
    {
     "data": {
      "text/plain": [
       "(False, False, False)"
      ]
     },
     "execution_count": 20,
     "metadata": {},
     "output_type": "execute_result"
    }
   ],
   "source": [
    "travel(False)"
   ]
  },
  {
   "cell_type": "code",
   "execution_count": 21,
   "id": "e754194d-a5af-4e1f-ba52-6efd3998de69",
   "metadata": {},
   "outputs": [
    {
     "data": {
      "text/plain": [
       "(True, True, True)"
      ]
     },
     "execution_count": 21,
     "metadata": {},
     "output_type": "execute_result"
    }
   ],
   "source": [
    "travel(car=True)"
   ]
  },
  {
   "cell_type": "code",
   "execution_count": 22,
   "id": "eba4b43d-bf9b-4da1-ace8-876cbf9de997",
   "metadata": {},
   "outputs": [
    {
     "data": {
      "text/plain": [
       "((True, True, True), True, (True, True, True))"
      ]
     },
     "execution_count": 22,
     "metadata": {},
     "output_type": "execute_result"
    }
   ],
   "source": [
    "travel(_,True)"
   ]
  },
  {
   "cell_type": "code",
   "execution_count": 24,
   "id": "e68652fe-9c59-413f-948b-1c7ea19262d1",
   "metadata": {},
   "outputs": [],
   "source": [
    "def test11(*args,a=\"mukhil\"):\n",
    "    return args"
   ]
  },
  {
   "cell_type": "code",
   "execution_count": 26,
   "id": "888a8b84-d588-448b-b503-74aa453a6ea5",
   "metadata": {},
   "outputs": [
    {
     "data": {
      "text/plain": [
       "tuple"
      ]
     },
     "execution_count": 26,
     "metadata": {},
     "output_type": "execute_result"
    }
   ],
   "source": [
    "type(test11(\"killsads\",\"dasfg\",23,[423,34,1,4,1]))"
   ]
  },
  {
   "cell_type": "code",
   "execution_count": 27,
   "id": "3ea26dd3-ecda-4504-b5ed-341f67805b95",
   "metadata": {},
   "outputs": [
    {
     "data": {
      "text/plain": [
       "('killsads', 'dasfg', 23, [423, 34, 1, 4, 1])"
      ]
     },
     "execution_count": 27,
     "metadata": {},
     "output_type": "execute_result"
    }
   ],
   "source": [
    "test11(\"killsads\",\"dasfg\",23,[423,34,1,4,1])"
   ]
  },
  {
   "cell_type": "code",
   "execution_count": 28,
   "id": "e110372c-b512-4355-aa35-6f880c2f8ad6",
   "metadata": {},
   "outputs": [],
   "source": [
    "#create n no of list and return one single list\n",
    "def test12(a,b,c):\n",
    "    return a+b+c"
   ]
  },
  {
   "cell_type": "code",
   "execution_count": 29,
   "id": "cd0af268-aa94-41eb-98a9-9fe67628ec8d",
   "metadata": {},
   "outputs": [
    {
     "data": {
      "text/plain": [
       "[1, 3, 1, 441, 90, 23, 41, 5, 13, 23]"
      ]
     },
     "execution_count": 29,
     "metadata": {},
     "output_type": "execute_result"
    }
   ],
   "source": [
    "test12([1,3,1,441,90],[23,41],[5,13,23])"
   ]
  },
  {
   "cell_type": "code",
   "execution_count": 5,
   "id": "81107ba8-088b-4c51-bbdd-9947deefa5cc",
   "metadata": {},
   "outputs": [],
   "source": [
    "def test13(*args):\n",
    "    a=[]\n",
    "    for i in args:\n",
    "        a =a+i\n",
    "    return a"
   ]
  },
  {
   "cell_type": "code",
   "execution_count": 6,
   "id": "4cff1ed3-ebf9-4897-92ea-f4592ec39597",
   "metadata": {},
   "outputs": [
    {
     "data": {
      "text/plain": [
       "[1, 3, 1, 441, 90, 23, 41, 5, 13, 23]"
      ]
     },
     "execution_count": 6,
     "metadata": {},
     "output_type": "execute_result"
    }
   ],
   "source": [
    "test13([1,3,1,441,90],[23,41],[5,13,23])"
   ]
  },
  {
   "cell_type": "code",
   "execution_count": 9,
   "id": "d5d48baf-be98-4b00-a788-2dbd826d37c7",
   "metadata": {},
   "outputs": [],
   "source": [
    "def test14(*args):\n",
    "    return [i for i in args]"
   ]
  },
  {
   "cell_type": "code",
   "execution_count": 10,
   "id": "0fd90cc7-f052-43e1-aaf1-d8ee746fff40",
   "metadata": {},
   "outputs": [
    {
     "data": {
      "text/plain": [
       "[[1, 2, 4, 14, 123], [4, 415, 5, 1]]"
      ]
     },
     "execution_count": 10,
     "metadata": {},
     "output_type": "execute_result"
    }
   ],
   "source": [
    "test14([1,2,4,14,123],[4,415,5,1])"
   ]
  },
  {
   "cell_type": "code",
   "execution_count": 11,
   "id": "fb757c40-8c55-4970-86eb-25e32306ac7a",
   "metadata": {},
   "outputs": [
    {
     "ename": "TypeError",
     "evalue": "can only concatenate list (not \"str\") to list",
     "output_type": "error",
     "traceback": [
      "\u001b[0;31m---------------------------------------------------------------------------\u001b[0m",
      "\u001b[0;31mTypeError\u001b[0m                                 Traceback (most recent call last)",
      "Cell \u001b[0;32mIn [11], line 1\u001b[0m\n\u001b[0;32m----> 1\u001b[0m \u001b[43mtest13\u001b[49m\u001b[43m(\u001b[49m\u001b[38;5;124;43m\"\u001b[39;49m\u001b[38;5;124;43mdasda\u001b[39;49m\u001b[38;5;124;43m\"\u001b[39;49m\u001b[43m,\u001b[49m\u001b[38;5;241;43m123\u001b[39;49m\u001b[43m,\u001b[49m\u001b[43m[\u001b[49m\u001b[38;5;241;43m2\u001b[39;49m\u001b[43m,\u001b[49m\u001b[38;5;241;43m23\u001b[39;49m\u001b[43m,\u001b[49m\u001b[38;5;241;43m412\u001b[39;49m\u001b[43m]\u001b[49m\u001b[43m)\u001b[49m\n",
      "Cell \u001b[0;32mIn [5], line 4\u001b[0m, in \u001b[0;36mtest13\u001b[0;34m(*args)\u001b[0m\n\u001b[1;32m      2\u001b[0m a\u001b[38;5;241m=\u001b[39m[]\n\u001b[1;32m      3\u001b[0m \u001b[38;5;28;01mfor\u001b[39;00m i \u001b[38;5;129;01min\u001b[39;00m args:\n\u001b[0;32m----> 4\u001b[0m     a \u001b[38;5;241m=\u001b[39m\u001b[43ma\u001b[49m\u001b[38;5;241;43m+\u001b[39;49m\u001b[43mi\u001b[49m\n\u001b[1;32m      5\u001b[0m \u001b[38;5;28;01mreturn\u001b[39;00m a\n",
      "\u001b[0;31mTypeError\u001b[0m: can only concatenate list (not \"str\") to list"
     ]
    }
   ],
   "source": [
    "test13(\"dasda\",123,[2,23,412])"
   ]
  },
  {
   "cell_type": "code",
   "execution_count": 12,
   "id": "a0d3b018-795e-476f-b3ee-a2ed2c5a578d",
   "metadata": {},
   "outputs": [],
   "source": [
    "def test15(*args):\n",
    "    a=[]\n",
    "    for i in args:\n",
    "        if type(i)==list:\n",
    "            a =a+i\n",
    "    return a"
   ]
  },
  {
   "cell_type": "code",
   "execution_count": 13,
   "id": "06248cf0-30e0-4be5-a33e-45c3f1017af3",
   "metadata": {},
   "outputs": [
    {
     "data": {
      "text/plain": [
       "[2, 23, 412]"
      ]
     },
     "execution_count": 13,
     "metadata": {},
     "output_type": "execute_result"
    }
   ],
   "source": [
    "test15(\"dasda\",123,[2,23,412])"
   ]
  },
  {
   "cell_type": "code",
   "execution_count": 14,
   "id": "2cded9ad-fc3a-4564-ae26-7678ff173035",
   "metadata": {},
   "outputs": [],
   "source": [
    "def test16(**kwargs):\n",
    "    return kwargs"
   ]
  },
  {
   "cell_type": "code",
   "execution_count": 15,
   "id": "4fa657d3-ad37-4c03-b2c9-6e26b8d303e9",
   "metadata": {},
   "outputs": [
    {
     "ename": "TypeError",
     "evalue": "test16() takes 0 positional arguments but 3 were given",
     "output_type": "error",
     "traceback": [
      "\u001b[0;31m---------------------------------------------------------------------------\u001b[0m",
      "\u001b[0;31mTypeError\u001b[0m                                 Traceback (most recent call last)",
      "Cell \u001b[0;32mIn [15], line 1\u001b[0m\n\u001b[0;32m----> 1\u001b[0m \u001b[43mtest16\u001b[49m\u001b[43m(\u001b[49m\u001b[38;5;241;43m2\u001b[39;49m\u001b[43m,\u001b[49m\u001b[38;5;241;43m4\u001b[39;49m\u001b[43m,\u001b[49m\u001b[38;5;241;43m1\u001b[39;49m\u001b[43m)\u001b[49m\n",
      "\u001b[0;31mTypeError\u001b[0m: test16() takes 0 positional arguments but 3 were given"
     ]
    }
   ],
   "source": [
    "test16(2,4,1)"
   ]
  },
  {
   "cell_type": "code",
   "execution_count": 16,
   "id": "b6f82897-e168-426d-ab64-ead5dde31220",
   "metadata": {},
   "outputs": [
    {
     "data": {
      "text/plain": [
       "{'a': 2, 'b': 10, 'c': 90, 'd': 7}"
      ]
     },
     "execution_count": 16,
     "metadata": {},
     "output_type": "execute_result"
    }
   ],
   "source": [
    "test16(a=2,b=10,c=90,d=7)\n"
   ]
  },
  {
   "cell_type": "code",
   "execution_count": 17,
   "id": "0ba86a19-df4c-4a11-ad61-d582407d2185",
   "metadata": {},
   "outputs": [
    {
     "data": {
      "text/plain": [
       "dict"
      ]
     },
     "execution_count": 17,
     "metadata": {},
     "output_type": "execute_result"
    }
   ],
   "source": [
    "type(test16(a=2,b=10,c=90,d=7))"
   ]
  },
  {
   "cell_type": "code",
   "execution_count": 18,
   "id": "5a8b16d7-af78-4625-bd75-79a1042ca844",
   "metadata": {},
   "outputs": [],
   "source": [
    "def test17(*args):\n",
    "    return args"
   ]
  },
  {
   "cell_type": "code",
   "execution_count": 19,
   "id": "2c0460ca-af35-4de5-8d41-ec278f7c8021",
   "metadata": {},
   "outputs": [
    {
     "data": {
      "text/plain": [
       "(3, 3, 4, 12, 122, 'killsda', [12, 4, 13, 13])"
      ]
     },
     "execution_count": 19,
     "metadata": {},
     "output_type": "execute_result"
    }
   ],
   "source": [
    "test17(3,3,4,12,122, \"killsda\",[12,4,13,13])"
   ]
  },
  {
   "cell_type": "code",
   "execution_count": 21,
   "id": "555943cc-941e-4d35-ac4b-ee758ecc7522",
   "metadata": {},
   "outputs": [],
   "source": [
    "# Create a function to take any no of mixed data and try to create\n",
    "# a lsit of seperate data based on datatype and \n",
    "# return multiple result\n",
    "#Create a function which will be able to use *args and\n",
    "#*kwargs and it will be able to do all the list value\n",
    "#concantenation and return a list\n",
    "\n"
   ]
  },
  {
   "cell_type": "code",
   "execution_count": 22,
   "id": "882fa886-9dc5-4f22-8963-9a9bd1d59b36",
   "metadata": {},
   "outputs": [],
   "source": [
    "def separate_data(*args):\n",
    "    result = {}\n",
    "\n",
    "    for i in args:\n",
    "        data_type = type(i).__name__\n",
    "        if data_type not in result:\n",
    "            result[data_type] = []\n",
    "        result[data_type].append(value)\n",
    "\n",
    "    return result\n"
   ]
  },
  {
   "cell_type": "code",
   "execution_count": 23,
   "id": "791ac95b-0c07-48e7-8917-73c41da02737",
   "metadata": {},
   "outputs": [],
   "source": [
    "def concatenate_values(*args, **kwargs):\n",
    "    result = []\n",
    "\n",
    "    # Concatenate values from *args\n",
    "    for arg in args:\n",
    "        if isinstance(arg, (list, tuple)):\n",
    "            result.extend(arg)\n",
    "        else:\n",
    "            result.append(arg)\n",
    "\n",
    "    # Concatenate values from **kwargs\n",
    "    for value in kwargs.values():\n",
    "        if isinstance(value, (list, tuple)):\n",
    "            result.extend(value)\n",
    "        else:\n",
    "            result.append(value)\n",
    "\n",
    "    return result\n"
   ]
  },
  {
   "cell_type": "code",
   "execution_count": 25,
   "id": "15fe9a1e-9995-4cd6-9818-a4dd106c4989",
   "metadata": {},
   "outputs": [
    {
     "name": "stdout",
     "output_type": "stream",
     "text": [
      "Concatenated Values: [1, 2, 3, 'hello', 'world', 42, 43, (3+8j)]\n"
     ]
    }
   ],
   "source": [
    "mixed_values = concatenate_values(1, [2, 3], 'hello', custom_value='world', another_value=[42, 43], value1=3+8j)\n",
    "\n",
    "print(\"Concatenated Values:\", mixed_values)\n"
   ]
  },
  {
   "cell_type": "code",
   "execution_count": 30,
   "id": "215e27bb-e241-4dfb-a694-5935a08bf4ea",
   "metadata": {},
   "outputs": [
    {
     "ename": "NameError",
     "evalue": "name 'value' is not defined",
     "output_type": "error",
     "traceback": [
      "\u001b[0;31m---------------------------------------------------------------------------\u001b[0m",
      "\u001b[0;31mNameError\u001b[0m                                 Traceback (most recent call last)",
      "Cell \u001b[0;32mIn [30], line 2\u001b[0m\n\u001b[1;32m      1\u001b[0m mixed_data \u001b[38;5;241m=\u001b[39m (\u001b[38;5;241m1\u001b[39m, \u001b[38;5;241m2.5\u001b[39m, \u001b[38;5;124m'\u001b[39m\u001b[38;5;124mhello\u001b[39m\u001b[38;5;124m'\u001b[39m, \u001b[38;5;28;01mTrue\u001b[39;00m, [\u001b[38;5;241m1\u001b[39m, \u001b[38;5;241m2\u001b[39m, \u001b[38;5;241m3\u001b[39m], \u001b[38;5;241m4\u001b[39m, \u001b[38;5;124m'\u001b[39m\u001b[38;5;124mworld\u001b[39m\u001b[38;5;124m'\u001b[39m, \u001b[38;5;28;01mFalse\u001b[39;00m,\u001b[38;5;241m3\u001b[39m\u001b[38;5;241m+\u001b[39m\u001b[38;5;241m9\u001b[39mj)\n\u001b[0;32m----> 2\u001b[0m result \u001b[38;5;241m=\u001b[39m \u001b[43mseparate_data\u001b[49m\u001b[43m(\u001b[49m\u001b[38;5;241;43m*\u001b[39;49m\u001b[43mmixed_data\u001b[49m\u001b[43m)\u001b[49m\n\u001b[1;32m      3\u001b[0m \u001b[38;5;28;01mfor\u001b[39;00m data_type, values \u001b[38;5;129;01min\u001b[39;00m result\u001b[38;5;241m.\u001b[39mitems():\n\u001b[1;32m      4\u001b[0m     \u001b[38;5;28mprint\u001b[39m(values)\n",
      "Cell \u001b[0;32mIn [22], line 8\u001b[0m, in \u001b[0;36mseparate_data\u001b[0;34m(*args)\u001b[0m\n\u001b[1;32m      6\u001b[0m     \u001b[38;5;28;01mif\u001b[39;00m data_type \u001b[38;5;129;01mnot\u001b[39;00m \u001b[38;5;129;01min\u001b[39;00m result:\n\u001b[1;32m      7\u001b[0m         result[data_type] \u001b[38;5;241m=\u001b[39m []\n\u001b[0;32m----> 8\u001b[0m     result[data_type]\u001b[38;5;241m.\u001b[39mappend(\u001b[43mvalue\u001b[49m)\n\u001b[1;32m     10\u001b[0m \u001b[38;5;28;01mreturn\u001b[39;00m result\n",
      "\u001b[0;31mNameError\u001b[0m: name 'value' is not defined"
     ]
    }
   ],
   "source": [
    "mixed_data = (1, 2.5, 'hello', True, [1, 2, 3], 4, 'world', False,3+9j)\n",
    "result = separate_data(*mixed_data)\n",
    "for data_type, values in result.items():\n",
    "    print(values)\n"
   ]
  },
  {
   "cell_type": "code",
   "execution_count": 50,
   "id": "cfd132b7-e0ca-4ee7-a73e-3fd268ae97d1",
   "metadata": {},
   "outputs": [],
   "source": [
    "def test18(**kwargs):\n",
    "    for i  in kwargs.items():\n",
    "        if type(i)==list:\n",
    "            if \"hill\" in i[1]:\n",
    "                print (\" iam able to find the date\")\n",
    "                print(i[1])\n",
    "    return kwargs"
   ]
  },
  {
   "cell_type": "code",
   "execution_count": 51,
   "id": "825c5444-4aa4-477e-b62a-23e4852de79b",
   "metadata": {},
   "outputs": [
    {
     "data": {
      "text/plain": [
       "{'a': [12, 31, 4],\n",
       " 'd1': [90, 'hill', 189],\n",
       " 'b': 42,\n",
       " 'c': 90,\n",
       " 'd': 'hill',\n",
       " 'k': [12, 4, 123]}"
      ]
     },
     "execution_count": 51,
     "metadata": {},
     "output_type": "execute_result"
    }
   ],
   "source": [
    "test18(a=[12,31,4], d1=[90,\"hill\",189],b=42,c=90,d=\"hill\", k=[12,4,123])"
   ]
  },
  {
   "cell_type": "code",
   "execution_count": 56,
   "id": "2e9699f2-93e1-43a9-8030-8f5f923ca8eb",
   "metadata": {},
   "outputs": [],
   "source": [
    "def fun1(*args):\n",
    "    dt={}\n",
    "    \n",
    "    for i in args:\n",
    "        if type(i) in dt:\n",
    "            dt[type(i)].append(i)\n",
    "        else:\n",
    "            dt[type(i)]=[i]\n",
    "    return dt"
   ]
  },
  {
   "cell_type": "code",
   "execution_count": 57,
   "id": "35acfea4-270c-4263-90a4-86abde898f28",
   "metadata": {},
   "outputs": [
    {
     "data": {
      "text/plain": [
       "{int: [1, 2, 4, 2], list: [[5, 123, 1324]], str: ['asdafs'], complex: [(5+9j)]}"
      ]
     },
     "execution_count": 57,
     "metadata": {},
     "output_type": "execute_result"
    }
   ],
   "source": [
    "fun1(1,2,4,2,[5,123,1324],\"asdafs\",5+9j)"
   ]
  },
  {
   "cell_type": "code",
   "execution_count": 53,
   "id": "59e561d4-b79f-414f-964c-9b051d6130d2",
   "metadata": {},
   "outputs": [
    {
     "data": {
      "text/plain": [
       "8"
      ]
     },
     "execution_count": 53,
     "metadata": {},
     "output_type": "execute_result"
    }
   ],
   "source": [
    "a"
   ]
  },
  {
   "cell_type": "code",
   "execution_count": null,
   "id": "7069bb77-bffa-40b2-a721-71d4d8ec8309",
   "metadata": {},
   "outputs": [],
   "source": []
  }
 ],
 "metadata": {
  "kernelspec": {
   "display_name": "Python 3 (ipykernel)",
   "language": "python",
   "name": "python3"
  },
  "language_info": {
   "codemirror_mode": {
    "name": "ipython",
    "version": 3
   },
   "file_extension": ".py",
   "mimetype": "text/x-python",
   "name": "python",
   "nbconvert_exporter": "python",
   "pygments_lexer": "ipython3",
   "version": "3.10.6"
  }
 },
 "nbformat": 4,
 "nbformat_minor": 5
}
