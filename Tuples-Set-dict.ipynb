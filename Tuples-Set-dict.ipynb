{
 "cells": [
  {
   "cell_type": "code",
   "execution_count": 1,
   "id": "5b24d465-9084-4263-b2af-58659e905e98",
   "metadata": {},
   "outputs": [],
   "source": [
    "t=()"
   ]
  },
  {
   "cell_type": "code",
   "execution_count": 2,
   "id": "d881e086-ca3e-40ad-9ef4-55dfb4768f7c",
   "metadata": {},
   "outputs": [
    {
     "data": {
      "text/plain": [
       "tuple"
      ]
     },
     "execution_count": 2,
     "metadata": {},
     "output_type": "execute_result"
    }
   ],
   "source": [
    "type(t)"
   ]
  },
  {
   "cell_type": "code",
   "execution_count": 3,
   "id": "50988bca-b054-4e35-b2d2-7d6faf1242c0",
   "metadata": {},
   "outputs": [
    {
     "data": {
      "text/plain": [
       "list"
      ]
     },
     "execution_count": 3,
     "metadata": {},
     "output_type": "execute_result"
    }
   ],
   "source": [
    "l=[]\n",
    "type(l)"
   ]
  },
  {
   "cell_type": "code",
   "execution_count": 4,
   "id": "a3d2b3f9-3463-4cdd-8677-0e2731c83565",
   "metadata": {},
   "outputs": [],
   "source": [
    "t=(234,46,45,\"likje\",34)"
   ]
  },
  {
   "cell_type": "code",
   "execution_count": 5,
   "id": "21a573a7-ec42-4f12-88ab-027296a715f5",
   "metadata": {},
   "outputs": [
    {
     "data": {
      "text/plain": [
       "'likje'"
      ]
     },
     "execution_count": 5,
     "metadata": {},
     "output_type": "execute_result"
    }
   ],
   "source": [
    "t[3]"
   ]
  },
  {
   "cell_type": "code",
   "execution_count": 6,
   "id": "e3eddaae-95e9-435e-a901-aa03b06b97fb",
   "metadata": {},
   "outputs": [],
   "source": [
    "l=[34,5234,321243,\"klaskda\",454]"
   ]
  },
  {
   "cell_type": "code",
   "execution_count": 7,
   "id": "a912476b-3299-432f-bf7a-5b0fb885c241",
   "metadata": {},
   "outputs": [],
   "source": [
    "l[2]=\"killer\""
   ]
  },
  {
   "cell_type": "code",
   "execution_count": 8,
   "id": "beffe90b-54d6-4680-a54b-99e1e66bff54",
   "metadata": {},
   "outputs": [
    {
     "data": {
      "text/plain": [
       "[34, 5234, 'killer', 'klaskda', 454]"
      ]
     },
     "execution_count": 8,
     "metadata": {},
     "output_type": "execute_result"
    }
   ],
   "source": [
    "l"
   ]
  },
  {
   "cell_type": "code",
   "execution_count": 9,
   "id": "1ac2a292-5092-4774-aab2-9c30ac41d85c",
   "metadata": {},
   "outputs": [
    {
     "ename": "TypeError",
     "evalue": "'tuple' object does not support item assignment",
     "output_type": "error",
     "traceback": [
      "\u001b[0;31m---------------------------------------------------------------------------\u001b[0m",
      "\u001b[0;31mTypeError\u001b[0m                                 Traceback (most recent call last)",
      "Cell \u001b[0;32mIn [9], line 1\u001b[0m\n\u001b[0;32m----> 1\u001b[0m \u001b[43mt\u001b[49m\u001b[43m[\u001b[49m\u001b[38;5;241;43m1\u001b[39;49m\u001b[43m]\u001b[49m\u001b[38;5;241m=\u001b[39m\u001b[38;5;124m\"\u001b[39m\u001b[38;5;124mlike\u001b[39m\u001b[38;5;124m\"\u001b[39m\n",
      "\u001b[0;31mTypeError\u001b[0m: 'tuple' object does not support item assignment"
     ]
    }
   ],
   "source": [
    "t[1]=\"like\""
   ]
  },
  {
   "cell_type": "code",
   "execution_count": 10,
   "id": "3355ee00-8093-4a6e-a16b-fac83e8da5ba",
   "metadata": {},
   "outputs": [],
   "source": [
    "t2=(23,4,23)"
   ]
  },
  {
   "cell_type": "code",
   "execution_count": 11,
   "id": "4c2dd9b4-4efd-403d-a29a-bc6620183016",
   "metadata": {},
   "outputs": [
    {
     "data": {
      "text/plain": [
       "(234, 46, 45, 'likje', 34, 23, 4, 23)"
      ]
     },
     "execution_count": 11,
     "metadata": {},
     "output_type": "execute_result"
    }
   ],
   "source": [
    "t+t2"
   ]
  },
  {
   "cell_type": "code",
   "execution_count": 12,
   "id": "fe8e8b8b-19d6-41d8-9b78-b97c84d33520",
   "metadata": {},
   "outputs": [
    {
     "data": {
      "text/plain": [
       "(234, 46, 45, 'likje', 34)"
      ]
     },
     "execution_count": 12,
     "metadata": {},
     "output_type": "execute_result"
    }
   ],
   "source": [
    "t"
   ]
  },
  {
   "cell_type": "code",
   "execution_count": 13,
   "id": "b59033d7-2e26-42ba-a89d-447b07b96fe2",
   "metadata": {},
   "outputs": [
    {
     "data": {
      "text/plain": [
       "(23, 4, 23)"
      ]
     },
     "execution_count": 13,
     "metadata": {},
     "output_type": "execute_result"
    }
   ],
   "source": [
    "t2"
   ]
  },
  {
   "cell_type": "code",
   "execution_count": 14,
   "id": "37af247a-57f2-49fa-8835-12f88ca3d157",
   "metadata": {},
   "outputs": [
    {
     "ename": "TypeError",
     "evalue": "'>' not supported between instances of 'str' and 'int'",
     "output_type": "error",
     "traceback": [
      "\u001b[0;31m---------------------------------------------------------------------------\u001b[0m",
      "\u001b[0;31mTypeError\u001b[0m                                 Traceback (most recent call last)",
      "Cell \u001b[0;32mIn [14], line 1\u001b[0m\n\u001b[0;32m----> 1\u001b[0m \u001b[38;5;28;43mmax\u001b[39;49m\u001b[43m(\u001b[49m\u001b[43mt\u001b[49m\u001b[43m)\u001b[49m\n",
      "\u001b[0;31mTypeError\u001b[0m: '>' not supported between instances of 'str' and 'int'"
     ]
    }
   ],
   "source": [
    "max(t)"
   ]
  },
  {
   "cell_type": "code",
   "execution_count": 15,
   "id": "52fc4980-bbef-45b7-a081-d7163c4252e4",
   "metadata": {},
   "outputs": [
    {
     "data": {
      "text/plain": [
       "23"
      ]
     },
     "execution_count": 15,
     "metadata": {},
     "output_type": "execute_result"
    }
   ],
   "source": [
    "max(t2)"
   ]
  },
  {
   "cell_type": "code",
   "execution_count": 16,
   "id": "16bea74e-9ada-4d52-a3c3-01e53877407f",
   "metadata": {},
   "outputs": [
    {
     "data": {
      "text/plain": [
       "1"
      ]
     },
     "execution_count": 16,
     "metadata": {},
     "output_type": "execute_result"
    }
   ],
   "source": [
    "t2.index(4)"
   ]
  },
  {
   "cell_type": "code",
   "execution_count": 18,
   "id": "2007743b-1097-442b-ae0c-f67ac97c0e15",
   "metadata": {},
   "outputs": [
    {
     "data": {
      "text/plain": [
       "4"
      ]
     },
     "execution_count": 18,
     "metadata": {},
     "output_type": "execute_result"
    }
   ],
   "source": [
    "min(t2)"
   ]
  },
  {
   "cell_type": "code",
   "execution_count": 19,
   "id": "6fd076a5-14db-4b73-97b2-684d3bb83aab",
   "metadata": {},
   "outputs": [],
   "source": [
    "t5=(96,46)"
   ]
  },
  {
   "cell_type": "code",
   "execution_count": 20,
   "id": "ba0cbcc6-80aa-4041-a908-9903d9b9a53d",
   "metadata": {},
   "outputs": [
    {
     "data": {
      "text/plain": [
       "(23, 4, 23, 96, 46)"
      ]
     },
     "execution_count": 20,
     "metadata": {},
     "output_type": "execute_result"
    }
   ],
   "source": [
    "t2+t5"
   ]
  },
  {
   "cell_type": "code",
   "execution_count": 21,
   "id": "8f3a1eb3-b9bc-4942-984f-162bbc86b818",
   "metadata": {},
   "outputs": [],
   "source": [
    "t6=90"
   ]
  },
  {
   "cell_type": "code",
   "execution_count": 22,
   "id": "95dd2c36-4fed-4f52-99ef-a19af02b1328",
   "metadata": {},
   "outputs": [],
   "source": [
    "l5=list(t2)"
   ]
  },
  {
   "cell_type": "code",
   "execution_count": 23,
   "id": "4d3b97ef-d00f-48ac-888b-a6aa40818416",
   "metadata": {},
   "outputs": [],
   "source": [
    "l5.insert(3,t6)"
   ]
  },
  {
   "cell_type": "code",
   "execution_count": 24,
   "id": "bb292331-41db-470d-93c9-695109968a75",
   "metadata": {},
   "outputs": [
    {
     "data": {
      "text/plain": [
       "(23, 4, 23, 90)"
      ]
     },
     "execution_count": 24,
     "metadata": {},
     "output_type": "execute_result"
    }
   ],
   "source": [
    "tuple(l5)"
   ]
  },
  {
   "cell_type": "code",
   "execution_count": 25,
   "id": "1366f140-65a9-48c7-a7ac-9e1801412713",
   "metadata": {},
   "outputs": [],
   "source": [
    "t=((3,4,1,3,1,4),(\"wter\",34,351,123),3432,[34,1,3,1,31])"
   ]
  },
  {
   "cell_type": "code",
   "execution_count": 26,
   "id": "65c6345f-968f-4b9d-a3c6-ef4cb2ed6059",
   "metadata": {},
   "outputs": [
    {
     "data": {
      "text/plain": [
       "((3, 4, 1, 3, 1, 4), ('wter', 34, 351, 123), 3432, [34, 1, 3, 1, 31])"
      ]
     },
     "execution_count": 26,
     "metadata": {},
     "output_type": "execute_result"
    }
   ],
   "source": [
    "t"
   ]
  },
  {
   "cell_type": "code",
   "execution_count": 31,
   "id": "7b1cbf10-b68b-4c9c-872a-72181ddd1861",
   "metadata": {},
   "outputs": [
    {
     "data": {
      "text/plain": [
       "[34, 1, 3, 1, 31]"
      ]
     },
     "execution_count": 31,
     "metadata": {},
     "output_type": "execute_result"
    }
   ],
   "source": [
    "t[3][:]"
   ]
  },
  {
   "cell_type": "code",
   "execution_count": 35,
   "id": "19b85ac3-3c00-47f9-b5f2-4f6c9f7180f8",
   "metadata": {},
   "outputs": [
    {
     "name": "stdout",
     "output_type": "stream",
     "text": [
      "(3, 4, 1, 3, 1, 4)\n",
      "('wter', 34, 351, 123)\n"
     ]
    }
   ],
   "source": [
    "for i in t:\n",
    "    if type(i)==tuple:\n",
    "        print(i[:])\n",
    "    "
   ]
  },
  {
   "cell_type": "code",
   "execution_count": 37,
   "id": "ee136441-cdd1-45ca-979a-b3090b94864d",
   "metadata": {},
   "outputs": [
    {
     "name": "stdout",
     "output_type": "stream",
     "text": [
      "not same\n"
     ]
    }
   ],
   "source": [
    "if len(t) ==len(t2):\n",
    "    print(\"it's same\")\n",
    "else:\n",
    "    print(\"not same\")"
   ]
  },
  {
   "cell_type": "code",
   "execution_count": 39,
   "id": "c8678c4b-dcb5-4b14-8f44-4dab9fd895aa",
   "metadata": {},
   "outputs": [],
   "source": [
    "t1=(234,2344,\"dsfsd\",234,4,4523,6425,False,\"dfas\")"
   ]
  },
  {
   "cell_type": "code",
   "execution_count": 42,
   "id": "0f4472d4-e8b9-4537-ab20-f4f963e3df5c",
   "metadata": {},
   "outputs": [
    {
     "name": "stdin",
     "output_type": "stream",
     "text": [
      "user input 24\n"
     ]
    },
    {
     "name": "stdout",
     "output_type": "stream",
     "text": [
      "ur name is not aavailable\n"
     ]
    }
   ],
   "source": [
    "i=input(\"user input\")\n",
    "if i in t1:\n",
    "    print(\"ur name is available\")\n",
    "else:\n",
    "    print(\"ur name is not aavailable\")"
   ]
  },
  {
   "cell_type": "code",
   "execution_count": 43,
   "id": "a4e9c064-3fae-493e-a157-463080bfc92f",
   "metadata": {},
   "outputs": [],
   "source": [
    "del(t1)"
   ]
  },
  {
   "cell_type": "code",
   "execution_count": 44,
   "id": "75e244e6-cd55-48cd-8105-24baabb0329a",
   "metadata": {},
   "outputs": [
    {
     "ename": "NameError",
     "evalue": "name 't1' is not defined",
     "output_type": "error",
     "traceback": [
      "\u001b[0;31m---------------------------------------------------------------------------\u001b[0m",
      "\u001b[0;31mNameError\u001b[0m                                 Traceback (most recent call last)",
      "Cell \u001b[0;32mIn [44], line 1\u001b[0m\n\u001b[0;32m----> 1\u001b[0m \u001b[43mt1\u001b[49m\n",
      "\u001b[0;31mNameError\u001b[0m: name 't1' is not defined"
     ]
    }
   ],
   "source": [
    "t1"
   ]
  },
  {
   "cell_type": "code",
   "execution_count": 1,
   "id": "69394828-74dd-486a-8482-e7cd840ff746",
   "metadata": {},
   "outputs": [],
   "source": [
    "l=[414,2412,5345,6563]"
   ]
  },
  {
   "cell_type": "code",
   "execution_count": 2,
   "id": "b0d08780-6ba1-4875-9f24-7cd349344a94",
   "metadata": {},
   "outputs": [],
   "source": [
    "#SET\n",
    "l=[34,53,43242,123,5,61,1213,5,5,5,5,34,34,\"mukhil\",\"mukhil\"]"
   ]
  },
  {
   "cell_type": "code",
   "execution_count": 3,
   "id": "6079e61b-35d4-4a5b-adc0-a8e5a8e80508",
   "metadata": {},
   "outputs": [],
   "source": [
    "a=set(l)"
   ]
  },
  {
   "cell_type": "code",
   "execution_count": 4,
   "id": "767d4e76-2cca-4549-819b-be9ae090dd0e",
   "metadata": {},
   "outputs": [
    {
     "data": {
      "text/plain": [
       "list"
      ]
     },
     "execution_count": 4,
     "metadata": {},
     "output_type": "execute_result"
    }
   ],
   "source": [
    "type(l)"
   ]
  },
  {
   "cell_type": "code",
   "execution_count": 5,
   "id": "f963fb59-3be8-4021-81b2-2e248bf09e52",
   "metadata": {},
   "outputs": [
    {
     "data": {
      "text/plain": [
       "[34, 53, 43242, 123, 5, 61, 1213, 5, 5, 5, 5, 34, 34, 'mukhil', 'mukhil']"
      ]
     },
     "execution_count": 5,
     "metadata": {},
     "output_type": "execute_result"
    }
   ],
   "source": [
    "l"
   ]
  },
  {
   "cell_type": "code",
   "execution_count": 6,
   "id": "e31efe3e-7af7-41c1-ba6c-646b3acc699b",
   "metadata": {},
   "outputs": [
    {
     "data": {
      "text/plain": [
       "{1213, 123, 34, 43242, 5, 53, 61, 'mukhil'}"
      ]
     },
     "execution_count": 6,
     "metadata": {},
     "output_type": "execute_result"
    }
   ],
   "source": [
    "a"
   ]
  },
  {
   "cell_type": "code",
   "execution_count": 8,
   "id": "5dc121da-fe1d-4a71-b7c9-63431e2d9f49",
   "metadata": {},
   "outputs": [
    {
     "ename": "TypeError",
     "evalue": "'set' object is not subscriptable",
     "output_type": "error",
     "traceback": [
      "\u001b[0;31m---------------------------------------------------------------------------\u001b[0m",
      "\u001b[0;31mTypeError\u001b[0m                                 Traceback (most recent call last)",
      "Cell \u001b[0;32mIn [8], line 1\u001b[0m\n\u001b[0;32m----> 1\u001b[0m \u001b[43ma\u001b[49m\u001b[43m[\u001b[49m\u001b[38;5;241;43m0\u001b[39;49m\u001b[43m]\u001b[49m\n",
      "\u001b[0;31mTypeError\u001b[0m: 'set' object is not subscriptable"
     ]
    }
   ],
   "source": [
    "a[0]"
   ]
  },
  {
   "cell_type": "code",
   "execution_count": 9,
   "id": "ae4834ca-2118-4baf-aedd-a9fd788a15e8",
   "metadata": {},
   "outputs": [
    {
     "data": {
      "text/plain": [
       "set()"
      ]
     },
     "execution_count": 9,
     "metadata": {},
     "output_type": "execute_result"
    }
   ],
   "source": [
    "s=set()\n",
    "s"
   ]
  },
  {
   "cell_type": "code",
   "execution_count": 10,
   "id": "e2f5c381-207f-4a50-9430-c773c5d19711",
   "metadata": {},
   "outputs": [],
   "source": [
    "s.add(\"dasd\")"
   ]
  },
  {
   "cell_type": "code",
   "execution_count": 12,
   "id": "86ecfb2f-df2e-4fe1-b6e9-2ee7fa3c01c5",
   "metadata": {},
   "outputs": [
    {
     "ename": "TypeError",
     "evalue": "unhashable type: 'list'",
     "output_type": "error",
     "traceback": [
      "\u001b[0;31m---------------------------------------------------------------------------\u001b[0m",
      "\u001b[0;31mTypeError\u001b[0m                                 Traceback (most recent call last)",
      "Cell \u001b[0;32mIn [12], line 1\u001b[0m\n\u001b[0;32m----> 1\u001b[0m \u001b[43ms\u001b[49m\u001b[38;5;241;43m.\u001b[39;49m\u001b[43madd\u001b[49m\u001b[43m(\u001b[49m\u001b[43m[\u001b[49m\u001b[38;5;241;43m123\u001b[39;49m\u001b[43m,\u001b[49m\u001b[38;5;241;43m231\u001b[39;49m\u001b[43m]\u001b[49m\u001b[43m)\u001b[49m\n",
      "\u001b[0;31mTypeError\u001b[0m: unhashable type: 'list'"
     ]
    }
   ],
   "source": [
    "s.add([123,231])"
   ]
  },
  {
   "cell_type": "code",
   "execution_count": 16,
   "id": "9c72c006-3db1-4467-a4bc-d1283eea1f72",
   "metadata": {},
   "outputs": [],
   "source": [
    "s.clear()"
   ]
  },
  {
   "cell_type": "code",
   "execution_count": 17,
   "id": "cae81ae7-eedf-4fdf-a857-ddac7a9827d0",
   "metadata": {},
   "outputs": [
    {
     "data": {
      "text/plain": [
       "set()"
      ]
     },
     "execution_count": 17,
     "metadata": {},
     "output_type": "execute_result"
    }
   ],
   "source": [
    "s"
   ]
  },
  {
   "cell_type": "code",
   "execution_count": 18,
   "id": "28aaed72-49c3-4fbd-ab1a-18269aad8802",
   "metadata": {},
   "outputs": [
    {
     "data": {
      "text/plain": [
       "set()"
      ]
     },
     "execution_count": 18,
     "metadata": {},
     "output_type": "execute_result"
    }
   ],
   "source": [
    "s.copy()"
   ]
  },
  {
   "cell_type": "code",
   "execution_count": 19,
   "id": "6c6a5bd1-59b4-4b35-9556-9fb979902a42",
   "metadata": {},
   "outputs": [],
   "source": [
    "s1=set(l)"
   ]
  },
  {
   "cell_type": "code",
   "execution_count": 20,
   "id": "5281fb9e-5592-4aa6-8876-5c2df0485dc5",
   "metadata": {},
   "outputs": [
    {
     "data": {
      "text/plain": [
       "{1213, 123, 34, 43242, 5, 53, 61, 'mukhil'}"
      ]
     },
     "execution_count": 20,
     "metadata": {},
     "output_type": "execute_result"
    }
   ],
   "source": [
    "s1"
   ]
  },
  {
   "cell_type": "code",
   "execution_count": 23,
   "id": "a5ac98b8-38c8-4d77-b8bc-1845436f45e5",
   "metadata": {},
   "outputs": [],
   "source": [
    "t4=tuple(s1)"
   ]
  },
  {
   "cell_type": "code",
   "execution_count": 24,
   "id": "54d5885a-f217-416f-91c8-679e7ed2786e",
   "metadata": {},
   "outputs": [
    {
     "data": {
      "text/plain": [
       "(34, 5, 43242, 53, 1213, 123, 61, 'mukhil')"
      ]
     },
     "execution_count": 24,
     "metadata": {},
     "output_type": "execute_result"
    }
   ],
   "source": [
    "t4"
   ]
  },
  {
   "cell_type": "code",
   "execution_count": 25,
   "id": "b47bab0d-eca5-4e52-abcd-3c6e3eb11a1b",
   "metadata": {},
   "outputs": [],
   "source": [
    "#dictionary\n",
    "x={}"
   ]
  },
  {
   "cell_type": "code",
   "execution_count": 26,
   "id": "580ad54a-9f3e-4e33-84f3-35f60f29d3e3",
   "metadata": {},
   "outputs": [
    {
     "data": {
      "text/plain": [
       "{}"
      ]
     },
     "execution_count": 26,
     "metadata": {},
     "output_type": "execute_result"
    }
   ],
   "source": [
    "x"
   ]
  },
  {
   "cell_type": "code",
   "execution_count": 27,
   "id": "5491a30d-2d3d-4286-bb90-9ba749f21366",
   "metadata": {},
   "outputs": [
    {
     "data": {
      "text/plain": [
       "dict"
      ]
     },
     "execution_count": 27,
     "metadata": {},
     "output_type": "execute_result"
    }
   ],
   "source": [
    "type(x)"
   ]
  },
  {
   "cell_type": "code",
   "execution_count": 28,
   "id": "98253250-5465-401d-a9de-12e86e64d3b7",
   "metadata": {},
   "outputs": [],
   "source": [
    "x1={12,23}"
   ]
  },
  {
   "cell_type": "code",
   "execution_count": 29,
   "id": "df07bee0-1905-42e6-8a97-ea98326e58a1",
   "metadata": {},
   "outputs": [
    {
     "data": {
      "text/plain": [
       "set"
      ]
     },
     "execution_count": 29,
     "metadata": {},
     "output_type": "execute_result"
    }
   ],
   "source": [
    "type(x1)"
   ]
  },
  {
   "cell_type": "code",
   "execution_count": 30,
   "id": "2cd0cba5-699a-4f70-bbbf-d53f502d8047",
   "metadata": {},
   "outputs": [],
   "source": [
    "x={\"name\":\"mukhil\",\"age\":34235}"
   ]
  },
  {
   "cell_type": "code",
   "execution_count": 31,
   "id": "050d03ae-14ed-4313-a660-25ae23b04129",
   "metadata": {},
   "outputs": [
    {
     "data": {
      "text/plain": [
       "{'name': 'mukhil', 'age': 34235}"
      ]
     },
     "execution_count": 31,
     "metadata": {},
     "output_type": "execute_result"
    }
   ],
   "source": [
    "x"
   ]
  },
  {
   "cell_type": "code",
   "execution_count": 32,
   "id": "ce433c62-b779-47b9-baf7-cceaba521782",
   "metadata": {},
   "outputs": [
    {
     "data": {
      "text/plain": [
       "dict"
      ]
     },
     "execution_count": 32,
     "metadata": {},
     "output_type": "execute_result"
    }
   ],
   "source": [
    "type(x)"
   ]
  },
  {
   "cell_type": "code",
   "execution_count": 37,
   "id": "d5b16614-7842-46e7-b60c-6a369b7642ad",
   "metadata": {},
   "outputs": [],
   "source": [
    "x1={\"name\":\"mukhil\",\"age\":34235,\"name\":\"sdsda\",False:\"asdas\",234234:True}"
   ]
  },
  {
   "cell_type": "code",
   "execution_count": 38,
   "id": "1c5b2c43-cad8-42fa-8c79-4b0a518206dc",
   "metadata": {},
   "outputs": [
    {
     "data": {
      "text/plain": [
       "{'name': 'sdsda', 'age': 34235, False: 'asdas', 234234: True}"
      ]
     },
     "execution_count": 38,
     "metadata": {},
     "output_type": "execute_result"
    }
   ],
   "source": [
    "x1"
   ]
  },
  {
   "cell_type": "code",
   "execution_count": 39,
   "id": "4576ec63-0aa7-466a-ab2b-8a732610feb9",
   "metadata": {},
   "outputs": [
    {
     "data": {
      "text/plain": [
       "{'name': 'sdsda', 'age': 34235, False: 'asdas', 234234: True}"
      ]
     },
     "execution_count": 39,
     "metadata": {},
     "output_type": "execute_result"
    }
   ],
   "source": [
    "x1"
   ]
  },
  {
   "cell_type": "code",
   "execution_count": 42,
   "id": "d6e9a03c-379d-4cd2-ba5f-e3060673397f",
   "metadata": {},
   "outputs": [],
   "source": [
    "x2={5:(234,123,4,1),True:{23434,234,12351}, \"name\":\"mukhil\",\"age\":34235,\"name\":\"sdsda\",False:\"asdas\",234234:True}"
   ]
  },
  {
   "cell_type": "code",
   "execution_count": 43,
   "id": "dfc42c62-3abf-498f-9cf1-a19a86660804",
   "metadata": {},
   "outputs": [
    {
     "data": {
      "text/plain": [
       "{5: (234, 123, 4, 1),\n",
       " True: {234, 12351, 23434},\n",
       " 'name': 'sdsda',\n",
       " 'age': 34235,\n",
       " False: 'asdas',\n",
       " 234234: True}"
      ]
     },
     "execution_count": 43,
     "metadata": {},
     "output_type": "execute_result"
    }
   ],
   "source": [
    "x2"
   ]
  },
  {
   "cell_type": "code",
   "execution_count": 45,
   "id": "5384eda1-0f79-411f-a4ee-557e9c22a2e9",
   "metadata": {},
   "outputs": [],
   "source": [
    "x1={(23,4,1,452):\"killer\",\"name\":\"mukhil\",\"age\":34235,\"name\":\"sdsda\",False:\"asdas\",234234:True}"
   ]
  },
  {
   "cell_type": "code",
   "execution_count": 46,
   "id": "47856011-d839-40ea-a8ba-1f16e0cc9209",
   "metadata": {},
   "outputs": [
    {
     "data": {
      "text/plain": [
       "{(23, 4, 1, 452): 'killer',\n",
       " 'name': 'sdsda',\n",
       " 'age': 34235,\n",
       " False: 'asdas',\n",
       " 234234: True}"
      ]
     },
     "execution_count": 46,
     "metadata": {},
     "output_type": "execute_result"
    }
   ],
   "source": [
    "x1"
   ]
  },
  {
   "cell_type": "code",
   "execution_count": 47,
   "id": "52b18bb6-b952-40d0-9d52-030ae999b0d1",
   "metadata": {},
   "outputs": [
    {
     "data": {
      "text/plain": [
       "[34, 53, 43242, 123, 5, 61, 1213, 5, 5, 5, 5, 34, 34, 'mukhil', 'mukhil']"
      ]
     },
     "execution_count": 47,
     "metadata": {},
     "output_type": "execute_result"
    }
   ],
   "source": [
    "l"
   ]
  },
  {
   "cell_type": "code",
   "execution_count": 48,
   "id": "d78579b1-9cab-417d-be27-9e428adff189",
   "metadata": {},
   "outputs": [
    {
     "data": {
      "text/plain": [
       "43242"
      ]
     },
     "execution_count": 48,
     "metadata": {},
     "output_type": "execute_result"
    }
   ],
   "source": [
    "l[2]"
   ]
  },
  {
   "cell_type": "code",
   "execution_count": 49,
   "id": "9da7660b-e746-433d-a439-08f4b662d12b",
   "metadata": {},
   "outputs": [
    {
     "data": {
      "text/plain": [
       "34235"
      ]
     },
     "execution_count": 49,
     "metadata": {},
     "output_type": "execute_result"
    }
   ],
   "source": [
    "x2[\"age\"]"
   ]
  },
  {
   "cell_type": "code",
   "execution_count": 51,
   "id": "b5e897cd-2930-40d8-9f8f-da24e1713555",
   "metadata": {},
   "outputs": [
    {
     "data": {
      "text/plain": [
       "'asdas'"
      ]
     },
     "execution_count": 51,
     "metadata": {},
     "output_type": "execute_result"
    }
   ],
   "source": [
    "x2[False]"
   ]
  },
  {
   "cell_type": "code",
   "execution_count": 52,
   "id": "398b5f3a-3c05-4b81-9586-2521691c3b3e",
   "metadata": {},
   "outputs": [
    {
     "data": {
      "text/plain": [
       "{(23, 4, 1, 452): 'killer',\n",
       " 'name': 'sdsda',\n",
       " 'age': 34235,\n",
       " False: 'asdas',\n",
       " 234234: True}"
      ]
     },
     "execution_count": 52,
     "metadata": {},
     "output_type": "execute_result"
    }
   ],
   "source": [
    "x1"
   ]
  },
  {
   "cell_type": "code",
   "execution_count": 53,
   "id": "55466966-d39d-48f9-a72b-3bce8d481503",
   "metadata": {},
   "outputs": [
    {
     "data": {
      "text/plain": [
       "{5: (234, 123, 4, 1),\n",
       " True: {234, 12351, 23434},\n",
       " 'name': 'sdsda',\n",
       " 'age': 34235,\n",
       " False: 'asdas',\n",
       " 234234: True}"
      ]
     },
     "execution_count": 53,
     "metadata": {},
     "output_type": "execute_result"
    }
   ],
   "source": [
    "x2"
   ]
  },
  {
   "cell_type": "code",
   "execution_count": 60,
   "id": "807a2949-359d-47cb-9605-e5a6c049ae84",
   "metadata": {},
   "outputs": [
    {
     "ename": "TypeError",
     "evalue": "'set' object is not subscriptable",
     "output_type": "error",
     "traceback": [
      "\u001b[0;31m---------------------------------------------------------------------------\u001b[0m",
      "\u001b[0;31mTypeError\u001b[0m                                 Traceback (most recent call last)",
      "Cell \u001b[0;32mIn [60], line 1\u001b[0m\n\u001b[0;32m----> 1\u001b[0m \u001b[43mx2\u001b[49m\u001b[43m[\u001b[49m\u001b[38;5;28;43;01mTrue\u001b[39;49;00m\u001b[43m]\u001b[49m\u001b[43m[\u001b[49m\u001b[38;5;241;43m1\u001b[39;49m\u001b[43m]\u001b[49m\n",
      "\u001b[0;31mTypeError\u001b[0m: 'set' object is not subscriptable"
     ]
    }
   ],
   "source": []
  },
  {
   "cell_type": "code",
   "execution_count": 66,
   "id": "c683f820-7559-44f7-892e-46f4dc83123b",
   "metadata": {},
   "outputs": [],
   "source": [
    "x1={\"op\": { \"k1\": \"wer\",\"k4\":[123,3123,4123]},(23,4,1,452):\"killer\",\"name\":\"mukhil\",\"age\":34235,\"name\":\"sdsda\",False:\"asdas\",234234:True}"
   ]
  },
  {
   "cell_type": "code",
   "execution_count": 72,
   "id": "83d66c4d-13a2-47ce-81dd-714287f329a6",
   "metadata": {},
   "outputs": [
    {
     "data": {
      "text/plain": [
       "123"
      ]
     },
     "execution_count": 72,
     "metadata": {},
     "output_type": "execute_result"
    }
   ],
   "source": [
    "x1[\"op\"][\"k4\"][0]"
   ]
  },
  {
   "cell_type": "code",
   "execution_count": 73,
   "id": "b2b8e2a5-e387-46af-b78e-99d6a1553637",
   "metadata": {},
   "outputs": [],
   "source": [
    "x3={\"op\": { \"k1\": \"wer\",\"k4\":[123,3123,4123]}}"
   ]
  },
  {
   "cell_type": "code",
   "execution_count": 74,
   "id": "b64a9945-fc2c-4aaa-92df-7f82eb80d6e5",
   "metadata": {},
   "outputs": [
    {
     "data": {
      "text/plain": [
       "{'op': {'k1': 'wer', 'k4': [123, 3123, 4123]}}"
      ]
     },
     "execution_count": 74,
     "metadata": {},
     "output_type": "execute_result"
    }
   ],
   "source": [
    "x3"
   ]
  },
  {
   "cell_type": "code",
   "execution_count": 76,
   "id": "4158992c-1ab8-40e9-8a8e-029c8e233681",
   "metadata": {},
   "outputs": [],
   "source": [
    "x3[\"k4\"]=\"liju\""
   ]
  },
  {
   "cell_type": "code",
   "execution_count": 77,
   "id": "24efe3f5-cccf-44bb-a3f1-8159ae657e2a",
   "metadata": {},
   "outputs": [
    {
     "data": {
      "text/plain": [
       "{'op': {'k1': 'wer', 'k4': [123, 3123, 4123]}, 'k4': 'liju'}"
      ]
     },
     "execution_count": 77,
     "metadata": {},
     "output_type": "execute_result"
    }
   ],
   "source": [
    "x3"
   ]
  },
  {
   "cell_type": "code",
   "execution_count": 78,
   "id": "20394f1e-782a-4905-8127-74ad91d21a52",
   "metadata": {},
   "outputs": [
    {
     "data": {
      "text/plain": [
       "dict_keys(['op', 'k4'])"
      ]
     },
     "execution_count": 78,
     "metadata": {},
     "output_type": "execute_result"
    }
   ],
   "source": [
    "x3.keys()"
   ]
  },
  {
   "cell_type": "code",
   "execution_count": 81,
   "id": "f5a342b4-f656-4f48-831a-9a809da0ac58",
   "metadata": {},
   "outputs": [
    {
     "data": {
      "text/plain": [
       "{'o': None, 'p': None}"
      ]
     },
     "execution_count": 81,
     "metadata": {},
     "output_type": "execute_result"
    }
   ],
   "source": [
    "x3.fromkeys(\"op\")"
   ]
  },
  {
   "cell_type": "code",
   "execution_count": 82,
   "id": "800dec84-fba7-4c24-ad97-fe5118566a7b",
   "metadata": {},
   "outputs": [
    {
     "name": "stdout",
     "output_type": "stream",
     "text": [
      "{'k1': 'wer', 'k4': [123, 3123, 4123]}\n",
      "liju\n"
     ]
    }
   ],
   "source": [
    "for i in x3.keys():\n",
    "    print(x3[i])"
   ]
  },
  {
   "cell_type": "code",
   "execution_count": 83,
   "id": "1eacd068-eeea-4f3f-8944-994c14b9f506",
   "metadata": {},
   "outputs": [
    {
     "data": {
      "text/plain": [
       "{5: (234, 123, 4, 1),\n",
       " True: {234, 12351, 23434},\n",
       " 'name': 'sdsda',\n",
       " 'age': 34235,\n",
       " False: 'asdas',\n",
       " 234234: True}"
      ]
     },
     "execution_count": 83,
     "metadata": {},
     "output_type": "execute_result"
    }
   ],
   "source": [
    "x2"
   ]
  },
  {
   "cell_type": "code",
   "execution_count": 86,
   "id": "1a341bf6-466a-4c10-864d-04e58064aa1f",
   "metadata": {},
   "outputs": [
    {
     "name": "stdout",
     "output_type": "stream",
     "text": [
      "<class 'tuple'>\n",
      "<class 'set'>\n",
      "<class 'str'>\n",
      "<class 'int'>\n",
      "<class 'str'>\n",
      "<class 'bool'>\n"
     ]
    }
   ],
   "source": [
    "for i in x2.keys():\n",
    "    print(type(x2[i]))"
   ]
  },
  {
   "cell_type": "code",
   "execution_count": 87,
   "id": "63f49344-56a6-4ea3-9b0f-26ab080ded4d",
   "metadata": {},
   "outputs": [],
   "source": [
    "x5={(34,2134,4123):\"afasdas\"}"
   ]
  },
  {
   "cell_type": "code",
   "execution_count": 88,
   "id": "f25f8121-ddc2-4e13-97a9-c6f7c746bf81",
   "metadata": {},
   "outputs": [
    {
     "data": {
      "text/plain": [
       "{5: (234, 123, 4, 1),\n",
       " True: {234, 12351, 23434},\n",
       " 'name': 'sdsda',\n",
       " 'age': 34235,\n",
       " False: 'asdas',\n",
       " 234234: True}"
      ]
     },
     "execution_count": 88,
     "metadata": {},
     "output_type": "execute_result"
    }
   ],
   "source": [
    "x2"
   ]
  },
  {
   "cell_type": "code",
   "execution_count": 89,
   "id": "4703b631-07d6-4a9b-8193-6f21129c5192",
   "metadata": {},
   "outputs": [
    {
     "data": {
      "text/plain": [
       "6"
      ]
     },
     "execution_count": 89,
     "metadata": {},
     "output_type": "execute_result"
    }
   ],
   "source": [
    "len(x2)"
   ]
  },
  {
   "cell_type": "code",
   "execution_count": 90,
   "id": "edf79b4f-3207-43c5-a87c-4e5eb3017b05",
   "metadata": {},
   "outputs": [],
   "source": [
    "# take input as a paragaph by using input function\n",
    "# convert all of this input into list\n",
    "#remove all the duplicate element from ur list\n",
    "#Use above distinct element as a key for dictionary\n",
    "# and assign you name as a value of all the key for dictionary\n",
    "# Try to print tuple of all the values\n",
    "# try to print list of all the key"
   ]
  },
  {
   "cell_type": "code",
   "execution_count": 94,
   "id": "92afd7d4-a110-4caa-9067-42f21d1b45a2",
   "metadata": {},
   "outputs": [
    {
     "name": "stdin",
     "output_type": "stream",
     "text": [
      "enter the input Hector Berlioz (11 December 1803 – 8 March 1869) was a French Romantic composer. His output includes orchestral works such as Harold in Italy, choral pieces including his Requiem and L'enfance du Christ, and works of hybrid genres such as the \"dramatic symphony\" Roméo et Juliette and the \"dramatic legend\" La damnation de Faust. Expected to enter medicine, Berlioz defied his family by taking up music, and won the Prix de Rome in 1830. Berlioz married the Irish Shakespearean actress Harriet Smithson, who inspired his first major success, the Symphonie fantastique, in which an idealised depiction of her occurs throughout. His first opera, Benvenuto Cellini, was a failure. The second, the epic Les Troyens, was so large in scale that it was never staged in its entirety during his lifetime. Meeting only occasional success in France as a composer, Berlioz turned to conducting, in which he gained an international reputation. He also wrote musical journalism throughout much of his career.\n"
     ]
    }
   ],
   "source": [
    "a=input(\"enter the input\")\n",
    "b=list(a.split(\" \"))"
   ]
  },
  {
   "cell_type": "code",
   "execution_count": null,
   "id": "5219429a-d4a5-440a-8dcc-14a61aaff018",
   "metadata": {},
   "outputs": [],
   "source": []
  },
  {
   "cell_type": "code",
   "execution_count": 95,
   "id": "ec37fdf2-8b3a-4f9b-a50b-73671ca6ac41",
   "metadata": {},
   "outputs": [
    {
     "data": {
      "text/plain": [
       "['Hector',\n",
       " 'Berlioz',\n",
       " '(11',\n",
       " 'December',\n",
       " '1803',\n",
       " '–',\n",
       " '8',\n",
       " 'March',\n",
       " '1869)',\n",
       " 'was',\n",
       " 'a',\n",
       " 'French',\n",
       " 'Romantic',\n",
       " 'composer.',\n",
       " 'His',\n",
       " 'output',\n",
       " 'includes',\n",
       " 'orchestral',\n",
       " 'works',\n",
       " 'such',\n",
       " 'as',\n",
       " 'Harold',\n",
       " 'in',\n",
       " 'Italy,',\n",
       " 'choral',\n",
       " 'pieces',\n",
       " 'including',\n",
       " 'his',\n",
       " 'Requiem',\n",
       " 'and',\n",
       " \"L'enfance\",\n",
       " 'du',\n",
       " 'Christ,',\n",
       " 'and',\n",
       " 'works',\n",
       " 'of',\n",
       " 'hybrid',\n",
       " 'genres',\n",
       " 'such',\n",
       " 'as',\n",
       " 'the',\n",
       " '\"dramatic',\n",
       " 'symphony\"',\n",
       " 'Roméo',\n",
       " 'et',\n",
       " 'Juliette',\n",
       " 'and',\n",
       " 'the',\n",
       " '\"dramatic',\n",
       " 'legend\"',\n",
       " 'La',\n",
       " 'damnation',\n",
       " 'de',\n",
       " 'Faust.',\n",
       " 'Expected',\n",
       " 'to',\n",
       " 'enter',\n",
       " 'medicine,',\n",
       " 'Berlioz',\n",
       " 'defied',\n",
       " 'his',\n",
       " 'family',\n",
       " 'by',\n",
       " 'taking',\n",
       " 'up',\n",
       " 'music,',\n",
       " 'and',\n",
       " 'won',\n",
       " 'the',\n",
       " 'Prix',\n",
       " 'de',\n",
       " 'Rome',\n",
       " 'in',\n",
       " '1830.',\n",
       " 'Berlioz',\n",
       " 'married',\n",
       " 'the',\n",
       " 'Irish',\n",
       " 'Shakespearean',\n",
       " 'actress',\n",
       " 'Harriet',\n",
       " 'Smithson,',\n",
       " 'who',\n",
       " 'inspired',\n",
       " 'his',\n",
       " 'first',\n",
       " 'major',\n",
       " 'success,',\n",
       " 'the',\n",
       " 'Symphonie',\n",
       " 'fantastique,',\n",
       " 'in',\n",
       " 'which',\n",
       " 'an',\n",
       " 'idealised',\n",
       " 'depiction',\n",
       " 'of',\n",
       " 'her',\n",
       " 'occurs',\n",
       " 'throughout.',\n",
       " 'His',\n",
       " 'first',\n",
       " 'opera,',\n",
       " 'Benvenuto',\n",
       " 'Cellini,',\n",
       " 'was',\n",
       " 'a',\n",
       " 'failure.',\n",
       " 'The',\n",
       " 'second,',\n",
       " 'the',\n",
       " 'epic',\n",
       " 'Les',\n",
       " 'Troyens,',\n",
       " 'was',\n",
       " 'so',\n",
       " 'large',\n",
       " 'in',\n",
       " 'scale',\n",
       " 'that',\n",
       " 'it',\n",
       " 'was',\n",
       " 'never',\n",
       " 'staged',\n",
       " 'in',\n",
       " 'its',\n",
       " 'entirety',\n",
       " 'during',\n",
       " 'his',\n",
       " 'lifetime.',\n",
       " 'Meeting',\n",
       " 'only',\n",
       " 'occasional',\n",
       " 'success',\n",
       " 'in',\n",
       " 'France',\n",
       " 'as',\n",
       " 'a',\n",
       " 'composer,',\n",
       " 'Berlioz',\n",
       " 'turned',\n",
       " 'to',\n",
       " 'conducting,',\n",
       " 'in',\n",
       " 'which',\n",
       " 'he',\n",
       " 'gained',\n",
       " 'an',\n",
       " 'international',\n",
       " 'reputation.',\n",
       " 'He',\n",
       " 'also',\n",
       " 'wrote',\n",
       " 'musical',\n",
       " 'journalism',\n",
       " 'throughout',\n",
       " 'much',\n",
       " 'of',\n",
       " 'his',\n",
       " 'career.']"
      ]
     },
     "execution_count": 95,
     "metadata": {},
     "output_type": "execute_result"
    }
   ],
   "source": [
    "b"
   ]
  },
  {
   "cell_type": "code",
   "execution_count": 96,
   "id": "3c77f6e3-0103-464e-b946-0b3866e04f00",
   "metadata": {},
   "outputs": [],
   "source": [
    "c=set(b)"
   ]
  },
  {
   "cell_type": "code",
   "execution_count": 97,
   "id": "9b17504a-251a-44f9-956f-4b6e118b40a6",
   "metadata": {},
   "outputs": [
    {
     "data": {
      "text/plain": [
       "{'\"dramatic',\n",
       " '(11',\n",
       " '1803',\n",
       " '1830.',\n",
       " '1869)',\n",
       " '8',\n",
       " 'Benvenuto',\n",
       " 'Berlioz',\n",
       " 'Cellini,',\n",
       " 'Christ,',\n",
       " 'December',\n",
       " 'Expected',\n",
       " 'Faust.',\n",
       " 'France',\n",
       " 'French',\n",
       " 'Harold',\n",
       " 'Harriet',\n",
       " 'He',\n",
       " 'Hector',\n",
       " 'His',\n",
       " 'Irish',\n",
       " 'Italy,',\n",
       " 'Juliette',\n",
       " \"L'enfance\",\n",
       " 'La',\n",
       " 'Les',\n",
       " 'March',\n",
       " 'Meeting',\n",
       " 'Prix',\n",
       " 'Requiem',\n",
       " 'Romantic',\n",
       " 'Rome',\n",
       " 'Roméo',\n",
       " 'Shakespearean',\n",
       " 'Smithson,',\n",
       " 'Symphonie',\n",
       " 'The',\n",
       " 'Troyens,',\n",
       " 'a',\n",
       " 'actress',\n",
       " 'also',\n",
       " 'an',\n",
       " 'and',\n",
       " 'as',\n",
       " 'by',\n",
       " 'career.',\n",
       " 'choral',\n",
       " 'composer,',\n",
       " 'composer.',\n",
       " 'conducting,',\n",
       " 'damnation',\n",
       " 'de',\n",
       " 'defied',\n",
       " 'depiction',\n",
       " 'du',\n",
       " 'during',\n",
       " 'enter',\n",
       " 'entirety',\n",
       " 'epic',\n",
       " 'et',\n",
       " 'failure.',\n",
       " 'family',\n",
       " 'fantastique,',\n",
       " 'first',\n",
       " 'gained',\n",
       " 'genres',\n",
       " 'he',\n",
       " 'her',\n",
       " 'his',\n",
       " 'hybrid',\n",
       " 'idealised',\n",
       " 'in',\n",
       " 'includes',\n",
       " 'including',\n",
       " 'inspired',\n",
       " 'international',\n",
       " 'it',\n",
       " 'its',\n",
       " 'journalism',\n",
       " 'large',\n",
       " 'legend\"',\n",
       " 'lifetime.',\n",
       " 'major',\n",
       " 'married',\n",
       " 'medicine,',\n",
       " 'much',\n",
       " 'music,',\n",
       " 'musical',\n",
       " 'never',\n",
       " 'occasional',\n",
       " 'occurs',\n",
       " 'of',\n",
       " 'only',\n",
       " 'opera,',\n",
       " 'orchestral',\n",
       " 'output',\n",
       " 'pieces',\n",
       " 'reputation.',\n",
       " 'scale',\n",
       " 'second,',\n",
       " 'so',\n",
       " 'staged',\n",
       " 'success',\n",
       " 'success,',\n",
       " 'such',\n",
       " 'symphony\"',\n",
       " 'taking',\n",
       " 'that',\n",
       " 'the',\n",
       " 'throughout',\n",
       " 'throughout.',\n",
       " 'to',\n",
       " 'turned',\n",
       " 'up',\n",
       " 'was',\n",
       " 'which',\n",
       " 'who',\n",
       " 'won',\n",
       " 'works',\n",
       " 'wrote',\n",
       " '–'}"
      ]
     },
     "execution_count": 97,
     "metadata": {},
     "output_type": "execute_result"
    }
   ],
   "source": [
    "c"
   ]
  },
  {
   "cell_type": "code",
   "execution_count": 98,
   "id": "7313343a-ce78-4335-90e9-d3344cdfc9f4",
   "metadata": {},
   "outputs": [
    {
     "name": "stdout",
     "output_type": "stream",
     "text": [
      "{'Meeting': 'mukhil'}\n",
      "{'which': 'mukhil'}\n",
      "{'hybrid': 'mukhil'}\n",
      "{'lifetime.': 'mukhil'}\n",
      "{'scale': 'mukhil'}\n",
      "{'\"dramatic': 'mukhil'}\n",
      "{'Faust.': 'mukhil'}\n",
      "{'up': 'mukhil'}\n",
      "{'orchestral': 'mukhil'}\n",
      "{'success,': 'mukhil'}\n",
      "{'Christ,': 'mukhil'}\n",
      "{'and': 'mukhil'}\n",
      "{'epic': 'mukhil'}\n",
      "{'Cellini,': 'mukhil'}\n",
      "{'such': 'mukhil'}\n",
      "{'Rome': 'mukhil'}\n",
      "{'journalism': 'mukhil'}\n",
      "{'won': 'mukhil'}\n",
      "{'its': 'mukhil'}\n",
      "{'Italy,': 'mukhil'}\n",
      "{'during': 'mukhil'}\n",
      "{'throughout': 'mukhil'}\n",
      "{'he': 'mukhil'}\n",
      "{'–': 'mukhil'}\n",
      "{'musical': 'mukhil'}\n",
      "{'Les': 'mukhil'}\n",
      "{'including': 'mukhil'}\n",
      "{'inspired': 'mukhil'}\n",
      "{'married': 'mukhil'}\n",
      "{'The': 'mukhil'}\n",
      "{'turned': 'mukhil'}\n",
      "{'December': 'mukhil'}\n",
      "{'international': 'mukhil'}\n",
      "{'gained': 'mukhil'}\n",
      "{'of': 'mukhil'}\n",
      "{'only': 'mukhil'}\n",
      "{'career.': 'mukhil'}\n",
      "{'it': 'mukhil'}\n",
      "{'France': 'mukhil'}\n",
      "{'in': 'mukhil'}\n",
      "{'entirety': 'mukhil'}\n",
      "{'genres': 'mukhil'}\n",
      "{'large': 'mukhil'}\n",
      "{'much': 'mukhil'}\n",
      "{'taking': 'mukhil'}\n",
      "{'Irish': 'mukhil'}\n",
      "{'music,': 'mukhil'}\n",
      "{'second,': 'mukhil'}\n",
      "{'never': 'mukhil'}\n",
      "{'Smithson,': 'mukhil'}\n",
      "{'idealised': 'mukhil'}\n",
      "{'Prix': 'mukhil'}\n",
      "{'so': 'mukhil'}\n",
      "{'Symphonie': 'mukhil'}\n",
      "{'actress': 'mukhil'}\n",
      "{'Berlioz': 'mukhil'}\n",
      "{'Expected': 'mukhil'}\n",
      "{'Juliette': 'mukhil'}\n",
      "{'Harriet': 'mukhil'}\n",
      "{'enter': 'mukhil'}\n",
      "{'output': 'mukhil'}\n",
      "{'her': 'mukhil'}\n",
      "{'March': 'mukhil'}\n",
      "{'family': 'mukhil'}\n",
      "{'first': 'mukhil'}\n",
      "{'failure.': 'mukhil'}\n",
      "{'success': 'mukhil'}\n",
      "{'occurs': 'mukhil'}\n",
      "{'to': 'mukhil'}\n",
      "{'the': 'mukhil'}\n",
      "{'8': 'mukhil'}\n",
      "{'Romantic': 'mukhil'}\n",
      "{'composer,': 'mukhil'}\n",
      "{'de': 'mukhil'}\n",
      "{'French': 'mukhil'}\n",
      "{\"L'enfance\": 'mukhil'}\n",
      "{'major': 'mukhil'}\n",
      "{'by': 'mukhil'}\n",
      "{'as': 'mukhil'}\n",
      "{'Shakespearean': 'mukhil'}\n",
      "{'Roméo': 'mukhil'}\n",
      "{'his': 'mukhil'}\n",
      "{'includes': 'mukhil'}\n",
      "{'legend\"': 'mukhil'}\n",
      "{'choral': 'mukhil'}\n",
      "{'Harold': 'mukhil'}\n",
      "{'works': 'mukhil'}\n",
      "{'fantastique,': 'mukhil'}\n",
      "{'He': 'mukhil'}\n",
      "{'(11': 'mukhil'}\n",
      "{'1869)': 'mukhil'}\n",
      "{'Troyens,': 'mukhil'}\n",
      "{'reputation.': 'mukhil'}\n",
      "{'du': 'mukhil'}\n",
      "{'wrote': 'mukhil'}\n",
      "{'Requiem': 'mukhil'}\n",
      "{'damnation': 'mukhil'}\n",
      "{'1830.': 'mukhil'}\n",
      "{'La': 'mukhil'}\n",
      "{'symphony\"': 'mukhil'}\n",
      "{'depiction': 'mukhil'}\n",
      "{'opera,': 'mukhil'}\n",
      "{'that': 'mukhil'}\n",
      "{'pieces': 'mukhil'}\n",
      "{'also': 'mukhil'}\n",
      "{'composer.': 'mukhil'}\n",
      "{'a': 'mukhil'}\n",
      "{'was': 'mukhil'}\n",
      "{'medicine,': 'mukhil'}\n",
      "{'defied': 'mukhil'}\n",
      "{'et': 'mukhil'}\n",
      "{'an': 'mukhil'}\n",
      "{'Benvenuto': 'mukhil'}\n",
      "{'1803': 'mukhil'}\n",
      "{'throughout.': 'mukhil'}\n",
      "{'who': 'mukhil'}\n",
      "{'staged': 'mukhil'}\n",
      "{'Hector': 'mukhil'}\n",
      "{'conducting,': 'mukhil'}\n",
      "{'occasional': 'mukhil'}\n",
      "{'His': 'mukhil'}\n"
     ]
    }
   ],
   "source": [
    "for i in c:\n",
    "    c={i:\"mukhil\"}\n",
    "    print(c)"
   ]
  },
  {
   "cell_type": "code",
   "execution_count": 99,
   "id": "32dc7f76-152e-4ac2-b222-c817cb2a0e97",
   "metadata": {},
   "outputs": [
    {
     "data": {
      "text/plain": [
       "dict"
      ]
     },
     "execution_count": 99,
     "metadata": {},
     "output_type": "execute_result"
    }
   ],
   "source": [
    "type(c)"
   ]
  },
  {
   "cell_type": "code",
   "execution_count": 104,
   "id": "a9035925-e22b-46a3-926d-ae0f973cf239",
   "metadata": {},
   "outputs": [
    {
     "name": "stdin",
     "output_type": "stream",
     "text": [
      "enter the input adsdasd dasfgsgadf adsdasdasdasa asdasg\n"
     ]
    }
   ],
   "source": [
    "a=input(\"enter the input\")\n",
    "b=list(a.split(\" \"))\n",
    "s1=set(b)\n",
    "dict1=dict.fromkeys(s1,\"mukhil\")\n",
    "tuple1=tuple(dict1.values())\n",
    "list1=list(dict1.keys())"
   ]
  },
  {
   "cell_type": "code",
   "execution_count": 106,
   "id": "e8899e68-f245-48f5-8ce9-0168fa7793fa",
   "metadata": {},
   "outputs": [
    {
     "data": {
      "text/plain": [
       "{'adsdasd', 'adsdasdasdasa', 'asdasg', 'dasfgsgadf'}"
      ]
     },
     "execution_count": 106,
     "metadata": {},
     "output_type": "execute_result"
    }
   ],
   "source": [
    "s1"
   ]
  },
  {
   "cell_type": "code",
   "execution_count": 107,
   "id": "9f3d52b9-d72a-47c9-8a16-55d383e26987",
   "metadata": {},
   "outputs": [
    {
     "data": {
      "text/plain": [
       "{'adsdasd': 'mukhil',\n",
       " 'dasfgsgadf': 'mukhil',\n",
       " 'adsdasdasdasa': 'mukhil',\n",
       " 'asdasg': 'mukhil'}"
      ]
     },
     "execution_count": 107,
     "metadata": {},
     "output_type": "execute_result"
    }
   ],
   "source": [
    "dict1"
   ]
  },
  {
   "cell_type": "markdown",
   "id": "ae89a555-657f-4841-9847-ec9b96948edc",
   "metadata": {},
   "source": [
    "# "
   ]
  },
  {
   "cell_type": "code",
   "execution_count": 108,
   "id": "465ef6c2-146c-4505-913d-d59c051a47cc",
   "metadata": {},
   "outputs": [
    {
     "data": {
      "text/plain": [
       "['adsdasd', 'dasfgsgadf', 'adsdasdasdasa', 'asdasg']"
      ]
     },
     "execution_count": 108,
     "metadata": {},
     "output_type": "execute_result"
    }
   ],
   "source": [
    "list1"
   ]
  },
  {
   "cell_type": "code",
   "execution_count": 109,
   "id": "f9d3da66-06ec-45cc-b90f-d181775fe486",
   "metadata": {},
   "outputs": [],
   "source": [
    "d={\"dasdasda\":\"afgffafas\",\"couras\":\"dsasdas dasdasd\",\"year\":123123}"
   ]
  },
  {
   "cell_type": "code",
   "execution_count": 110,
   "id": "cf895e0e-cf19-4a44-921f-f0df6b24eaaa",
   "metadata": {},
   "outputs": [
    {
     "name": "stdout",
     "output_type": "stream",
     "text": [
      "print a key dasdasda valuse wise afgffafas\n",
      "print a key couras valuse wise dsasdas dasdasd\n",
      "print a key year valuse wise 123123\n"
     ]
    }
   ],
   "source": [
    "for i in d:\n",
    "    print(\"print a key\", i, \"valuse wise\", d[i])"
   ]
  },
  {
   "cell_type": "code",
   "execution_count": 111,
   "id": "0ac88c2d-f467-45ae-bd9f-02d9c84adf5f",
   "metadata": {},
   "outputs": [],
   "source": [
    "for i in d:\n",
    "    if i==\"year\":\n",
    "        if d[i]<123122:\n",
    "            print(\"its fine\")\n",
    "        else:\n",
    "            d[i]=2023"
   ]
  },
  {
   "cell_type": "code",
   "execution_count": 112,
   "id": "0bbc5caa-fa4e-427c-b037-99a52d74848c",
   "metadata": {},
   "outputs": [
    {
     "data": {
      "text/plain": [
       "{'dasdasda': 'afgffafas', 'couras': 'dsasdas dasdasd', 'year': 2023}"
      ]
     },
     "execution_count": 112,
     "metadata": {},
     "output_type": "execute_result"
    }
   ],
   "source": [
    "d"
   ]
  },
  {
   "cell_type": "code",
   "execution_count": null,
   "id": "e933bd41-3017-44a5-9712-63c88fbc2422",
   "metadata": {},
   "outputs": [],
   "source": [
    "enumerate"
   ]
  }
 ],
 "metadata": {
  "kernelspec": {
   "display_name": "Python 3 (ipykernel)",
   "language": "python",
   "name": "python3"
  },
  "language_info": {
   "codemirror_mode": {
    "name": "ipython",
    "version": 3
   },
   "file_extension": ".py",
   "mimetype": "text/x-python",
   "name": "python",
   "nbconvert_exporter": "python",
   "pygments_lexer": "ipython3",
   "version": "3.10.6"
  }
 },
 "nbformat": 4,
 "nbformat_minor": 5
}
