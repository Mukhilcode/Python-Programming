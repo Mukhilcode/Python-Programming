{
 "cells": [
  {
   "cell_type": "code",
   "execution_count": 1,
   "id": "1cf28886-5901-4ecb-bac8-4c6a0342c2ba",
   "metadata": {},
   "outputs": [],
   "source": [
    "#Class and Object"
   ]
  },
  {
   "cell_type": "code",
   "execution_count": 3,
   "id": "9b688cf9-ea43-431c-ac2d-07003697301e",
   "metadata": {},
   "outputs": [],
   "source": [
    "class car:\n",
    "    pass"
   ]
  },
  {
   "cell_type": "code",
   "execution_count": 4,
   "id": "041fdfe7-3138-47e4-9c38-663f01cd3d70",
   "metadata": {},
   "outputs": [],
   "source": [
    "audiq7=car()"
   ]
  },
  {
   "cell_type": "code",
   "execution_count": 5,
   "id": "d7ab9f58-730b-418f-848f-5f29f7314e64",
   "metadata": {},
   "outputs": [
    {
     "data": {
      "text/plain": [
       "<__main__.car at 0x7f2cf500dea0>"
      ]
     },
     "execution_count": 5,
     "metadata": {},
     "output_type": "execute_result"
    }
   ],
   "source": [
    "audiq7"
   ]
  },
  {
   "cell_type": "code",
   "execution_count": 6,
   "id": "30b950cf-51b9-46fe-bd73-4b13c5a76b3f",
   "metadata": {},
   "outputs": [],
   "source": [
    "audiq7.mileage=20\n",
    "audiq7.year=1235\n",
    "audiq7.make=125\n",
    "audiq7.model=\"asdasd\""
   ]
  },
  {
   "cell_type": "code",
   "execution_count": 7,
   "id": "8740af0d-9ecb-4dde-ae69-25ba1fce1a00",
   "metadata": {},
   "outputs": [
    {
     "data": {
      "text/plain": [
       "20"
      ]
     },
     "execution_count": 7,
     "metadata": {},
     "output_type": "execute_result"
    }
   ],
   "source": [
    "audiq7.mileage"
   ]
  },
  {
   "cell_type": "code",
   "execution_count": 8,
   "id": "bf8a90c4-85f0-455e-b638-6f2329851ddb",
   "metadata": {},
   "outputs": [],
   "source": [
    "nano=car()"
   ]
  },
  {
   "cell_type": "code",
   "execution_count": 10,
   "id": "898be659-8f77-4bc6-993a-807c17f5b10e",
   "metadata": {},
   "outputs": [],
   "source": [
    "nano.mileage=30\n",
    "nano.year=1987\n",
    "nano.make=785\n",
    "nano.model=\"lalsdkasd\"\n",
    "nano.engineno=541321654894"
   ]
  },
  {
   "cell_type": "code",
   "execution_count": 11,
   "id": "0cb5f06d-3058-4c0c-b6aa-10807a35f073",
   "metadata": {},
   "outputs": [
    {
     "name": "stdout",
     "output_type": "stream",
     "text": [
      "541321654894 asdasd\n"
     ]
    }
   ],
   "source": [
    "print(nano.engineno, audiq7.model)"
   ]
  },
  {
   "cell_type": "code",
   "execution_count": 1,
   "id": "fa13602a-05f2-4ce9-945d-7c370a32ecfc",
   "metadata": {},
   "outputs": [],
   "source": [
    "class car:\n",
    "    def __init__(self, mileage,year,make,model):\n",
    "        self.mileage= mileage\n",
    "        self.year=year\n",
    "        self.make=make\n",
    "        self.model=model"
   ]
  },
  {
   "cell_type": "code",
   "execution_count": 4,
   "id": "61f4c664-04bf-46dd-9bf8-9c427744da55",
   "metadata": {},
   "outputs": [],
   "source": [
    "nano1=car(23,23,132,\"asds\")\n",
    "audiq71=car(12,24,656,\"adsdad\")"
   ]
  },
  {
   "cell_type": "code",
   "execution_count": 5,
   "id": "8aef6a51-a2a0-41c1-9570-c5d601f09a2e",
   "metadata": {},
   "outputs": [
    {
     "data": {
      "text/plain": [
       "132"
      ]
     },
     "execution_count": 5,
     "metadata": {},
     "output_type": "execute_result"
    }
   ],
   "source": [
    "nano1.make"
   ]
  },
  {
   "cell_type": "code",
   "execution_count": 1,
   "id": "c48321e1-d87e-4d65-b618-7c4467065b49",
   "metadata": {},
   "outputs": [],
   "source": [
    "class car:\n",
    "    def __init__(self, m,y,ma,mo):\n",
    "        self.mileage= m\n",
    "        self.year=y\n",
    "        self.make=ma\n",
    "        self.model=mo\n",
    "    def age(self,current_year):\n",
    "        return current_year-self.year\n",
    "    def mileage1(self):\n",
    "        print(\"print a mileage of the car\",self.mileage)\n",
    "    def _str_(c):\n",
    "        return \"this is my car class\"\n",
    "        "
   ]
  },
  {
   "cell_type": "code",
   "execution_count": 2,
   "id": "4e64b7f2-9a3a-4a57-8731-ab6ceb7acdb4",
   "metadata": {},
   "outputs": [
    {
     "name": "stdout",
     "output_type": "stream",
     "text": [
      "print a mileage of the car 23\n",
      "<__main__.car object at 0x7fdccb664f10>\n"
     ]
    }
   ],
   "source": [
    "nano1=car(23,23,132,\"asds\")\n",
    "\n",
    "nano1.age(2023)\n",
    "nano1.mileage1()\n",
    "print(nano1)"
   ]
  },
  {
   "cell_type": "code",
   "execution_count": 8,
   "id": "1b60ea51-8a55-4684-a066-a3342043c4f2",
   "metadata": {},
   "outputs": [],
   "source": [
    "class student:\n",
    "    def __init__(self, name, rollno, joining_date, current_topic):\n",
    "        self.name=name\n",
    "        self.rollno=rollno\n",
    "        self.joining_date=joining_date\n",
    "        self.current_topic=current_topic\n",
    "    \n",
    "    def name_Parsing(self):\n",
    "        if type(self.name)==list:\n",
    "            for i in self.name:\n",
    "                print(\"name of the student\",i)\n",
    "        else:\n",
    "            print(\"provided name is not in a form of list\")\n",
    "    def crt_topic(self):\n",
    "        print(\"current topic in my class is:\",self.current_topic)\n",
    "    def str_rollno(self):\n",
    "        try:\n",
    "            if type(self.rollno)==str:\n",
    "                print(\"nothing\")\n",
    "            else:\n",
    "                return str(self.rollno)\n",
    "\n",
    "        except Exception as e:\n",
    "            print(\"this is my error msg\",e)\n",
    "    \n",
    "    \n",
    "    def duration(self, current_date):\n",
    "        print(\"duration of student in my class is\", current_date-self.joining_date)\n",
    "    \n",
    "    def __str__(self):\n",
    "        return \"this is student class where can input their own data\""
   ]
  },
  {
   "cell_type": "code",
   "execution_count": 2,
   "id": "04580c08-3831-4a74-a7ef-e18cd0d6e93c",
   "metadata": {},
   "outputs": [],
   "source": [
    "srini=student(\"srini\", 231231,2023,\"oops\")"
   ]
  },
  {
   "cell_type": "code",
   "execution_count": 3,
   "id": "67664ebb-3332-4943-814f-521e2b6b90c1",
   "metadata": {},
   "outputs": [
    {
     "name": "stdout",
     "output_type": "stream",
     "text": [
      "duration of student in my class is 0\n"
     ]
    }
   ],
   "source": [
    "srini.duration(2023)"
   ]
  },
  {
   "cell_type": "code",
   "execution_count": 4,
   "id": "d8338703-4328-461a-8632-4f5e1d149f88",
   "metadata": {},
   "outputs": [
    {
     "data": {
      "text/plain": [
       "'231231'"
      ]
     },
     "execution_count": 4,
     "metadata": {},
     "output_type": "execute_result"
    }
   ],
   "source": [
    "srini.str_rollno()"
   ]
  },
  {
   "cell_type": "code",
   "execution_count": 5,
   "id": "5e53c34b-272c-4bd7-95a6-45a058bf5727",
   "metadata": {},
   "outputs": [
    {
     "name": "stdout",
     "output_type": "stream",
     "text": [
      "this is student class where can input their own data\n"
     ]
    }
   ],
   "source": [
    "print(srini)"
   ]
  },
  {
   "cell_type": "code",
   "execution_count": 9,
   "id": "54114762-6dd4-430f-a187-abe9862f7972",
   "metadata": {},
   "outputs": [],
   "source": [
    "pawan=student([\"naveen\",\"jai\",\"himanshu\",\"prakash\"],[12,1233,2342,2342],1212,\"adssad\" )"
   ]
  },
  {
   "cell_type": "code",
   "execution_count": 10,
   "id": "db146cd8-6d83-4eaf-9e7a-4f8d7d00845e",
   "metadata": {},
   "outputs": [
    {
     "name": "stdout",
     "output_type": "stream",
     "text": [
      "name of the student naveen\n",
      "name of the student jai\n",
      "name of the student himanshu\n",
      "name of the student prakash\n"
     ]
    }
   ],
   "source": [
    "pawan.name_Parsing()"
   ]
  },
  {
   "cell_type": "code",
   "execution_count": 1,
   "id": "9e6c27ae-ea2c-42d8-9c20-549ebbefcd82",
   "metadata": {},
   "outputs": [
    {
     "data": {
      "text/plain": [
       "'create a class data\\n#class variable file name, file type, date and size\\n#create a fn() fileopen, take the filename \\n#create if non exist\\n#create fun() file read\\ncreat a fn() file append. append new data in same file\\nand show\\nimplement logger and exception handiling\\n'"
      ]
     },
     "execution_count": 1,
     "metadata": {},
     "output_type": "execute_result"
    }
   ],
   "source": [
    "\"\"\"create a class data\n",
    "#class variable file name, file type, date and size\n",
    "#create a fn() fileopen, take the filename \n",
    "#create if non exist\n",
    "#create fun() file read\n",
    "creat a fn() file append. append new data in same file\n",
    "and show\n",
    "implement logger and exception handiling\n",
    "\"\"\""
   ]
  },
  {
   "cell_type": "code",
   "execution_count": 9,
   "id": "43b4a442-190f-4534-9605-d6ffc798bd32",
   "metadata": {},
   "outputs": [],
   "source": [
    "class data:\n",
    "    def __init__(self, File_Name, File_Type, date, size):\n",
    "        self.File_Name=File_Name\n",
    "        self.File_Type=File_Type\n",
    "        self.date=date\n",
    "        self.size=size\n",
    "        \n",
    "    def file_open(self):\n",
    "        try:\n",
    "            f=open(self.File_Name,'w')\n",
    "            f.write(\"HI How are you!\")\n",
    "            f.close()\n",
    "        except Exception as e:\n",
    "            self.Logging_File(e)\n",
    "        \n",
    "        \n",
    "    def file_read(self):\n",
    "        try:\n",
    "            f=open(self.File_Name,'r')\n",
    "            print(f.read())\n",
    "            f.close()\n",
    "        except Exception as e:\n",
    "            self.Logging_File(e)\n",
    "            \n",
    "        \n",
    "    def file_append(self):\n",
    "        try:\n",
    "            f=open(self.File_Name,'w')\n",
    "            f.write(\"this is my 2nd update Hi!\")\n",
    "            f.close()\n",
    "        except Exception as e:\n",
    "            self.Logging_File(e)\n",
    "    \n",
    "    def Logging_File(self,log):\n",
    "        import logging as lg\n",
    "        lg.basicConfig(filename=\"file1.log\",level=lg.ERROR)\n",
    "        lg.error(log)\n",
    "        \n",
    "         "
   ]
  },
  {
   "cell_type": "code",
   "execution_count": 10,
   "id": "b09a2b69-1f00-4cca-bfed-ca7f8f23fc7b",
   "metadata": {},
   "outputs": [],
   "source": [
    "file1=data('file1',\"asdasd\",\"12/2/2023\",'2322MB')"
   ]
  },
  {
   "cell_type": "code",
   "execution_count": 11,
   "id": "d32840cf-738c-4973-a3de-d524924e0f17",
   "metadata": {},
   "outputs": [],
   "source": [
    "file1.file_open()"
   ]
  },
  {
   "cell_type": "code",
   "execution_count": 12,
   "id": "9e6a0f1c-dc0c-467d-9b92-5b4160645fc2",
   "metadata": {},
   "outputs": [
    {
     "name": "stdout",
     "output_type": "stream",
     "text": [
      "HI How are you!\n"
     ]
    }
   ],
   "source": [
    "file1.file_read()"
   ]
  },
  {
   "cell_type": "code",
   "execution_count": 13,
   "id": "37a70626-162f-4b1c-ae6a-3ec308a24598",
   "metadata": {},
   "outputs": [],
   "source": [
    "file1.file_append()"
   ]
  },
  {
   "cell_type": "code",
   "execution_count": 14,
   "id": "e6694d30-bce1-4c03-add1-ea9ff42fb876",
   "metadata": {},
   "outputs": [
    {
     "name": "stdout",
     "output_type": "stream",
     "text": [
      "this is my 2nd update Hi!\n"
     ]
    }
   ],
   "source": [
    "file1.file_read()"
   ]
  },
  {
   "cell_type": "code",
   "execution_count": null,
   "id": "ab422e80-3bfe-40b4-ae35-dffaa5cfbc39",
   "metadata": {},
   "outputs": [],
   "source": []
  }
 ],
 "metadata": {
  "kernelspec": {
   "display_name": "Python 3 (ipykernel)",
   "language": "python",
   "name": "python3"
  },
  "language_info": {
   "codemirror_mode": {
    "name": "ipython",
    "version": 3
   },
   "file_extension": ".py",
   "mimetype": "text/x-python",
   "name": "python",
   "nbconvert_exporter": "python",
   "pygments_lexer": "ipython3",
   "version": "3.10.6"
  }
 },
 "nbformat": 4,
 "nbformat_minor": 5
}
