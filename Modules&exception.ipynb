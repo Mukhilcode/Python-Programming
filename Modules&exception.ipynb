{
 "cells": [
  {
   "cell_type": "code",
   "execution_count": 1,
   "id": "6fa996c1-59f4-4a4f-849f-9538e6f3ff1a",
   "metadata": {},
   "outputs": [],
   "source": [
    "#Modules and Packages"
   ]
  },
  {
   "cell_type": "code",
   "execution_count": 2,
   "id": "2a80776f-4034-4efb-acc9-4eb6e79d0fe0",
   "metadata": {},
   "outputs": [],
   "source": [
    "import math"
   ]
  },
  {
   "cell_type": "code",
   "execution_count": 3,
   "id": "a32e645e-cc0f-463d-aa53-2aafd3a6f6d1",
   "metadata": {},
   "outputs": [
    {
     "data": {
      "text/plain": [
       "4.0"
      ]
     },
     "execution_count": 3,
     "metadata": {},
     "output_type": "execute_result"
    }
   ],
   "source": [
    "math.sqrt(16)"
   ]
  },
  {
   "cell_type": "code",
   "execution_count": 4,
   "id": "b564cf4b-e654-42c4-8063-9832aa692f27",
   "metadata": {},
   "outputs": [],
   "source": [
    "from math import sqrt"
   ]
  },
  {
   "cell_type": "code",
   "execution_count": 5,
   "id": "f8051523-383c-40f6-baab-d03b8bdbb08d",
   "metadata": {},
   "outputs": [
    {
     "data": {
      "text/plain": [
       "2.0"
      ]
     },
     "execution_count": 5,
     "metadata": {},
     "output_type": "execute_result"
    }
   ],
   "source": [
    "sqrt(4)"
   ]
  },
  {
   "cell_type": "code",
   "execution_count": 6,
   "id": "273061dd-a9c6-42cb-9d56-128185e046ec",
   "metadata": {},
   "outputs": [],
   "source": [
    "from math import *"
   ]
  },
  {
   "cell_type": "code",
   "execution_count": 7,
   "id": "f33a6f42-fde4-48c9-a344-2f06d7f9cac9",
   "metadata": {},
   "outputs": [
    {
     "data": {
      "text/plain": [
       "0.0"
      ]
     },
     "execution_count": 7,
     "metadata": {},
     "output_type": "execute_result"
    }
   ],
   "source": [
    "sin(0)"
   ]
  },
  {
   "cell_type": "code",
   "execution_count": 8,
   "id": "e2c82aa5-72e8-407d-bee5-7b556fd7fb72",
   "metadata": {},
   "outputs": [
    {
     "data": {
      "text/plain": [
       "2.6457513110645907"
      ]
     },
     "execution_count": 8,
     "metadata": {},
     "output_type": "execute_result"
    }
   ],
   "source": [
    "sqrt(7)"
   ]
  },
  {
   "cell_type": "code",
   "execution_count": 9,
   "id": "cbe391c3-d421-4140-a75a-d630ff94afd6",
   "metadata": {},
   "outputs": [
    {
     "data": {
      "text/plain": [
       "'/home/jovyan/work'"
      ]
     },
     "execution_count": 9,
     "metadata": {},
     "output_type": "execute_result"
    }
   ],
   "source": [
    "pwd()"
   ]
  },
  {
   "cell_type": "code",
   "execution_count": 11,
   "id": "a64594df-039a-4f9e-85e9-19aff191fc07",
   "metadata": {},
   "outputs": [
    {
     "name": "stdout",
     "output_type": "stream",
     "text": [
      "this is my first module\n"
     ]
    }
   ],
   "source": [
    "import test1"
   ]
  },
  {
   "cell_type": "code",
   "execution_count": 14,
   "id": "cc5e2902-d784-475a-ae2b-8024945f1cb5",
   "metadata": {},
   "outputs": [
    {
     "name": "stdout",
     "output_type": "stream",
     "text": [
      "this is my first module\n"
     ]
    },
    {
     "data": {
      "text/plain": [
       "<module 'test1' from '/home/jovyan/work/test1.py'>"
      ]
     },
     "execution_count": 14,
     "metadata": {},
     "output_type": "execute_result"
    }
   ],
   "source": [
    "imp.reload(test1)"
   ]
  },
  {
   "cell_type": "code",
   "execution_count": 13,
   "id": "f6c8b256-fbb8-4550-853f-3889687c58c7",
   "metadata": {},
   "outputs": [
    {
     "name": "stderr",
     "output_type": "stream",
     "text": [
      "/tmp/ipykernel_77/713651319.py:1: DeprecationWarning: the imp module is deprecated in favour of importlib and slated for removal in Python 3.12; see the module's documentation for alternative uses\n",
      "  import imp\n"
     ]
    }
   ],
   "source": [
    "import imp"
   ]
  },
  {
   "cell_type": "code",
   "execution_count": 15,
   "id": "69b2eaaa-7c6d-4746-aca6-880d2d9cdeb7",
   "metadata": {},
   "outputs": [
    {
     "data": {
      "text/plain": [
       "5"
      ]
     },
     "execution_count": 15,
     "metadata": {},
     "output_type": "execute_result"
    }
   ],
   "source": [
    "test1.addition1(2,3)"
   ]
  },
  {
   "cell_type": "code",
   "execution_count": 16,
   "id": "46cdc8ff-d560-4332-9fde-16db8e20840d",
   "metadata": {},
   "outputs": [
    {
     "name": "stdout",
     "output_type": "stream",
     "text": [
      "this is my first module\n"
     ]
    }
   ],
   "source": [
    "import test5"
   ]
  },
  {
   "cell_type": "code",
   "execution_count": 17,
   "id": "3d415cce-6caa-494f-9421-36b85356d3db",
   "metadata": {},
   "outputs": [
    {
     "data": {
      "text/plain": [
       "8"
      ]
     },
     "execution_count": 17,
     "metadata": {},
     "output_type": "execute_result"
    }
   ],
   "source": [
    "test5.power(2,3)"
   ]
  },
  {
   "cell_type": "code",
   "execution_count": 18,
   "id": "80027555-4798-435e-bfb2-0ff2df0c1cc6",
   "metadata": {},
   "outputs": [],
   "source": [
    "import test6"
   ]
  },
  {
   "cell_type": "code",
   "execution_count": 19,
   "id": "a3df276e-623d-45b1-a9c0-741a91541746",
   "metadata": {},
   "outputs": [
    {
     "data": {
      "text/plain": [
       "'this is my class'"
      ]
     },
     "execution_count": 19,
     "metadata": {},
     "output_type": "execute_result"
    }
   ],
   "source": [
    "test6.msg()"
   ]
  },
  {
   "cell_type": "code",
   "execution_count": 20,
   "id": "fc002df8-d99f-4187-a8ed-2e7ae8cbf946",
   "metadata": {},
   "outputs": [
    {
     "data": {
      "text/plain": [
       "['ml', 'dl', 'py', 'stats', 'cv']"
      ]
     },
     "execution_count": 20,
     "metadata": {},
     "output_type": "execute_result"
    }
   ],
   "source": [
    "test6.get_course()"
   ]
  },
  {
   "cell_type": "code",
   "execution_count": 1,
   "id": "688c789a-1e51-48e7-add6-e669e263bef4",
   "metadata": {},
   "outputs": [],
   "source": [
    "#directory test under that mod1, mod2, mod3 \n",
    "#fn1() fn2()fn3()\n",
    "#fun21()\n"
   ]
  },
  {
   "cell_type": "code",
   "execution_count": 2,
   "id": "2a9c903b-d453-4343-b331-9bfe94f6ba6b",
   "metadata": {},
   "outputs": [],
   "source": [
    "#exception Handling"
   ]
  },
  {
   "cell_type": "code",
   "execution_count": 4,
   "id": "2eeae483-469b-442b-9676-1d2cef348c27",
   "metadata": {},
   "outputs": [
    {
     "ename": "IndentationError",
     "evalue": "expected an indented block after function definition on line 1 (2403990208.py, line 2)",
     "output_type": "error",
     "traceback": [
      "\u001b[0;36m  Cell \u001b[0;32mIn [4], line 2\u001b[0;36m\u001b[0m\n\u001b[0;31m    print(\"sadasfasdfa\")\u001b[0m\n\u001b[0m    ^\u001b[0m\n\u001b[0;31mIndentationError\u001b[0m\u001b[0;31m:\u001b[0m expected an indented block after function definition on line 1\n"
     ]
    }
   ],
   "source": [
    "def test(a,b):\n",
    "print(\"sadasfasdfa\")"
   ]
  },
  {
   "cell_type": "code",
   "execution_count": 5,
   "id": "4546592c-0ad4-4c60-83e3-f0613bc45270",
   "metadata": {},
   "outputs": [],
   "source": [
    "def test(a,b):\n",
    "    return a/b"
   ]
  },
  {
   "cell_type": "code",
   "execution_count": 6,
   "id": "d531e332-d451-4710-8b53-38ab30416e64",
   "metadata": {},
   "outputs": [
    {
     "ename": "ZeroDivisionError",
     "evalue": "division by zero",
     "output_type": "error",
     "traceback": [
      "\u001b[0;31m---------------------------------------------------------------------------\u001b[0m",
      "\u001b[0;31mZeroDivisionError\u001b[0m                         Traceback (most recent call last)",
      "Cell \u001b[0;32mIn [6], line 1\u001b[0m\n\u001b[0;32m----> 1\u001b[0m \u001b[43mtest\u001b[49m\u001b[43m(\u001b[49m\u001b[38;5;241;43m5\u001b[39;49m\u001b[43m,\u001b[49m\u001b[38;5;241;43m0\u001b[39;49m\u001b[43m)\u001b[49m\n",
      "Cell \u001b[0;32mIn [5], line 2\u001b[0m, in \u001b[0;36mtest\u001b[0;34m(a, b)\u001b[0m\n\u001b[1;32m      1\u001b[0m \u001b[38;5;28;01mdef\u001b[39;00m \u001b[38;5;21mtest\u001b[39m(a,b):\n\u001b[0;32m----> 2\u001b[0m     \u001b[38;5;28;01mreturn\u001b[39;00m \u001b[43ma\u001b[49m\u001b[38;5;241;43m/\u001b[39;49m\u001b[43mb\u001b[49m\n",
      "\u001b[0;31mZeroDivisionError\u001b[0m: division by zero"
     ]
    }
   ],
   "source": [
    "test(5,0)"
   ]
  },
  {
   "cell_type": "code",
   "execution_count": 7,
   "id": "98dd8125-2066-4038-8efe-5a097f4f85f0",
   "metadata": {},
   "outputs": [
    {
     "ename": "FileNotFoundError",
     "evalue": "[Errno 2] No such file or directory: 'test.txt'",
     "output_type": "error",
     "traceback": [
      "\u001b[0;31m---------------------------------------------------------------------------\u001b[0m",
      "\u001b[0;31mFileNotFoundError\u001b[0m                         Traceback (most recent call last)",
      "Cell \u001b[0;32mIn [7], line 1\u001b[0m\n\u001b[0;32m----> 1\u001b[0m a\u001b[38;5;241m=\u001b[39m\u001b[38;5;28;43mopen\u001b[39;49m\u001b[43m(\u001b[49m\u001b[38;5;124;43m\"\u001b[39;49m\u001b[38;5;124;43mtest.txt\u001b[39;49m\u001b[38;5;124;43m\"\u001b[39;49m\u001b[43m,\u001b[49m\u001b[38;5;124;43m\"\u001b[39;49m\u001b[38;5;124;43mr\u001b[39;49m\u001b[38;5;124;43m\"\u001b[39;49m\u001b[43m)\u001b[49m\n",
      "\u001b[0;31mFileNotFoundError\u001b[0m: [Errno 2] No such file or directory: 'test.txt'"
     ]
    }
   ],
   "source": [
    "a=open(\"test.txt\",\"r\")"
   ]
  },
  {
   "cell_type": "code",
   "execution_count": 5,
   "id": "f171b794-9cb9-4a35-b6b3-147672b2fb82",
   "metadata": {},
   "outputs": [
    {
     "name": "stdout",
     "output_type": "stream",
     "text": [
      "there is some issue with my code division by zero\n"
     ]
    }
   ],
   "source": [
    "try:\n",
    "    a=5/0\n",
    "except ArithmeticError as e:\n",
    "    print(\"there is some issue with my code\",e)"
   ]
  },
  {
   "cell_type": "code",
   "execution_count": 1,
   "id": "c7b222b5-89b0-41d4-96fb-57ff24901488",
   "metadata": {},
   "outputs": [
    {
     "name": "stdout",
     "output_type": "stream",
     "text": [
      "this will execute once try will execute\n"
     ]
    }
   ],
   "source": [
    "try:\n",
    "    a=5/4\n",
    "except ArithmeticError as e:\n",
    "    print(\"there is some issue with my code\",e)\n",
    "else:\n",
    "    print(\"this will execute once try will execute\")\n",
    "    "
   ]
  },
  {
   "cell_type": "code",
   "execution_count": 2,
   "id": "4e9fdf37-3f02-47ef-8411-98de42cab420",
   "metadata": {},
   "outputs": [
    {
     "name": "stdout",
     "output_type": "stream",
     "text": [
      "this will execute once try will execute\n",
      "this is a issue with internal try block\n"
     ]
    }
   ],
   "source": [
    "try:\n",
    "    a=5/4\n",
    "except ArithmeticError as e:\n",
    "    print(\"there is some issue with my code\",e)\n",
    "else:\n",
    "    print(\"this will execute once try will execute\")\n",
    "    try:\n",
    "        f=open(\"test.txt\",'r')\n",
    "    except:\n",
    "        print(\"this is a issue with internal try block\")"
   ]
  },
  {
   "cell_type": "code",
   "execution_count": 3,
   "id": "222d193e-72f9-4c92-9c93-2e89728e8c0f",
   "metadata": {},
   "outputs": [],
   "source": [
    "l=[3,234,141]"
   ]
  },
  {
   "cell_type": "code",
   "execution_count": 5,
   "id": "57464e28-f796-458d-8d98-7b484588a069",
   "metadata": {},
   "outputs": [
    {
     "ename": "IndexError",
     "evalue": "list index out of range",
     "output_type": "error",
     "traceback": [
      "\u001b[0;31m---------------------------------------------------------------------------\u001b[0m",
      "\u001b[0;31mIndexError\u001b[0m                                Traceback (most recent call last)",
      "Cell \u001b[0;32mIn [5], line 1\u001b[0m\n\u001b[0;32m----> 1\u001b[0m \u001b[43ml\u001b[49m\u001b[43m[\u001b[49m\u001b[38;5;241;43m90\u001b[39;49m\u001b[43m]\u001b[49m\n\u001b[1;32m      2\u001b[0m t\u001b[38;5;241m=\u001b[39m(\u001b[38;5;241m4\u001b[39m,\u001b[38;5;241m2\u001b[39m,\u001b[38;5;241m34\u001b[39m,\u001b[38;5;241m1\u001b[39m,\u001b[38;5;241m123\u001b[39m)\n\u001b[1;32m      3\u001b[0m \u001b[38;5;28mprint\u001b[39m(t)\n",
      "\u001b[0;31mIndexError\u001b[0m: list index out of range"
     ]
    }
   ],
   "source": [
    "l[90]\n",
    "t=(4,2,34,1,123)\n",
    "print(t)"
   ]
  },
  {
   "cell_type": "code",
   "execution_count": 7,
   "id": "22e9293c-618a-49e2-a56f-79ef1d2ec1d8",
   "metadata": {},
   "outputs": [
    {
     "name": "stdout",
     "output_type": "stream",
     "text": [
      "there is issue with the code\n",
      "(4, 2, 34, 1, 123)\n"
     ]
    }
   ],
   "source": [
    "try:\n",
    "    l=[3,234,141]\n",
    "    l[100]\n",
    "except:\n",
    "    print(\"there is issue with the code\")\n",
    "    t=(4,2,34,1,123)\n",
    "    print(t)\n",
    "else:\n",
    "    print(\"there is no issue with my code\")\n",
    "     \n"
   ]
  },
  {
   "cell_type": "code",
   "execution_count": 2,
   "id": "6abb440a-a97d-49d2-ba50-2216f81bdffe",
   "metadata": {},
   "outputs": [
    {
     "name": "stdout",
     "output_type": "stream",
     "text": [
      "finally will exucute in any case\n"
     ]
    },
    {
     "ename": "FileNotFoundError",
     "evalue": "[Errno 2] No such file or directory: 'text.txt'",
     "output_type": "error",
     "traceback": [
      "\u001b[0;31m---------------------------------------------------------------------------\u001b[0m",
      "\u001b[0;31mFileNotFoundError\u001b[0m                         Traceback (most recent call last)",
      "Cell \u001b[0;32mIn [2], line 2\u001b[0m\n\u001b[1;32m      1\u001b[0m \u001b[38;5;28;01mtry\u001b[39;00m:\n\u001b[0;32m----> 2\u001b[0m     f\u001b[38;5;241m=\u001b[39m \u001b[38;5;28;43mopen\u001b[39;49m\u001b[43m(\u001b[49m\u001b[38;5;124;43m\"\u001b[39;49m\u001b[38;5;124;43mtext.txt\u001b[39;49m\u001b[38;5;124;43m\"\u001b[39;49m\u001b[43m,\u001b[49m\u001b[38;5;124;43m'\u001b[39;49m\u001b[38;5;124;43mr\u001b[39;49m\u001b[38;5;124;43m'\u001b[39;49m\u001b[43m)\u001b[49m\n\u001b[1;32m      3\u001b[0m \u001b[38;5;28;01mfinally\u001b[39;00m:\n\u001b[1;32m      4\u001b[0m     \u001b[38;5;28mprint\u001b[39m(\u001b[38;5;124m\"\u001b[39m\u001b[38;5;124mfinally will exucute in any case\u001b[39m\u001b[38;5;124m\"\u001b[39m)\n",
      "\u001b[0;31mFileNotFoundError\u001b[0m: [Errno 2] No such file or directory: 'text.txt'"
     ]
    }
   ],
   "source": [
    "try:\n",
    "    f= open(\"text.txt\",'r')\n",
    "finally:\n",
    "    print(\"finally will exucute in any case\")"
   ]
  },
  {
   "cell_type": "code",
   "execution_count": 4,
   "id": "ae769802-d811-4702-b5b1-b8f9dacc7c76",
   "metadata": {},
   "outputs": [
    {
     "name": "stdout",
     "output_type": "stream",
     "text": [
      "finally will exucute in any case\n"
     ]
    }
   ],
   "source": [
    "try:\n",
    "    f= open(\"text.txt\",'r')\n",
    "except:\n",
    "    pass\n",
    "else:\n",
    "    print(\"else will excute if try will excute will success\")\n",
    "finally:\n",
    "    print(\"finally will exucute in any case\")\n",
    "    l=[3,24,1412]\n",
    "    try:\n",
    "        print(l[10])\n",
    "    except:\n",
    "        pass"
   ]
  },
  {
   "cell_type": "code",
   "execution_count": 5,
   "id": "9d2f4041-3b4d-4bc1-aa3d-82df87795b80",
   "metadata": {},
   "outputs": [
    {
     "name": "stdout",
     "output_type": "stream",
     "text": [
      "this is my error [Errno 2] No such file or directory: 'test3.txt'\n"
     ]
    }
   ],
   "source": [
    "try:\n",
    "    f=open(\"test3.txt\",'r')\n",
    "except IOError as e:\n",
    "    print(\"this is my error\",e)"
   ]
  },
  {
   "cell_type": "code",
   "execution_count": 6,
   "id": "cc97974e-74dd-4514-9645-c20c52a70265",
   "metadata": {},
   "outputs": [
    {
     "ename": "FileNotFoundError",
     "evalue": "[Errno 2] No such file or directory: 'test3.txt'",
     "output_type": "error",
     "traceback": [
      "\u001b[0;31m---------------------------------------------------------------------------\u001b[0m",
      "\u001b[0;31mFileNotFoundError\u001b[0m                         Traceback (most recent call last)",
      "Cell \u001b[0;32mIn [6], line 1\u001b[0m\n\u001b[0;32m----> 1\u001b[0m \u001b[38;5;28;43mopen\u001b[39;49m\u001b[43m(\u001b[49m\u001b[38;5;124;43m\"\u001b[39;49m\u001b[38;5;124;43mtest3.txt\u001b[39;49m\u001b[38;5;124;43m\"\u001b[39;49m\u001b[43m,\u001b[49m\u001b[38;5;124;43m'\u001b[39;49m\u001b[38;5;124;43mr\u001b[39;49m\u001b[38;5;124;43m'\u001b[39;49m\u001b[43m)\u001b[49m\n",
      "\u001b[0;31mFileNotFoundError\u001b[0m: [Errno 2] No such file or directory: 'test3.txt'"
     ]
    }
   ],
   "source": [
    "open(\"test3.txt\",'r')"
   ]
  },
  {
   "cell_type": "code",
   "execution_count": null,
   "id": "167f3231-7e38-4b13-8c5c-8ac38a2b6846",
   "metadata": {},
   "outputs": [],
   "source": [
    "def askforint():\n",
    "    while True:\n",
    "        try:\n",
    "            a=int(input(\"enter an integer\"))\n",
    "        except Exception as e:\n",
    "            print(\"this is my error msg\",e)\n",
    "            break\n",
    "        else:\n",
    "            print(\"persone has entered a correct value\")\n",
    "        finally:\n",
    "            print(\"close\")\n"
   ]
  },
  {
   "cell_type": "code",
   "execution_count": null,
   "id": "03d3971c-3bad-4008-8b9d-d18e2b4f9755",
   "metadata": {},
   "outputs": [
    {
     "name": "stdin",
     "output_type": "stream",
     "text": [
      "enter an integer sadasd\n"
     ]
    },
    {
     "name": "stdout",
     "output_type": "stream",
     "text": [
      "this is my error msg invalid literal for int() with base 10: 'sadasd'\n",
      "close\n"
     ]
    },
    {
     "name": "stdin",
     "output_type": "stream",
     "text": [
      "enter an integer 12\n"
     ]
    },
    {
     "name": "stdout",
     "output_type": "stream",
     "text": [
      "persone has entered a correct value\n",
      "close\n"
     ]
    },
    {
     "name": "stdin",
     "output_type": "stream",
     "text": [
      "enter an integer asdas\n"
     ]
    },
    {
     "name": "stdout",
     "output_type": "stream",
     "text": [
      "this is my error msg invalid literal for int() with base 10: 'asdas'\n",
      "close\n"
     ]
    },
    {
     "name": "stdin",
     "output_type": "stream",
     "text": [
      "enter an integer 121\n"
     ]
    },
    {
     "name": "stdout",
     "output_type": "stream",
     "text": [
      "persone has entered a correct value\n",
      "close\n"
     ]
    },
    {
     "name": "stdin",
     "output_type": "stream",
     "text": [
      "enter an integer 2\n"
     ]
    },
    {
     "name": "stdout",
     "output_type": "stream",
     "text": [
      "persone has entered a correct value\n",
      "close\n"
     ]
    }
   ],
   "source": []
  },
  {
   "cell_type": "code",
   "execution_count": 7,
   "id": "2436ceb8-91a6-4d18-9c66-9a61033e326e",
   "metadata": {},
   "outputs": [],
   "source": [
    "def askforint():\n",
    "    while True:\n",
    "        try:\n",
    "            a=int(input(\"enter an integer\"))\n",
    "            c=8/a\n",
    "        except FileNotFoundError as e:\n",
    "            print(\"this is my error msg\",e)\n",
    "        except IOError as e:\n",
    "            print(e)\n",
    "        except ValueError as e:\n",
    "            print(e)\n",
    "        except ZeroDivisionError as e:\n",
    "            print(e)\n",
    " \n",
    "        except ArithmeticError as e:\n",
    "            print(e)\n",
    "        else:\n",
    "            print(\"persone has entered a correct value\")\n",
    "            break\n",
    "        finally:\n",
    "            print(\"close\")\n"
   ]
  },
  {
   "cell_type": "code",
   "execution_count": 8,
   "id": "4d45aa31-7d0c-4462-b84f-9540b220ea88",
   "metadata": {},
   "outputs": [
    {
     "name": "stdin",
     "output_type": "stream",
     "text": [
      "enter an integer 0\n"
     ]
    },
    {
     "name": "stdout",
     "output_type": "stream",
     "text": [
      "division by zero\n",
      "close\n"
     ]
    },
    {
     "name": "stdin",
     "output_type": "stream",
     "text": [
      "enter an integer 12\n"
     ]
    },
    {
     "name": "stdout",
     "output_type": "stream",
     "text": [
      "persone has entered a correct value\n",
      "close\n"
     ]
    }
   ],
   "source": [
    "askforint()\n"
   ]
  },
  {
   "cell_type": "code",
   "execution_count": 9,
   "id": "2fa23238-e2af-4705-a9b3-23a50194cd30",
   "metadata": {},
   "outputs": [],
   "source": [
    "#LBYL\n",
    "#Look before u leave\n",
    "#EAFP\n",
    "#easier to ask for forgivveness than a permission\n"
   ]
  },
  {
   "cell_type": "code",
   "execution_count": 21,
   "id": "9b16bbb7-9558-4cae-b0b6-b2addd0f2a64",
   "metadata": {},
   "outputs": [],
   "source": [
    "def create_your_exception(a):\n",
    "    if a==6:\n",
    "        raise Exception(\"error is\", a)\n",
    "    else:\n",
    "        print(\"input is ok\")\n",
    "    return a"
   ]
  },
  {
   "cell_type": "code",
   "execution_count": 22,
   "id": "92ce521e-030f-4e8c-878f-4eb46bd11381",
   "metadata": {},
   "outputs": [
    {
     "name": "stdout",
     "output_type": "stream",
     "text": [
      "input is ok\n"
     ]
    },
    {
     "data": {
      "text/plain": [
       "8"
      ]
     },
     "execution_count": 22,
     "metadata": {},
     "output_type": "execute_result"
    }
   ],
   "source": [
    "create_your_exception(8)"
   ]
  },
  {
   "cell_type": "code",
   "execution_count": 23,
   "id": "710bd22d-e255-4397-be22-ea4d7a59a098",
   "metadata": {},
   "outputs": [
    {
     "name": "stdout",
     "output_type": "stream",
     "text": [
      "('error is', 6)\n"
     ]
    }
   ],
   "source": [
    "try:\n",
    "    create_your_exception(6)\n",
    "except Exception as e:\n",
    "    print(e)"
   ]
  },
  {
   "cell_type": "code",
   "execution_count": 25,
   "id": "67d31aa1-d9d5-44c3-9150-e1214d58bb0b",
   "metadata": {},
   "outputs": [],
   "source": [
    "import logging as lg\n",
    "lg.basicConfig(filename=\"even.log\", level=lg.INFO, format='%(asctime)s %(message)s')\n",
    "def even(a,b):\n",
    "    try:\n",
    "        a=int(input(\"value of a: \"))\n",
    "        b=int(input(\"value of b: \"))\n",
    "    except Exception as e:\n",
    "        lg.error(e)\n",
    "    else:\n",
    "        for i in range(a,b):\n",
    "            if i%2==0:\n",
    "                print(i, \"its a even number\")\n",
    "    finally:\n",
    "        print(\"Thank you\")"
   ]
  },
  {
   "cell_type": "code",
   "execution_count": 26,
   "id": "a4516b1f-3441-479b-b8ef-d8f96e44095d",
   "metadata": {},
   "outputs": [
    {
     "name": "stdin",
     "output_type": "stream",
     "text": [
      "value of a:  4\n",
      "value of b:  6\n"
     ]
    },
    {
     "name": "stdout",
     "output_type": "stream",
     "text": [
      "4 its a even number\n",
      "Thank you\n"
     ]
    }
   ],
   "source": [
    "even(4,20)"
   ]
  },
  {
   "cell_type": "code",
   "execution_count": null,
   "id": "1b3783c9-27af-4ab9-8272-5b2053d84a66",
   "metadata": {},
   "outputs": [],
   "source": []
  }
 ],
 "metadata": {
  "kernelspec": {
   "display_name": "Python 3 (ipykernel)",
   "language": "python",
   "name": "python3"
  },
  "language_info": {
   "codemirror_mode": {
    "name": "ipython",
    "version": 3
   },
   "file_extension": ".py",
   "mimetype": "text/x-python",
   "name": "python",
   "nbconvert_exporter": "python",
   "pygments_lexer": "ipython3",
   "version": "3.10.6"
  }
 },
 "nbformat": 4,
 "nbformat_minor": 5
}
