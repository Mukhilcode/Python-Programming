{
 "cells": [
  {
   "cell_type": "code",
   "execution_count": 1,
   "id": "8fe7de82-ae43-4c8c-a46c-fc2282bf28f9",
   "metadata": {},
   "outputs": [],
   "source": [
    "a=5"
   ]
  },
  {
   "cell_type": "code",
   "execution_count": 2,
   "id": "076f6e7c-5c39-45cf-9b12-4a02beb8c04f",
   "metadata": {},
   "outputs": [
    {
     "data": {
      "text/plain": [
       "5"
      ]
     },
     "execution_count": 2,
     "metadata": {},
     "output_type": "execute_result"
    }
   ],
   "source": [
    "a"
   ]
  },
  {
   "cell_type": "code",
   "execution_count": 1,
   "id": "9d2a0de8-905b-4a86-a945-fa3ba7e6b5b1",
   "metadata": {},
   "outputs": [],
   "source": [
    "l=[\"mukhil\",3435,45.34,67,[45,65446,42,34,\"killer\"],False]"
   ]
  },
  {
   "cell_type": "code",
   "execution_count": 5,
   "id": "31e046de-a4e2-4357-84c0-45ae4744b5b5",
   "metadata": {},
   "outputs": [
    {
     "name": "stdout",
     "output_type": "stream",
     "text": [
      "mukhil\n",
      "3435\n",
      "45.34\n",
      "67\n",
      "[45, 65446, 42, 34, 'killer']\n",
      "False\n"
     ]
    }
   ],
   "source": [
    "for i in l:\n",
    "    print(i)"
   ]
  },
  {
   "cell_type": "code",
   "execution_count": 6,
   "id": "ac5257ea-a356-4314-85b7-38ff93da87b2",
   "metadata": {},
   "outputs": [
    {
     "data": {
      "text/plain": [
       "[False, [45, 65446, 42, 34, 'killer'], 67, 45.34, 3435, 'mukhil']"
      ]
     },
     "execution_count": 6,
     "metadata": {},
     "output_type": "execute_result"
    }
   ],
   "source": [
    "l[::-1]"
   ]
  },
  {
   "cell_type": "code",
   "execution_count": 7,
   "id": "0837ad8e-19c3-483c-9a76-a87059b47196",
   "metadata": {},
   "outputs": [
    {
     "name": "stdout",
     "output_type": "stream",
     "text": [
      "not in list mukhil\n",
      "not in list 3435\n",
      "not in list 45.34\n",
      "not in list 67\n",
      "this is a list [45, 65446, 42, 34, 'killer']\n",
      "not in list False\n"
     ]
    }
   ],
   "source": [
    "for i in l:\n",
    "    if type(i)== list:\n",
    "        print(\"this is a list\", i)\n",
    "    else:\n",
    "        print(\"not in list\",i)\n",
    "        "
   ]
  },
  {
   "cell_type": "code",
   "execution_count": 8,
   "id": "a0283075-a61f-414c-9576-7c168b71b217",
   "metadata": {},
   "outputs": [],
   "source": [
    "l1=[345,4567,\"ineuron\",\"append \"]"
   ]
  },
  {
   "cell_type": "code",
   "execution_count": 9,
   "id": "7b4d3644-d980-4910-b270-2944ac056066",
   "metadata": {},
   "outputs": [
    {
     "data": {
      "text/plain": [
       "['mukhil',\n",
       " 3435,\n",
       " 45.34,\n",
       " 67,\n",
       " [45, 65446, 42, 34, 'killer'],\n",
       " False,\n",
       " 345,\n",
       " 4567,\n",
       " 'ineuron',\n",
       " 'append ']"
      ]
     },
     "execution_count": 9,
     "metadata": {},
     "output_type": "execute_result"
    }
   ],
   "source": [
    "l+l1"
   ]
  },
  {
   "cell_type": "code",
   "execution_count": 10,
   "id": "82f9324e-3237-490f-a555-68e87969b1a6",
   "metadata": {},
   "outputs": [
    {
     "data": {
      "text/plain": [
       "['mukhil',\n",
       " 3435,\n",
       " 45.34,\n",
       " 67,\n",
       " [45, 65446, 42, 34, 'killer'],\n",
       " False,\n",
       " 'mukhil',\n",
       " 3435,\n",
       " 45.34,\n",
       " 67,\n",
       " [45, 65446, 42, 34, 'killer'],\n",
       " False]"
      ]
     },
     "execution_count": 10,
     "metadata": {},
     "output_type": "execute_result"
    }
   ],
   "source": [
    "l*2"
   ]
  },
  {
   "cell_type": "code",
   "execution_count": 11,
   "id": "63fc5d19-33f5-4c8c-9277-0a0b0c9c6465",
   "metadata": {},
   "outputs": [
    {
     "data": {
      "text/plain": [
       "6"
      ]
     },
     "execution_count": 11,
     "metadata": {},
     "output_type": "execute_result"
    }
   ],
   "source": [
    "len(l)"
   ]
  },
  {
   "cell_type": "code",
   "execution_count": 12,
   "id": "f3f5afb8-acd8-4ee2-9283-14bc8f3d35e7",
   "metadata": {},
   "outputs": [
    {
     "data": {
      "text/plain": [
       "False"
      ]
     },
     "execution_count": 12,
     "metadata": {},
     "output_type": "execute_result"
    }
   ],
   "source": [
    "45 in l"
   ]
  },
  {
   "cell_type": "code",
   "execution_count": 13,
   "id": "4599313e-aa76-457f-b543-882df024938b",
   "metadata": {},
   "outputs": [
    {
     "data": {
      "text/plain": [
       "True"
      ]
     },
     "execution_count": 13,
     "metadata": {},
     "output_type": "execute_result"
    }
   ],
   "source": [
    "3435 in l"
   ]
  },
  {
   "cell_type": "code",
   "execution_count": 15,
   "id": "49da9825-abf1-43b2-bfcc-257f6b7618c1",
   "metadata": {},
   "outputs": [
    {
     "name": "stdout",
     "output_type": "stream",
     "text": [
      "5345\n"
     ]
    }
   ],
   "source": [
    "print(max([23,45,123,43,5345]))"
   ]
  },
  {
   "cell_type": "code",
   "execution_count": 17,
   "id": "9ce8d45f-3564-4d9e-8d2a-d88ea6e9d2c0",
   "metadata": {},
   "outputs": [
    {
     "data": {
      "text/plain": [
       "'z'"
      ]
     },
     "execution_count": 17,
     "metadata": {},
     "output_type": "execute_result"
    }
   ],
   "source": [
    "max([\"dsf\",\"asdas\",\"dasfagda\",\"z\"])"
   ]
  },
  {
   "cell_type": "code",
   "execution_count": 1,
   "id": "850dae59-fead-4bda-9550-47423f8cfe0b",
   "metadata": {},
   "outputs": [
    {
     "data": {
      "text/plain": [
       "1.2"
      ]
     },
     "execution_count": 1,
     "metadata": {},
     "output_type": "execute_result"
    }
   ],
   "source": [
    "min(1.2,5,62,2324)"
   ]
  },
  {
   "cell_type": "code",
   "execution_count": 3,
   "id": "58a153a5-3073-4213-9f38-95d74595670e",
   "metadata": {},
   "outputs": [
    {
     "data": {
      "text/plain": [
       "['mukhil', 3435, 45.34, 67, [45, 65446, 42, 34, 'killer'], False]"
      ]
     },
     "execution_count": 3,
     "metadata": {},
     "output_type": "execute_result"
    }
   ],
   "source": [
    "l"
   ]
  },
  {
   "cell_type": "code",
   "execution_count": 4,
   "id": "70b965e2-4a32-4350-90e2-4b798afa1336",
   "metadata": {},
   "outputs": [],
   "source": [
    "l.insert(2,\"liju\")"
   ]
  },
  {
   "cell_type": "code",
   "execution_count": 5,
   "id": "40c6fff1-2a68-43bd-ba8f-68a2c92a0e4f",
   "metadata": {},
   "outputs": [
    {
     "data": {
      "text/plain": [
       "['mukhil', 3435, 'liju', 45.34, 67, [45, 65446, 42, 34, 'killer'], False]"
      ]
     },
     "execution_count": 5,
     "metadata": {},
     "output_type": "execute_result"
    }
   ],
   "source": [
    "l"
   ]
  },
  {
   "cell_type": "code",
   "execution_count": 2,
   "id": "3e1b39f6-d6cb-480c-8305-e0176de73153",
   "metadata": {},
   "outputs": [],
   "source": [
    "l.append(\"liju\")  "
   ]
  },
  {
   "cell_type": "code",
   "execution_count": 3,
   "id": "c4d377eb-d060-444e-8f9b-f2aa1366b19d",
   "metadata": {},
   "outputs": [
    {
     "data": {
      "text/plain": [
       "['mukhil', 3435, 45.34, 67, [45, 65446, 42, 34, 'killer'], False, 'liju']"
      ]
     },
     "execution_count": 3,
     "metadata": {},
     "output_type": "execute_result"
    }
   ],
   "source": [
    "l"
   ]
  },
  {
   "cell_type": "code",
   "execution_count": 5,
   "id": "ec5a8569-e583-4315-909b-9e36a672fac3",
   "metadata": {},
   "outputs": [],
   "source": [
    "l.insert(5,\"jiju\")"
   ]
  },
  {
   "cell_type": "code",
   "execution_count": 6,
   "id": "ba550043-9c4c-4e80-8185-c436e04b58fc",
   "metadata": {},
   "outputs": [
    {
     "data": {
      "text/plain": [
       "['mukhil',\n",
       " 3435,\n",
       " 45.34,\n",
       " 67,\n",
       " [45, 65446, 42, 34, 'killer'],\n",
       " 'jiju',\n",
       " False,\n",
       " 'liju']"
      ]
     },
     "execution_count": 6,
     "metadata": {},
     "output_type": "execute_result"
    }
   ],
   "source": [
    "l"
   ]
  },
  {
   "cell_type": "code",
   "execution_count": 7,
   "id": "9956bdf8-4a40-4d23-8bf9-d7169e164393",
   "metadata": {},
   "outputs": [],
   "source": [
    "l.insert(-1,\"jiko\")"
   ]
  },
  {
   "cell_type": "code",
   "execution_count": 8,
   "id": "3f9e6387-e568-48e1-bb88-7825b751873f",
   "metadata": {},
   "outputs": [
    {
     "data": {
      "text/plain": [
       "['mukhil',\n",
       " 3435,\n",
       " 45.34,\n",
       " 67,\n",
       " [45, 65446, 42, 34, 'killer'],\n",
       " 'jiju',\n",
       " False,\n",
       " 'jiko',\n",
       " 'liju']"
      ]
     },
     "execution_count": 8,
     "metadata": {},
     "output_type": "execute_result"
    }
   ],
   "source": [
    "l"
   ]
  },
  {
   "cell_type": "code",
   "execution_count": 10,
   "id": "7c465bef-2741-4baa-a420-5764943112e7",
   "metadata": {},
   "outputs": [],
   "source": [
    "l.insert(0,\"test\")"
   ]
  },
  {
   "cell_type": "code",
   "execution_count": 11,
   "id": "e288ceb8-b116-4bdd-9e85-ff80678051fa",
   "metadata": {},
   "outputs": [],
   "source": [
    "l.insert(2,\"test\")"
   ]
  },
  {
   "cell_type": "code",
   "execution_count": 12,
   "id": "ac7bb270-80f0-4b37-97c4-3b142a4faba0",
   "metadata": {},
   "outputs": [
    {
     "data": {
      "text/plain": [
       "3"
      ]
     },
     "execution_count": 12,
     "metadata": {},
     "output_type": "execute_result"
    }
   ],
   "source": [
    "l.count(\"test\")"
   ]
  },
  {
   "cell_type": "code",
   "execution_count": 13,
   "id": "c3bf842e-ab5a-43f9-b1f9-c5da04335389",
   "metadata": {},
   "outputs": [],
   "source": [
    "l1=[1,2,3,4,5]"
   ]
  },
  {
   "cell_type": "code",
   "execution_count": 14,
   "id": "ab3537ff-dc16-4e29-bbd6-ccabdb44f16c",
   "metadata": {},
   "outputs": [],
   "source": [
    "l1.append(\"list\")"
   ]
  },
  {
   "cell_type": "code",
   "execution_count": 15,
   "id": "b466211d-adfc-4d4d-a36c-e900856f4edd",
   "metadata": {},
   "outputs": [
    {
     "data": {
      "text/plain": [
       "[1, 2, 3, 4, 5, 'list']"
      ]
     },
     "execution_count": 15,
     "metadata": {},
     "output_type": "execute_result"
    }
   ],
   "source": [
    "l1"
   ]
  },
  {
   "cell_type": "code",
   "execution_count": 16,
   "id": "1b1df0bb-29f5-4093-aa25-2a7a49e70f46",
   "metadata": {},
   "outputs": [],
   "source": [
    "l1.append([1,3,4,4,5,3])"
   ]
  },
  {
   "cell_type": "code",
   "execution_count": 17,
   "id": "e0260ffc-2b39-4c5b-8522-4cddef1719c3",
   "metadata": {},
   "outputs": [
    {
     "data": {
      "text/plain": [
       "[1, 2, 3, 4, 5, 'list', [1, 3, 4, 4, 5, 3]]"
      ]
     },
     "execution_count": 17,
     "metadata": {},
     "output_type": "execute_result"
    }
   ],
   "source": [
    "l1"
   ]
  },
  {
   "cell_type": "code",
   "execution_count": 18,
   "id": "e7b6af5f-0eec-495f-8803-826f08324117",
   "metadata": {},
   "outputs": [],
   "source": [
    "l1.extend(\"sukhbir\")"
   ]
  },
  {
   "cell_type": "code",
   "execution_count": 19,
   "id": "db76b498-f91e-4742-9686-be111f58853f",
   "metadata": {},
   "outputs": [
    {
     "data": {
      "text/plain": [
       "[1, 2, 3, 4, 5, 'list', [1, 3, 4, 4, 5, 3], 's', 'u', 'k', 'h', 'b', 'i', 'r']"
      ]
     },
     "execution_count": 19,
     "metadata": {},
     "output_type": "execute_result"
    }
   ],
   "source": [
    "l1"
   ]
  },
  {
   "cell_type": "code",
   "execution_count": 20,
   "id": "73eb872a-7ae4-4e18-b0e1-e4343393dd44",
   "metadata": {},
   "outputs": [],
   "source": [
    "l1.extend([2,3,1,3,34])"
   ]
  },
  {
   "cell_type": "code",
   "execution_count": 21,
   "id": "418ffadc-be1b-4e0a-9762-bece72deb551",
   "metadata": {},
   "outputs": [
    {
     "data": {
      "text/plain": [
       "[1,\n",
       " 2,\n",
       " 3,\n",
       " 4,\n",
       " 5,\n",
       " 'list',\n",
       " [1, 3, 4, 4, 5, 3],\n",
       " 's',\n",
       " 'u',\n",
       " 'k',\n",
       " 'h',\n",
       " 'b',\n",
       " 'i',\n",
       " 'r',\n",
       " 2,\n",
       " 3,\n",
       " 1,\n",
       " 3,\n",
       " 34]"
      ]
     },
     "execution_count": 21,
     "metadata": {},
     "output_type": "execute_result"
    }
   ],
   "source": [
    "l1"
   ]
  },
  {
   "cell_type": "code",
   "execution_count": 23,
   "id": "5d832260-b1e3-45a6-a7b4-9332630a1164",
   "metadata": {},
   "outputs": [
    {
     "data": {
      "text/plain": [
       "2"
      ]
     },
     "execution_count": 23,
     "metadata": {},
     "output_type": "execute_result"
    }
   ],
   "source": [
    "l1.index(3)"
   ]
  },
  {
   "cell_type": "code",
   "execution_count": 28,
   "id": "f68238b7-ce8b-4ee2-9a98-e55fc884abe2",
   "metadata": {},
   "outputs": [
    {
     "name": "stdout",
     "output_type": "stream",
     "text": [
      "3 not there\n",
      "3 not there\n",
      "3\n",
      "3 not there\n",
      "3 not there\n",
      "3 not there\n",
      "3 not there\n",
      "3 not there\n",
      "3 not there\n",
      "3 not there\n",
      "3 not there\n",
      "3 not there\n",
      "3 not there\n",
      "3 not there\n",
      "3 not there\n",
      "3\n",
      "3 not there\n",
      "3\n",
      "3 not there\n"
     ]
    }
   ],
   "source": [
    "for i in l1:\n",
    "    if i==3:\n",
    "        print(i)\n",
    "    else:\n",
    "        print(\"3 not there\")"
   ]
  },
  {
   "cell_type": "code",
   "execution_count": 29,
   "id": "6161f0a4-7986-4338-9dec-531b0f3bdb7b",
   "metadata": {},
   "outputs": [],
   "source": [
    "#[[],[],[],[]]\n",
    "#append 2 more list and one complex number in between\n",
    "##if your nested list contain string then find out its index in nested list\n",
    "# and print it then remove the string\n",
    "#you have to extract 2nd element of each nested list\n"
   ]
  },
  {
   "cell_type": "code",
   "execution_count": 15,
   "id": "bcdd6184-0a7e-406c-a041-04b00c4d7a29",
   "metadata": {},
   "outputs": [],
   "source": [
    "a1=[[2,4,4,5,424,43],[54,23,23,567,656,3435],[45,76,453,323],[689,545,565,\"kilker\"]]"
   ]
  },
  {
   "cell_type": "code",
   "execution_count": 16,
   "id": "7e7ff05e-adcf-4708-bd16-7ebfb1efca3a",
   "metadata": {},
   "outputs": [
    {
     "data": {
      "text/plain": [
       "[[2, 4, 4, 5, 424, 43],\n",
       " [54, 23, 23, 567, 656, 3435],\n",
       " [45, 76, 453, 323],\n",
       " [689, 545, 565, 'kilker']]"
      ]
     },
     "execution_count": 16,
     "metadata": {},
     "output_type": "execute_result"
    }
   ],
   "source": [
    "a1"
   ]
  },
  {
   "cell_type": "code",
   "execution_count": 17,
   "id": "faf85d4c-5f3a-4d0a-9f9b-857155cbb96b",
   "metadata": {},
   "outputs": [],
   "source": [
    "a1.append([\"jillds\",568,2342,34534])"
   ]
  },
  {
   "cell_type": "code",
   "execution_count": 18,
   "id": "59456205-e5a4-4e34-9cd8-d76b469f2934",
   "metadata": {},
   "outputs": [
    {
     "data": {
      "text/plain": [
       "[[2, 4, 4, 5, 424, 43],\n",
       " [54, 23, 23, 567, 656, 3435],\n",
       " [45, 76, 453, 323],\n",
       " [689, 545, 565, 'kilker'],\n",
       " ['jillds', 568, 2342, 34534]]"
      ]
     },
     "execution_count": 18,
     "metadata": {},
     "output_type": "execute_result"
    }
   ],
   "source": [
    "a1"
   ]
  },
  {
   "cell_type": "code",
   "execution_count": 19,
   "id": "333bf073-bb20-4e6b-bbc4-693db5d12359",
   "metadata": {},
   "outputs": [],
   "source": [
    "a1.append([435,\"likkfg\",76,4542,24])"
   ]
  },
  {
   "cell_type": "code",
   "execution_count": 20,
   "id": "24127e7f-fd70-4f11-bcc7-c60042d8249c",
   "metadata": {},
   "outputs": [
    {
     "data": {
      "text/plain": [
       "[[2, 4, 4, 5, 424, 43],\n",
       " [54, 23, 23, 567, 656, 3435],\n",
       " [45, 76, 453, 323],\n",
       " [689, 545, 565, 'kilker'],\n",
       " ['jillds', 568, 2342, 34534],\n",
       " [435, 'likkfg', 76, 4542, 24]]"
      ]
     },
     "execution_count": 20,
     "metadata": {},
     "output_type": "execute_result"
    }
   ],
   "source": [
    "a1"
   ]
  },
  {
   "cell_type": "code",
   "execution_count": 21,
   "id": "424d0a08-6b1c-4255-8192-4b540a9e19b1",
   "metadata": {},
   "outputs": [],
   "source": [
    "a1.append(34+9j)"
   ]
  },
  {
   "cell_type": "code",
   "execution_count": 28,
   "id": "5cdad695-2ed5-436b-8d56-c7138037e1bf",
   "metadata": {},
   "outputs": [
    {
     "data": {
      "text/plain": [
       "[[2, 4, 4, 5, 424, 43],\n",
       " [54, 23, 23, 567, 656, 3435],\n",
       " [45, 76, 453, 323],\n",
       " [689, 545, 565, 'kilker'],\n",
       " ['jillds', 568, 2342, 34534],\n",
       " [435, 'likkfg', 76, 4542, 24],\n",
       " (34+9j)]"
      ]
     },
     "execution_count": 28,
     "metadata": {},
     "output_type": "execute_result"
    }
   ],
   "source": [
    "a1"
   ]
  },
  {
   "cell_type": "code",
   "execution_count": 29,
   "id": "c53e9eb4-f0ed-475e-a6d1-ce6dc212d29d",
   "metadata": {},
   "outputs": [
    {
     "name": "stdout",
     "output_type": "stream",
     "text": [
      "there is a string b in index; 2\n",
      "there is a string b in index; 3\n"
     ]
    },
    {
     "ename": "IndexError",
     "evalue": "list index out of range",
     "output_type": "error",
     "traceback": [
      "\u001b[0;31m---------------------------------------------------------------------------\u001b[0m",
      "\u001b[0;31mIndexError\u001b[0m                                Traceback (most recent call last)",
      "Cell \u001b[0;32mIn [29], line 5\u001b[0m\n\u001b[1;32m      3\u001b[0m j\u001b[38;5;241m=\u001b[39m\u001b[38;5;241m0\u001b[39m\n\u001b[1;32m      4\u001b[0m \u001b[38;5;28;01mfor\u001b[39;00m j \u001b[38;5;129;01min\u001b[39;00m \u001b[38;5;28mrange\u001b[39m(\u001b[38;5;28mlen\u001b[39m(i)):\n\u001b[0;32m----> 5\u001b[0m     \u001b[38;5;28;01mif\u001b[39;00m \u001b[38;5;28mtype\u001b[39m(\u001b[43mi\u001b[49m\u001b[43m[\u001b[49m\u001b[43mj\u001b[49m\u001b[43m]\u001b[49m)\u001b[38;5;241m==\u001b[39m\u001b[38;5;28mstr\u001b[39m:\n\u001b[1;32m      6\u001b[0m         \u001b[38;5;28mprint\u001b[39m(\u001b[38;5;124m\"\u001b[39m\u001b[38;5;124mthere is a string \u001b[39m\u001b[38;5;132;01m{}\u001b[39;00m\u001b[38;5;124m in index;\u001b[39m\u001b[38;5;124m\"\u001b[39m \u001b[38;5;241m.\u001b[39mformat(i[j]),j)\n\u001b[1;32m      7\u001b[0m         i\u001b[38;5;241m.\u001b[39mremove(i[j])\n",
      "\u001b[0;31mIndexError\u001b[0m: list index out of range"
     ]
    }
   ],
   "source": [
    "for i in l:\n",
    "    if type(i)==list:\n",
    "        j=0\n",
    "        for j in range(len(i)):\n",
    "            if type(i[j])==str:\n",
    "                print(\"there is a string {} in index;\" .format(i[j]),j)\n",
    "                i.remove(i[j])\n",
    "                j= j+1\n",
    "                \n",
    "            else:\n",
    "                pass\n",
    "print(l)\n",
    "            \n",
    "        \n",
    "            "
   ]
  },
  {
   "cell_type": "code",
   "execution_count": 27,
   "id": "e5cf4953-1bad-4741-97d0-e7171fe03b16",
   "metadata": {},
   "outputs": [],
   "source": [
    "#2. Find the index of string element in the nested list and remove the string\n",
    "l = [[1, 2, 3],\n",
    " [11, 12, 'b', 'b', 'b'],\n",
    " [21, 't', 223],\n",
    " [4, 5, 6],\n",
    " [7, 8, 9],\n",
    " 'demo',\n",
    " 12.5]\n",
    "\n",
    "        \n"
   ]
  },
  {
   "cell_type": "code",
   "execution_count": 12,
   "id": "254002a9-dc6b-4020-a5d1-4280f9df36e6",
   "metadata": {},
   "outputs": [
    {
     "name": "stdout",
     "output_type": "stream",
     "text": [
      "Index of string b is : 2\n",
      "Index of string b is : 3\n",
      "Index of string b is : 4\n",
      "The string in the nested list is 'b'\n",
      "The string in the nested list is 'b'\n",
      "The string in the nested list is 'b'\n",
      "Index of string t is : 1\n",
      "The string in the nested list is 't'\n",
      " [[1, 2, 3], [11, 12], [21, 223], [4, 5, 6], [7, 8, 9], 'demo', 12.5] \n",
      "\n"
     ]
    }
   ],
   "source": [
    "for i in l:\n",
    "    if type(i) == list:\n",
    "        j=0\n",
    "        while j < len(i):\n",
    "            if type(i[j]) is str:\n",
    "                print(\"Index of string {} is :\".format(i[j]),j)\n",
    "            j = j +1\n",
    "        j=0\n",
    "        while j < len(i):\n",
    "            if type(i[j]) is str:\n",
    "                print(\"The string in the nested list is '{}'\".format(i[j]))\n",
    "                i.remove(i[j])\n",
    "                continue\n",
    "            j = j +1\n",
    "print(\"List after removal of string from nested list is\\r\",l,'\\n')\n"
   ]
  },
  {
   "cell_type": "code",
   "execution_count": 33,
   "id": "3c300bae-b113-46ad-b96c-f8cd31ed0e54",
   "metadata": {},
   "outputs": [
    {
     "name": "stdout",
     "output_type": "stream",
     "text": [
      "Index of string 'b' is: 2\n",
      "Index of string 'b' is: 3\n",
      "Index of string 'b' is: 4\n",
      "Index of string 't' is: 1\n",
      "List after removal of strings from nested lists is:\n",
      " [[1, 2, 3], [11, 12], [21, 223], [4, 5, 6], [7, 8, 9], 'demo', 12.5]\n"
     ]
    }
   ],
   "source": [
    "l = [[1, 2, 3],\n",
    "     [11, 12, 'b', 'b', 'b'],\n",
    "     [21, 't', 223],\n",
    "     [4, 5, 6],\n",
    "     [7, 8, 9],\n",
    "     'demo',\n",
    "     12.5]\n",
    "\n",
    "for i in l:\n",
    "    if type(i) == list:\n",
    "        # Finding and removing strings in the nested list using for loop\n",
    "        j = 0\n",
    "        for k in i[:]:\n",
    "            if type(k) is str:\n",
    "                print(\"Index of string '{}' is: {}\".format(k, j))\n",
    "                i.remove(k)\n",
    "            j += 1\n",
    "\n",
    "print(\"List after removal of strings from nested lists is:\\n\", l)\n"
   ]
  },
  {
   "cell_type": "code",
   "execution_count": 34,
   "id": "9da60d04-d1ca-4ea8-b5b1-a747db948401",
   "metadata": {},
   "outputs": [],
   "source": [
    "l=[1,2,3,4,5]"
   ]
  },
  {
   "cell_type": "code",
   "execution_count": 35,
   "id": "95e48933-2b4d-4d29-97d1-23a2d42c7410",
   "metadata": {},
   "outputs": [],
   "source": [
    "l1=[]"
   ]
  },
  {
   "cell_type": "code",
   "execution_count": 36,
   "id": "8857c66b-3acd-4040-a1fd-7459e019dead",
   "metadata": {},
   "outputs": [],
   "source": [
    "for i in \"mukhil\":\n",
    "    l1.append(i)"
   ]
  },
  {
   "cell_type": "code",
   "execution_count": 37,
   "id": "6df3319b-b77d-4afa-a0a5-8d6b91a5754c",
   "metadata": {},
   "outputs": [
    {
     "data": {
      "text/plain": [
       "['m', 'u', 'k', 'h', 'i', 'l']"
      ]
     },
     "execution_count": 37,
     "metadata": {},
     "output_type": "execute_result"
    }
   ],
   "source": [
    "l1"
   ]
  },
  {
   "cell_type": "code",
   "execution_count": 42,
   "id": "0f7afe55-19a0-4f70-97d9-ae9b8c7a9e8b",
   "metadata": {},
   "outputs": [
    {
     "data": {
      "text/plain": [
       "['m', 'u', 'k', 'h', 'i', 'l']"
      ]
     },
     "execution_count": 42,
     "metadata": {},
     "output_type": "execute_result"
    }
   ],
   "source": [
    "#list Comprehension\n",
    "l1=[]\n",
    "[i for i in \"mukhil\"]"
   ]
  },
  {
   "cell_type": "markdown",
   "id": "792f05bb-e4be-4f8c-b441-5869873e8ddd",
   "metadata": {},
   "source": [
    "# l1"
   ]
  },
  {
   "cell_type": "code",
   "execution_count": 45,
   "id": "a08d4996-aa49-49da-9680-e5ff0afd6593",
   "metadata": {},
   "outputs": [],
   "source": [
    "l1=[]\n",
    "for i in range(10):\n",
    "    if i%2==0:\n",
    "        l1.append(i)"
   ]
  },
  {
   "cell_type": "code",
   "execution_count": 46,
   "id": "589c5fe9-2396-4c6a-bf81-71d71ec1f765",
   "metadata": {},
   "outputs": [
    {
     "data": {
      "text/plain": [
       "[0, 2, 4, 6, 8]"
      ]
     },
     "execution_count": 46,
     "metadata": {},
     "output_type": "execute_result"
    }
   ],
   "source": [
    "l1"
   ]
  },
  {
   "cell_type": "code",
   "execution_count": 47,
   "id": "ef205b8a-7f83-42ef-93fc-1ad234c5b87f",
   "metadata": {},
   "outputs": [
    {
     "data": {
      "text/plain": [
       "[0, 2, 4, 6, 8]"
      ]
     },
     "execution_count": 47,
     "metadata": {},
     "output_type": "execute_result"
    }
   ],
   "source": [
    "[i for i in range(10) if i%2==0]"
   ]
  },
  {
   "cell_type": "code",
   "execution_count": 50,
   "id": "08ea6d86-c5a0-4e82-a2a1-95e8488c2e5f",
   "metadata": {},
   "outputs": [],
   "source": [
    "l=[]\n",
    "for i in range(10):\n",
    "    if i%2!=0:\n",
    "        l.append(\"odd\")\n",
    "    else:\n",
    "        l.append(\"even\")"
   ]
  },
  {
   "cell_type": "code",
   "execution_count": 51,
   "id": "5b1f2c16-db03-4ba6-9267-39ab574f33d3",
   "metadata": {},
   "outputs": [
    {
     "data": {
      "text/plain": [
       "['even', 'odd', 'even', 'odd', 'even', 'odd', 'even', 'odd', 'even', 'odd']"
      ]
     },
     "execution_count": 51,
     "metadata": {},
     "output_type": "execute_result"
    }
   ],
   "source": [
    "l"
   ]
  },
  {
   "cell_type": "code",
   "execution_count": 52,
   "id": "5094a1ba-4721-4591-95a3-331b7341e41d",
   "metadata": {},
   "outputs": [
    {
     "data": {
      "text/plain": [
       "['even', 'odd', 'even', 'odd', 'even', 'odd', 'even', 'odd', 'even', 'odd']"
      ]
     },
     "execution_count": 52,
     "metadata": {},
     "output_type": "execute_result"
    }
   ],
   "source": [
    "[\"odd\" if i%2 !=0 else \"even\" for i in range(10)]"
   ]
  },
  {
   "cell_type": "code",
   "execution_count": 53,
   "id": "37e570b7-8a67-4d39-b36d-a8a826d83189",
   "metadata": {},
   "outputs": [
    {
     "data": {
      "text/plain": [
       "[[0, 1, 2], [0, 1, 2], [0, 1, 2]]"
      ]
     },
     "execution_count": 53,
     "metadata": {},
     "output_type": "execute_result"
    }
   ],
   "source": [
    "mat=[]\n",
    "for i in range(3):\n",
    "    mat.append([])\n",
    "    for j in range(3):\n",
    "        mat[i].append(j)\n",
    "mat"
   ]
  },
  {
   "cell_type": "code",
   "execution_count": 54,
   "id": "5f95794b-3fd4-47e8-8f1f-80e788e1ec19",
   "metadata": {},
   "outputs": [
    {
     "data": {
      "text/plain": [
       "[[0, 1, 2], [0, 1, 2], [0, 1, 2]]"
      ]
     },
     "execution_count": 54,
     "metadata": {},
     "output_type": "execute_result"
    }
   ],
   "source": [
    "[[ j for j in range(3)] for i in range(3)]"
   ]
  },
  {
   "cell_type": "code",
   "execution_count": 56,
   "id": "26baec35-73c9-42d3-a57c-d2dc0f208557",
   "metadata": {},
   "outputs": [
    {
     "data": {
      "text/plain": [
       "[0, 6]"
      ]
     },
     "execution_count": 56,
     "metadata": {},
     "output_type": "execute_result"
    }
   ],
   "source": [
    "[ i for i in range(8) if i%2==0 if i%3==0]"
   ]
  },
  {
   "cell_type": "code",
   "execution_count": 57,
   "id": "153ef865-fca3-42d0-a8c9-f8e496e09654",
   "metadata": {},
   "outputs": [],
   "source": [
    "l=[]\n",
    "for i in range(8):\n",
    "    if i%2==0:\n",
    "        if i%3==0:\n",
    "            l.append(i)"
   ]
  },
  {
   "cell_type": "code",
   "execution_count": 58,
   "id": "868365d0-54ba-4d8c-a60c-8612c906145f",
   "metadata": {},
   "outputs": [
    {
     "data": {
      "text/plain": [
       "[0, 6]"
      ]
     },
     "execution_count": 58,
     "metadata": {},
     "output_type": "execute_result"
    }
   ],
   "source": [
    "l"
   ]
  },
  {
   "cell_type": "raw",
   "id": "583e8d72-b940-4b7c-bcdc-0d77ffa2227e",
   "metadata": {},
   "source": [
    "l=[]\n",
    "fo"
   ]
  }
 ],
 "metadata": {
  "kernelspec": {
   "display_name": "Python 3 (ipykernel)",
   "language": "python",
   "name": "python3"
  },
  "language_info": {
   "codemirror_mode": {
    "name": "ipython",
    "version": 3
   },
   "file_extension": ".py",
   "mimetype": "text/x-python",
   "name": "python",
   "nbconvert_exporter": "python",
   "pygments_lexer": "ipython3",
   "version": "3.10.6"
  }
 },
 "nbformat": 4,
 "nbformat_minor": 5
}
