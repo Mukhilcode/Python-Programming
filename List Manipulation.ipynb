{
 "cells": [
  {
   "cell_type": "code",
   "execution_count": 1,
   "id": "269416ab",
   "metadata": {},
   "outputs": [],
   "source": [
    "a=\"mukh\"\n"
   ]
  },
  {
   "cell_type": "code",
   "execution_count": 2,
   "id": "101d1ca3",
   "metadata": {},
   "outputs": [
    {
     "data": {
      "text/plain": [
       "'mukh'"
      ]
     },
     "execution_count": 2,
     "metadata": {},
     "output_type": "execute_result"
    }
   ],
   "source": [
    "a"
   ]
  },
  {
   "cell_type": "code",
   "execution_count": 2,
   "id": "8591d6d3",
   "metadata": {},
   "outputs": [],
   "source": [
    "c=\"this is my 1st DS, thats why i have'understand' joined\""
   ]
  },
  {
   "cell_type": "code",
   "execution_count": 3,
   "id": "0a5fc31c",
   "metadata": {},
   "outputs": [
    {
     "data": {
      "text/plain": [
       "\"this is my 1st DS, thats why i have'understand' joined\""
      ]
     },
     "execution_count": 3,
     "metadata": {},
     "output_type": "execute_result"
    }
   ],
   "source": [
    "c"
   ]
  },
  {
   "cell_type": "code",
   "execution_count": 4,
   "id": "4106a8ab",
   "metadata": {},
   "outputs": [
    {
     "data": {
      "text/plain": [
       "'ti s'"
      ]
     },
     "execution_count": 4,
     "metadata": {},
     "output_type": "execute_result"
    }
   ],
   "source": [
    "c[0:8:2]"
   ]
  },
  {
   "cell_type": "code",
   "execution_count": 5,
   "id": "64627961",
   "metadata": {},
   "outputs": [],
   "source": [
    "l=[\"dill\",34,54,3,4,3]"
   ]
  },
  {
   "cell_type": "code",
   "execution_count": 13,
   "id": "fb9558e2",
   "metadata": {},
   "outputs": [],
   "source": [
    "#List is a mutable object i.e. list allows item assignement in particular index\n",
    "l[1]=\"jill\""
   ]
  },
  {
   "cell_type": "code",
   "execution_count": 14,
   "id": "4fbf2a01",
   "metadata": {},
   "outputs": [
    {
     "data": {
      "text/plain": [
       "['dill', 'jill', 54, 3, 4, 3]"
      ]
     },
     "execution_count": 14,
     "metadata": {},
     "output_type": "execute_result"
    }
   ],
   "source": [
    "l"
   ]
  },
  {
   "cell_type": "code",
   "execution_count": 15,
   "id": "adf670d6",
   "metadata": {},
   "outputs": [
    {
     "data": {
      "text/plain": [
       "\"this is my 1st DS, thats why i have'understand' joined\""
      ]
     },
     "execution_count": 15,
     "metadata": {},
     "output_type": "execute_result"
    }
   ],
   "source": [
    "c"
   ]
  },
  {
   "cell_type": "code",
   "execution_count": 16,
   "id": "aa270472",
   "metadata": {},
   "outputs": [
    {
     "ename": "TypeError",
     "evalue": "'str' object does not support item assignment",
     "output_type": "error",
     "traceback": [
      "\u001b[1;31m---------------------------------------------------------------------------\u001b[0m",
      "\u001b[1;31mTypeError\u001b[0m                                 Traceback (most recent call last)",
      "\u001b[1;32m<ipython-input-16-2e1255c37f74>\u001b[0m in \u001b[0;36m<module>\u001b[1;34m\u001b[0m\n\u001b[1;32m----> 1\u001b[1;33m \u001b[0mc\u001b[0m\u001b[1;33m[\u001b[0m\u001b[1;36m0\u001b[0m\u001b[1;33m]\u001b[0m\u001b[1;33m=\u001b[0m\u001b[1;34m\"oil\"\u001b[0m\u001b[1;33m\u001b[0m\u001b[1;33m\u001b[0m\u001b[0m\n\u001b[0m",
      "\u001b[1;31mTypeError\u001b[0m: 'str' object does not support item assignment"
     ]
    }
   ],
   "source": [
    "#string is immutable object\n",
    "c[0]=\"oil\""
   ]
  },
  {
   "cell_type": "code",
   "execution_count": 17,
   "id": "757ed18f",
   "metadata": {},
   "outputs": [
    {
     "name": "stdout",
     "output_type": "stream",
     "text": [
      "t\n",
      "h\n",
      "i\n",
      "s\n",
      " \n",
      "i\n",
      "s\n",
      " \n",
      "m\n",
      "y\n",
      " \n",
      "1\n",
      "s\n",
      "t\n",
      " \n",
      "D\n",
      "S\n",
      ",\n",
      " \n",
      "t\n",
      "h\n",
      "a\n",
      "t\n",
      "s\n",
      " \n",
      "w\n",
      "h\n",
      "y\n",
      " \n",
      "i\n",
      " \n",
      "h\n",
      "a\n",
      "v\n",
      "e\n",
      "'\n",
      "u\n",
      "n\n",
      "d\n",
      "e\n",
      "r\n",
      "s\n",
      "t\n",
      "a\n",
      "n\n",
      "d\n",
      "'\n",
      " \n",
      "j\n",
      "o\n",
      "i\n",
      "n\n",
      "e\n",
      "d\n"
     ]
    }
   ],
   "source": [
    "for i in range(len(c)):\n",
    "    print(c[i])\n",
    "    "
   ]
  },
  {
   "cell_type": "code",
   "execution_count": 1,
   "id": "32ba7ea2",
   "metadata": {},
   "outputs": [
    {
     "ename": "NameError",
     "evalue": "name 'c' is not defined",
     "output_type": "error",
     "traceback": [
      "\u001b[1;31m---------------------------------------------------------------------------\u001b[0m",
      "\u001b[1;31mNameError\u001b[0m                                 Traceback (most recent call last)",
      "\u001b[1;32m<ipython-input-1-2b66fd261ee5>\u001b[0m in \u001b[0;36m<module>\u001b[1;34m\u001b[0m\n\u001b[1;32m----> 1\u001b[1;33m \u001b[0mc\u001b[0m\u001b[1;33m\u001b[0m\u001b[1;33m\u001b[0m\u001b[0m\n\u001b[0m",
      "\u001b[1;31mNameError\u001b[0m: name 'c' is not defined"
     ]
    }
   ],
   "source": [
    "c"
   ]
  },
  {
   "cell_type": "code",
   "execution_count": 6,
   "id": "56d46249",
   "metadata": {},
   "outputs": [
    {
     "data": {
      "text/plain": [
       "\"this is my 1st DS, thats why i have'understand' joined\""
      ]
     },
     "execution_count": 6,
     "metadata": {},
     "output_type": "execute_result"
    }
   ],
   "source": [
    "c"
   ]
  },
  {
   "cell_type": "code",
   "execution_count": 7,
   "id": "07311985",
   "metadata": {},
   "outputs": [
    {
     "data": {
      "text/plain": [
       "2"
      ]
     },
     "execution_count": 7,
     "metadata": {},
     "output_type": "execute_result"
    }
   ],
   "source": [
    "c.find(\"is\")"
   ]
  },
  {
   "cell_type": "code",
   "execution_count": 8,
   "id": "a301b579",
   "metadata": {},
   "outputs": [
    {
     "name": "stdout",
     "output_type": "stream",
     "text": [
      "25\n",
      "26\n",
      "27\n"
     ]
    }
   ],
   "source": [
    "b=c.find(\"why\")\n",
    "for i in range(len(\"why\")):\n",
    "    print(b+i)\n",
    "    "
   ]
  },
  {
   "cell_type": "code",
   "execution_count": 10,
   "id": "4923f29a",
   "metadata": {},
   "outputs": [
    {
     "data": {
      "text/plain": [
       "3"
      ]
     },
     "execution_count": 10,
     "metadata": {},
     "output_type": "execute_result"
    }
   ],
   "source": [
    "c.count(\"a\")"
   ]
  },
  {
   "cell_type": "code",
   "execution_count": 11,
   "id": "18481b24",
   "metadata": {},
   "outputs": [
    {
     "data": {
      "text/plain": [
       "['this',\n",
       " 'is',\n",
       " 'my',\n",
       " '1st',\n",
       " 'DS,',\n",
       " 'thats',\n",
       " 'why',\n",
       " 'i',\n",
       " \"have'understand'\",\n",
       " 'joined']"
      ]
     },
     "execution_count": 11,
     "metadata": {},
     "output_type": "execute_result"
    }
   ],
   "source": [
    "c.split()"
   ]
  },
  {
   "cell_type": "code",
   "execution_count": 12,
   "id": "951c3a4f",
   "metadata": {},
   "outputs": [
    {
     "data": {
      "text/plain": [
       "list"
      ]
     },
     "execution_count": 12,
     "metadata": {},
     "output_type": "execute_result"
    }
   ],
   "source": [
    "type(c.split())"
   ]
  },
  {
   "cell_type": "code",
   "execution_count": 13,
   "id": "7417ecee",
   "metadata": {},
   "outputs": [
    {
     "data": {
      "text/plain": [
       "[\"this is my 1st DS, thats why i have'u\", 'dersta', \"d' joi\", 'ed']"
      ]
     },
     "execution_count": 13,
     "metadata": {},
     "output_type": "execute_result"
    }
   ],
   "source": [
    "c.split(\"n\")"
   ]
  },
  {
   "cell_type": "code",
   "execution_count": 14,
   "id": "e3a480d4",
   "metadata": {},
   "outputs": [
    {
     "data": {
      "text/plain": [
       "\"THIS IS MY 1ST DS, THATS WHY I HAVE'UNDERSTAND' JOINED\""
      ]
     },
     "execution_count": 14,
     "metadata": {},
     "output_type": "execute_result"
    }
   ],
   "source": [
    "c.upper()"
   ]
  },
  {
   "cell_type": "code",
   "execution_count": 15,
   "id": "86c8f1e7",
   "metadata": {},
   "outputs": [
    {
     "data": {
      "text/plain": [
       "\"this is my 1st ds, thats why i have'understand' joined\""
      ]
     },
     "execution_count": 15,
     "metadata": {},
     "output_type": "execute_result"
    }
   ],
   "source": [
    "c.lower()"
   ]
  },
  {
   "cell_type": "code",
   "execution_count": 17,
   "id": "738c7e38",
   "metadata": {},
   "outputs": [
    {
     "data": {
      "text/plain": [
       "\"t h i s   i s   m y   1 s t   D S ,   t h a t s   w h y   i   h a v e ' u n d e r s t a n d '   j o i n e d\""
      ]
     },
     "execution_count": 17,
     "metadata": {},
     "output_type": "execute_result"
    }
   ],
   "source": [
    "\" \".join(c)"
   ]
  },
  {
   "cell_type": "code",
   "execution_count": 18,
   "id": "03c997e1",
   "metadata": {},
   "outputs": [
    {
     "data": {
      "text/plain": [
       "\"this is my 1st DS, thats why i have'understand' joined\""
      ]
     },
     "execution_count": 18,
     "metadata": {},
     "output_type": "execute_result"
    }
   ],
   "source": [
    "c"
   ]
  },
  {
   "cell_type": "code",
   "execution_count": 21,
   "id": "b7d125e1",
   "metadata": {},
   "outputs": [],
   "source": [
    "b=reversed(c)"
   ]
  },
  {
   "cell_type": "code",
   "execution_count": 26,
   "id": "af94f70c",
   "metadata": {},
   "outputs": [],
   "source": [
    "s=\"   killer    \""
   ]
  },
  {
   "cell_type": "code",
   "execution_count": 27,
   "id": "45c859d4",
   "metadata": {},
   "outputs": [
    {
     "data": {
      "text/plain": [
       "'killer'"
      ]
     },
     "execution_count": 27,
     "metadata": {},
     "output_type": "execute_result"
    }
   ],
   "source": [
    "s.strip()"
   ]
  },
  {
   "cell_type": "code",
   "execution_count": 28,
   "id": "eec66e22",
   "metadata": {},
   "outputs": [
    {
     "data": {
      "text/plain": [
       "'killer    '"
      ]
     },
     "execution_count": 28,
     "metadata": {},
     "output_type": "execute_result"
    }
   ],
   "source": [
    "s.lstrip()"
   ]
  },
  {
   "cell_type": "code",
   "execution_count": 29,
   "id": "a8bc47d2",
   "metadata": {},
   "outputs": [
    {
     "data": {
      "text/plain": [
       "'   killer'"
      ]
     },
     "execution_count": 29,
     "metadata": {},
     "output_type": "execute_result"
    }
   ],
   "source": [
    "s.rstrip()"
   ]
  },
  {
   "cell_type": "code",
   "execution_count": 31,
   "id": "afc1a2e1",
   "metadata": {},
   "outputs": [
    {
     "data": {
      "text/plain": [
       "'   kioasdoasder    '"
      ]
     },
     "execution_count": 31,
     "metadata": {},
     "output_type": "execute_result"
    }
   ],
   "source": [
    "s.replace(\"l\",\"oasd\")"
   ]
  },
  {
   "cell_type": "code",
   "execution_count": 33,
   "id": "e1c60b98",
   "metadata": {},
   "outputs": [
    {
     "data": {
      "text/plain": [
       "'   killer    '"
      ]
     },
     "execution_count": 33,
     "metadata": {},
     "output_type": "execute_result"
    }
   ],
   "source": [
    "#string is immutable\n",
    "s"
   ]
  },
  {
   "cell_type": "code",
   "execution_count": 40,
   "id": "7cd5bf50",
   "metadata": {},
   "outputs": [
    {
     "data": {
      "text/plain": [
       "'@@@@@@@@@@@@@@@@@@@@@   killer    @@@@@@@@@@@@@@@@@@@@@@'"
      ]
     },
     "execution_count": 40,
     "metadata": {},
     "output_type": "execute_result"
    }
   ],
   "source": [
    "s.center(56,'@')"
   ]
  },
  {
   "cell_type": "code",
   "execution_count": 41,
   "id": "a35d6d7c",
   "metadata": {},
   "outputs": [],
   "source": [
    "#a=\"we all are part of full stack\"\n",
    "#normalize all the string in lower case\n",
    "#find number of occurences of \"a\" in entire data\n",
    "#find all the location/index of \"a\" in string\n",
    "#replace all the \"a\" with ineuron\n",
    "#print all the word as a list"
   ]
  },
  {
   "cell_type": "code",
   "execution_count": 48,
   "id": "2de40863",
   "metadata": {},
   "outputs": [
    {
     "ename": "SyntaxError",
     "evalue": "invalid syntax (<ipython-input-48-fafa77a23732>, line 6)",
     "output_type": "error",
     "traceback": [
      "\u001b[1;36m  File \u001b[1;32m\"<ipython-input-48-fafa77a23732>\"\u001b[1;36m, line \u001b[1;32m6\u001b[0m\n\u001b[1;33m    for i in range(len(b):\u001b[0m\n\u001b[1;37m                         ^\u001b[0m\n\u001b[1;31mSyntaxError\u001b[0m\u001b[1;31m:\u001b[0m invalid syntax\n"
     ]
    }
   ],
   "source": []
  },
  {
   "cell_type": "code",
   "execution_count": 3,
   "id": "9f58d1e9",
   "metadata": {},
   "outputs": [
    {
     "name": "stdout",
     "output_type": "stream",
     "text": [
      "we all are part of full stack\n",
      "4\n",
      "3\n",
      "7\n",
      "12\n",
      "26\n"
     ]
    },
    {
     "data": {
      "text/plain": [
       "['we', 'all', 'are', 'part', 'of', 'full', 'stack']"
      ]
     },
     "execution_count": 3,
     "metadata": {},
     "output_type": "execute_result"
    }
   ],
   "source": [
    "a=\"we all are part of full stack\"\n",
    "print(a.lower())\n",
    "c=a.count(\"a\")\n",
    "print(c)\n",
    "for i in range(len(a)):\n",
    "    if(a[i]==\"a\"):\n",
    "        print(i)\n",
    "a.replace(\"a\",\"ineuron\")\n",
    "a.split()"
   ]
  },
  {
   "cell_type": "code",
   "execution_count": 5,
   "id": "6f79ee0c",
   "metadata": {},
   "outputs": [
    {
     "data": {
      "text/plain": [
       "False"
      ]
     },
     "execution_count": 5,
     "metadata": {},
     "output_type": "execute_result"
    }
   ],
   "source": [
    "a.isupper()"
   ]
  },
  {
   "cell_type": "code",
   "execution_count": 6,
   "id": "064f4bff",
   "metadata": {},
   "outputs": [],
   "source": [
    "s=\"UIHDER\""
   ]
  },
  {
   "cell_type": "code",
   "execution_count": 7,
   "id": "dcb2d7f0",
   "metadata": {},
   "outputs": [
    {
     "data": {
      "text/plain": [
       "True"
      ]
     },
     "execution_count": 7,
     "metadata": {},
     "output_type": "execute_result"
    }
   ],
   "source": [
    "s.isupper()"
   ]
  },
  {
   "cell_type": "code",
   "execution_count": 11,
   "id": "87a6d4d9",
   "metadata": {},
   "outputs": [
    {
     "name": "stdout",
     "output_type": "stream",
     "text": [
      "29\n"
     ]
    }
   ],
   "source": [
    "count=0\n",
    "for i in a:\n",
    "    count=count+1\n",
    "print(count)"
   ]
  },
  {
   "cell_type": "code",
   "execution_count": 13,
   "id": "fdc43b5a",
   "metadata": {},
   "outputs": [
    {
     "name": "stdout",
     "output_type": "stream",
     "text": [
      "w\n",
      "k\n",
      "c\n",
      "a\n",
      "t\n",
      "s\n",
      " \n",
      "l\n",
      "l\n",
      "u\n",
      "f\n",
      " \n",
      "f\n",
      "o\n",
      " \n",
      "t\n",
      "r\n",
      "a\n",
      "p\n",
      " \n",
      "e\n",
      "r\n",
      "a\n",
      " \n",
      "l\n",
      "l\n",
      "a\n",
      " \n",
      "e\n"
     ]
    }
   ],
   "source": [
    "for i in range(len(a)):\n",
    "    print(a[-i])"
   ]
  },
  {
   "cell_type": "code",
   "execution_count": 2,
   "id": "dcf0a840",
   "metadata": {},
   "outputs": [
    {
     "name": "stdout",
     "output_type": "stream",
     "text": [
      "l\n",
      "i\n",
      "h\n",
      "k\n",
      "u\n",
      "m\n"
     ]
    }
   ],
   "source": [
    "s=\"mukhil\"\n",
    "ch=len(s)-1 #length of string\n",
    "while ch>=0: \n",
    "    print(s[ch])\n",
    "    ch=ch-1"
   ]
  },
  {
   "cell_type": "code",
   "execution_count": 4,
   "id": "5fabf997",
   "metadata": {},
   "outputs": [
    {
     "name": "stdout",
     "output_type": "stream",
     "text": [
      "i is a vowel\n",
      "n is not a vowel\n",
      "e is a vowel\n",
      "u is a vowel\n",
      "r is not a vowel\n",
      "o is a vowel\n",
      "n is not a vowel\n"
     ]
    }
   ],
   "source": [
    "name=\"ineuron\"\n",
    "vowels=\"AeEeIiOoUu\"\n",
    "\n",
    "for i in name:\n",
    "    if i in vowels:\n",
    "        print(\"{} is a vowel\".format(i))\n",
    "    else:\n",
    "        print(\"{} is not a vowel\".format(i))"
   ]
  },
  {
   "cell_type": "code",
   "execution_count": 5,
   "id": "82b311e8",
   "metadata": {},
   "outputs": [
    {
     "data": {
      "text/plain": [
       "str"
      ]
     },
     "execution_count": 5,
     "metadata": {},
     "output_type": "execute_result"
    }
   ],
   "source": [
    "type(format(i))"
   ]
  },
  {
   "cell_type": "code",
   "execution_count": 6,
   "id": "b868233d",
   "metadata": {},
   "outputs": [
    {
     "data": {
      "text/plain": [
       "'my name is Mukhil'"
      ]
     },
     "execution_count": 6,
     "metadata": {},
     "output_type": "execute_result"
    }
   ],
   "source": [
    "#Format\n",
    "\"{} name is Mukhil\".format(\"my\")"
   ]
  },
  {
   "cell_type": "code",
   "execution_count": 7,
   "id": "aa22181f",
   "metadata": {},
   "outputs": [
    {
     "name": "stdout",
     "output_type": "stream",
     "text": [
      "adsasd\n",
      "asdasgdg\n"
     ]
    }
   ],
   "source": [
    "a=input()\n",
    "b=input()"
   ]
  },
  {
   "cell_type": "code",
   "execution_count": 8,
   "id": "9dda7385",
   "metadata": {},
   "outputs": [
    {
     "data": {
      "text/plain": [
       "'adsasd name asdasgdg like i am'"
      ]
     },
     "execution_count": 8,
     "metadata": {},
     "output_type": "execute_result"
    }
   ],
   "source": [
    "\"{} name {} like i am\".format(a,b)"
   ]
  },
  {
   "cell_type": "code",
   "execution_count": 9,
   "id": "e23baf35",
   "metadata": {},
   "outputs": [
    {
     "name": "stdout",
     "output_type": "stream",
     "text": [
      "enter a data for which you would like a plaindromekite\n",
      "not palindrome\n"
     ]
    }
   ],
   "source": [
    "#palindrome\n",
    "a=\"aya\"\n",
    "b=2002\n",
    "c=\"eye\"\n",
    "s=input(\"enter a data for which you would like a plaindrome\")\n",
    "s1=s[::-1]\n",
    "if s==s1:\n",
    "    print(\"its palindrome\")\n",
    "else:\n",
    "    print(\"not palindrome\")\n",
    "    "
   ]
  },
  {
   "cell_type": "code",
   "execution_count": null,
   "id": "e86ad0e6",
   "metadata": {},
   "outputs": [],
   "source": []
  }
 ],
 "metadata": {
  "kernelspec": {
   "display_name": "Python 3",
   "language": "python",
   "name": "python3"
  },
  "language_info": {
   "codemirror_mode": {
    "name": "ipython",
    "version": 3
   },
   "file_extension": ".py",
   "mimetype": "text/x-python",
   "name": "python",
   "nbconvert_exporter": "python",
   "pygments_lexer": "ipython3",
   "version": "3.8.8"
  }
 },
 "nbformat": 4,
 "nbformat_minor": 5
}
