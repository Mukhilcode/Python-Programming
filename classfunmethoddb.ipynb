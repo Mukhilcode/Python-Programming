{
 "cells": [
  {
   "cell_type": "code",
   "execution_count": 9,
   "id": "267995f4-de80-4999-8659-39232b49e77b",
   "metadata": {},
   "outputs": [],
   "source": [
    "class Tyres:\n",
    "    def __init__(self,branch,belted_bias,opt_pressure):\n",
    "        self.branch=branch\n",
    "        self.belted_bias=belted_bias\n",
    "        self.opt_pressure=opt_pressure\n",
    "        \n",
    "    def __str__(self):\n",
    "        return (\"tyres:\\n \\tBranch:\" +self.branch +\n",
    "                \"\\n \\tBelted-bias: \" +str(self.belted_bias) +\n",
    "                \"\\n \\tOptimal pressure\" + str(self.opt_pressure))\n",
    "    \n",
    "class Engine:\n",
    "    def __init__(self,fuel_type,noise_level):\n",
    "        self.fuel_type=fuel_type\n",
    "        self.noise_level=noise_level\n",
    "        \n",
    "    def __str__(self):\n",
    "        \n",
    "        return (\"engine: \\n \\tFuel type\" +self.fuel_type+\n",
    "                \"\\n \\t Noise level: \" +str(self.noise_level))\n",
    "    \n",
    "class Body:\n",
    "    def __init__(self,size):\n",
    "        self.size=size\n",
    "        \n",
    "    def __str__(self):\n",
    "        return \"Body \\n \\tSize: \" +self.size\n",
    "    \n",
    "\n",
    "class Car:\n",
    "    def __init__(self,name, tyres,engine,body):\n",
    "        self.name=name\n",
    "        self.tyres=tyres\n",
    "        self.engine=engine\n",
    "        self.body=body\n",
    "        \n",
    "    def __str__(self):\n",
    "        return str(self.tyres) +\"\\n\"+str(self.engine) + \"\\n\"+ str(self.body) + \"\\n\" +str(self.name)\n",
    "    \n",
    "    \n",
    "        "
   ]
  },
  {
   "cell_type": "code",
   "execution_count": 10,
   "id": "062c0407-6676-49bd-8762-6a104eee4089",
   "metadata": {},
   "outputs": [],
   "source": [
    "t=Tyres(\"pirelli\",True,23)\n",
    "e=Engine(\"pETROL\",32)\n",
    "b=Body(\"Large\")"
   ]
  },
  {
   "cell_type": "code",
   "execution_count": 11,
   "id": "5c8c7f62-1163-434a-9375-da4f05c8899c",
   "metadata": {},
   "outputs": [],
   "source": [
    "c=Car(\"Toyota\",t,e,b)"
   ]
  },
  {
   "cell_type": "code",
   "execution_count": 12,
   "id": "8844ffbe-5c91-4d9e-b5bc-1093ae78b3fb",
   "metadata": {},
   "outputs": [
    {
     "name": "stdout",
     "output_type": "stream",
     "text": [
      "tyres:\n",
      " \tBranch:pirelli\n",
      " \tBelted-bias: True\n",
      " \tOptimal pressure23\n",
      "engine: \n",
      " \tFuel typepETROL\n",
      " \t Noise level: 32\n",
      "Body \n",
      " \tSize: Large\n",
      "Toyota\n"
     ]
    }
   ],
   "source": [
    "print(c)"
   ]
  },
  {
   "cell_type": "code",
   "execution_count": 15,
   "id": "53a87ed8-b467-4a33-880b-a9796074b2df",
   "metadata": {},
   "outputs": [
    {
     "name": "stdout",
     "output_type": "stream",
     "text": [
      "10\n"
     ]
    }
   ],
   "source": [
    "class parent:\n",
    "    \n",
    "    a=10\n",
    "    b=30\n",
    "    def __init__(self,parent_a,parent_b):\n",
    "        self.parent_a=parent-a\n",
    "        self.parent_b=parent_b\n",
    "        \n",
    "        \n",
    "class child(parent):\n",
    "    def __init__(self,*args):\n",
    "        super(child,self).__init__(*args)\n",
    "        \n",
    "        \n",
    "        "
   ]
  },
  {
   "cell_type": "code",
   "execution_count": 16,
   "id": "fa8c9fd6-69ea-483f-a08d-09d09bbe702b",
   "metadata": {},
   "outputs": [],
   "source": [
    "class Dog:\n",
    "    def __init__(self,name,year_of_birth,breed):\n",
    "        self.name=name\n",
    "        self.year_of_birth=year_of_birth\n",
    "        self.breed=breed\n",
    "        \n",
    "    def __str__(self):\n",
    "        return \"%s is a %s born in %d \" %(self.name, self.breed,self.year_of_birth)"
   ]
  },
  {
   "cell_type": "code",
   "execution_count": 30,
   "id": "af5bea3e-8108-4b50-b207-6576018b4845",
   "metadata": {},
   "outputs": [],
   "source": [
    "d1=Dog(\"labrdor\",12356,\"maiden\")\n",
    "d2=Dog(\"la\",12356,\"maiden\")\n",
    "d3=Dog(\"labr\",12356,\"maiden\")"
   ]
  },
  {
   "cell_type": "code",
   "execution_count": 29,
   "id": "e719a783-dc7e-470d-81bd-3c824c522203",
   "metadata": {},
   "outputs": [],
   "source": [
    "d1=Dog(\"labrdor\",12356,\"maiden\")"
   ]
  },
  {
   "cell_type": "code",
   "execution_count": 18,
   "id": "2d1701f3-260e-4fce-848c-ef55d159dceb",
   "metadata": {},
   "outputs": [
    {
     "name": "stdout",
     "output_type": "stream",
     "text": [
      "labrdor is a maiden born in 12356 \n"
     ]
    }
   ],
   "source": [
    "print(k)"
   ]
  },
  {
   "cell_type": "code",
   "execution_count": 26,
   "id": "48fd697e-a618-43a0-8bf7-bb7b74646db3",
   "metadata": {},
   "outputs": [],
   "source": [
    "class student:\n",
    "    def __init__(self, name,school_name, student_id,address):\n",
    "        self.name=name\n",
    "        self.school_name=school_name\n",
    "        self.student_id=student_id\n",
    "        self.address=address\n",
    "        \n",
    "        \n",
    "    def __str__(self):\n",
    "        return str(self.name)+\" \" + str(self.school_name)+\" \"+ str(self.student_id) + \"  \"+ str(self.school_name)        \n",
    "                 \n",
    "                 "
   ]
  },
  {
   "cell_type": "code",
   "execution_count": 35,
   "id": "cc798fb8-ca11-4c33-8719-a6d04b23e408",
   "metadata": {},
   "outputs": [],
   "source": [
    "stu=student(d1,\"sadasdasd\", 234,\"ineuron\")"
   ]
  },
  {
   "cell_type": "code",
   "execution_count": 36,
   "id": "fc00482a-ea02-46fe-8a81-4d32b715eeb8",
   "metadata": {},
   "outputs": [
    {
     "name": "stdout",
     "output_type": "stream",
     "text": [
      "labrdor is a maiden born in 12356  sadasdasd 234  sadasdasd\n"
     ]
    }
   ],
   "source": [
    "print(stu)"
   ]
  },
  {
   "cell_type": "code",
   "execution_count": 2,
   "id": "6764d373-03fa-479a-81ce-6c663b733168",
   "metadata": {},
   "outputs": [],
   "source": [
    "class Bonusdistribution:\n",
    "    def __init__(self, employeeID, employeeRating):\n",
    "        self.employeeID=employeeID\n",
    "        self.employeeRating=employeeRating\n",
    "        self.__bonusforRatingA=\"70%\"#private\n",
    "        self.__bonusforRatingB=\"80%\"#private\n",
    "        self.__bonusforRatingC=\"50%\"#private\n",
    "        self.__bonusforRatingD=\"60%\"#private\n",
    "        self.__bonusforRatingForRest=\"No Bonus\"\n",
    "        \n",
    "    def bonusCalculator(self):\n",
    "               \n",
    "        if self.empRating == 'A':\n",
    "            bonus = self.__bonusforRatingA\n",
    "            msg = \"Bonus for this employee is :\"+ bonus\n",
    "            return msg\n",
    "        elif self.empRating == 'B':\n",
    "            bonus = self.__bonusforRatingB\n",
    "            msg = \"Bonus for this employee is :\"+ bonus\n",
    "            return msg\n",
    "        elif self.empRating == 'C':\n",
    "            bonus = self.__bonusforRatingC\n",
    "            msg = \"Bonus for this employee is :\"+ bonus\n",
    "            return msg\n",
    "        elif self.empRating == 'D':\n",
    "            bonus = self.__bonusforRatingD\n",
    "            msg = \"Bonus for this employee is :\"+ bonus\n",
    "            return msg\n",
    "        else:\n",
    "            bonus = self.__bonusforRatingForRest\n",
    "            msg = \"Bonus for this employee is :\"+ bonus\n",
    "            return msg\n",
    "        \n",
    "    def __changevariable(self , value) : \n",
    "         self.__bonusforRatingB = value\n",
    "\n",
    "        "
   ]
  },
  {
   "cell_type": "code",
   "execution_count": 15,
   "id": "2d851249-068b-408a-a098-9e02d4d3d814",
   "metadata": {},
   "outputs": [],
   "source": [
    "class multiplenumeric():\n",
    "    def __init__(self,a):\n",
    "        self.a=a\n",
    "        \n",
    "    def __mul__(self,other):\n",
    "        return self.a- other.a"
   ]
  },
  {
   "cell_type": "code",
   "execution_count": 16,
   "id": "ff3f5062-b56a-408c-92a6-71bef00b4065",
   "metadata": {},
   "outputs": [],
   "source": [
    "mul=multiplenumeric(8)\n",
    "mul1=multiplenumeric(5)"
   ]
  },
  {
   "cell_type": "code",
   "execution_count": 17,
   "id": "9ae0e30a-1645-465b-99bd-8da96343a502",
   "metadata": {},
   "outputs": [
    {
     "data": {
      "text/plain": [
       "3"
      ]
     },
     "execution_count": 17,
     "metadata": {},
     "output_type": "execute_result"
    }
   ],
   "source": [
    "mul*mul1"
   ]
  },
  {
   "cell_type": "code",
   "execution_count": 23,
   "id": "bcbd0424-e918-4f30-acdb-fb53b809450a",
   "metadata": {},
   "outputs": [],
   "source": [
    "#Polymorphism\n",
    "def test(a,b):\n",
    "    return a+b\n"
   ]
  },
  {
   "cell_type": "code",
   "execution_count": 24,
   "id": "23c0e5d7-71b8-433b-9780-c0695e396639",
   "metadata": {},
   "outputs": [
    {
     "name": "stdout",
     "output_type": "stream",
     "text": [
      "12\n",
      "mukhilrajendran\n",
      "[23, 42, 4, 1, 2, 4, 1, 41]\n"
     ]
    }
   ],
   "source": [
    "print(test(5,7))\n",
    "print(test(\"mukhil\" , \"rajendran\"))\n",
    "print(test([23,42,4,1],[2,4,1,41]))"
   ]
  },
  {
   "cell_type": "code",
   "execution_count": 25,
   "id": "916cb2c5-a702-460a-894c-6132fcf7e9fb",
   "metadata": {},
   "outputs": [],
   "source": [
    "class ineuron:\n",
    "    def msg(self):\n",
    "        print(\"this is a msg to ineuron\")\n",
    "        \n",
    "class xyz:\n",
    "    def msg(self):\n",
    "        print(\"this is a msg to xyz\")\n",
    "        \n",
    "    "
   ]
  },
  {
   "cell_type": "code",
   "execution_count": 26,
   "id": "84c44325-1045-4dc1-8e7c-44248e48bfc6",
   "metadata": {},
   "outputs": [],
   "source": [
    "def test(notes):\n",
    "    notes.msg()"
   ]
  },
  {
   "cell_type": "code",
   "execution_count": 27,
   "id": "cfa249b0-e247-42d5-b48a-5ac575667a2d",
   "metadata": {},
   "outputs": [],
   "source": [
    "o=ineuron()"
   ]
  },
  {
   "cell_type": "code",
   "execution_count": 28,
   "id": "882cb904-3610-4f26-8486-aa9fcb36b557",
   "metadata": {},
   "outputs": [],
   "source": [
    "x=xyz()"
   ]
  },
  {
   "cell_type": "code",
   "execution_count": 30,
   "id": "1065cc03-b195-47e3-a940-64c73ede2366",
   "metadata": {},
   "outputs": [
    {
     "name": "stdout",
     "output_type": "stream",
     "text": [
      "this is a msg to ineuron\n"
     ]
    }
   ],
   "source": [
    "test(o)"
   ]
  },
  {
   "cell_type": "code",
   "execution_count": 31,
   "id": "60832a5f-8e45-4cfb-a6f6-15b67dd8142c",
   "metadata": {},
   "outputs": [
    {
     "name": "stdout",
     "output_type": "stream",
     "text": [
      "this is a msg to xyz\n"
     ]
    }
   ],
   "source": [
    "test(x)"
   ]
  },
  {
   "cell_type": "code",
   "execution_count": null,
   "id": "9b67941b-35e6-4d8c-96a4-a4eaffc3c0aa",
   "metadata": {},
   "outputs": [],
   "source": []
  }
 ],
 "metadata": {
  "kernelspec": {
   "display_name": "Python 3 (ipykernel)",
   "language": "python",
   "name": "python3"
  },
  "language_info": {
   "codemirror_mode": {
    "name": "ipython",
    "version": 3
   },
   "file_extension": ".py",
   "mimetype": "text/x-python",
   "name": "python",
   "nbconvert_exporter": "python",
   "pygments_lexer": "ipython3",
   "version": "3.10.6"
  }
 },
 "nbformat": 4,
 "nbformat_minor": 5
}
